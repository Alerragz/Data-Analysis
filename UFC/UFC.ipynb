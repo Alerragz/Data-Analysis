{
 "cells": [
  {
   "cell_type": "code",
   "execution_count": 64,
   "metadata": {},
   "outputs": [],
   "source": [
    "import pandas as pd\n",
    "import matplotlib.pyplot as plt\n",
    "import numpy as np\n",
    "import seaborn as sns\n",
    "import plotly.graph_objects as go"
   ]
  },
  {
   "cell_type": "code",
   "execution_count": 65,
   "metadata": {},
   "outputs": [
    {
     "name": "stderr",
     "output_type": "stream",
     "text": [
      "C:\\Users\\AL3RR4GZ\\AppData\\Local\\Temp\\ipykernel_4604\\1223515632.py:1: DtypeWarning:\n",
      "\n",
      "Columns (20) have mixed types. Specify dtype option on import or set low_memory=False.\n",
      "\n"
     ]
    }
   ],
   "source": [
    "df = pd.read_csv('https://query.data.world/s/ujqgd4dkc26fuxtsfm4pfzxy6l72bl?dws=00000')"
   ]
  },
  {
   "cell_type": "code",
   "execution_count": 66,
   "metadata": {},
   "outputs": [
    {
     "data": {
      "text/html": [
       "<div>\n",
       "<style scoped>\n",
       "    .dataframe tbody tr th:only-of-type {\n",
       "        vertical-align: middle;\n",
       "    }\n",
       "\n",
       "    .dataframe tbody tr th {\n",
       "        vertical-align: top;\n",
       "    }\n",
       "\n",
       "    .dataframe thead th {\n",
       "        text-align: right;\n",
       "    }\n",
       "</style>\n",
       "<table border=\"1\" class=\"dataframe\">\n",
       "  <thead>\n",
       "    <tr style=\"text-align: right;\">\n",
       "      <th></th>\n",
       "      <th>Date</th>\n",
       "      <th>Event-Code</th>\n",
       "      <th>Event-Name</th>\n",
       "      <th>Full Name</th>\n",
       "      <th>Fighter-2-Name</th>\n",
       "      <th>W</th>\n",
       "      <th>L</th>\n",
       "      <th>D</th>\n",
       "      <th>NC</th>\n",
       "      <th>KO/TKO</th>\n",
       "      <th>...</th>\n",
       "      <th>Round-5-Takedown-Percent</th>\n",
       "      <th>Round-5-Submission-Attempt</th>\n",
       "      <th>Round-5-Submission-Reverse</th>\n",
       "      <th>Round-5-Control-Time</th>\n",
       "      <th>Round-5-Head</th>\n",
       "      <th>Round-5-Body</th>\n",
       "      <th>Round-5-Leg</th>\n",
       "      <th>Round-5-Distance</th>\n",
       "      <th>Round-5-Clinch</th>\n",
       "      <th>Round-5-Ground</th>\n",
       "    </tr>\n",
       "    <tr>\n",
       "      <th>Index</th>\n",
       "      <th></th>\n",
       "      <th></th>\n",
       "      <th></th>\n",
       "      <th></th>\n",
       "      <th></th>\n",
       "      <th></th>\n",
       "      <th></th>\n",
       "      <th></th>\n",
       "      <th></th>\n",
       "      <th></th>\n",
       "      <th></th>\n",
       "      <th></th>\n",
       "      <th></th>\n",
       "      <th></th>\n",
       "      <th></th>\n",
       "      <th></th>\n",
       "      <th></th>\n",
       "      <th></th>\n",
       "      <th></th>\n",
       "      <th></th>\n",
       "      <th></th>\n",
       "    </tr>\n",
       "  </thead>\n",
       "  <tbody>\n",
       "    <tr>\n",
       "      <th>0</th>\n",
       "      <td>2021-03-06 00:00:00</td>\n",
       "      <td>6e2b1d631832921d</td>\n",
       "      <td>UFC 259: Blachowicz vs. Adesanya</td>\n",
       "      <td>Aalon Cruz</td>\n",
       "      <td>Uros Medic</td>\n",
       "      <td>0</td>\n",
       "      <td>1</td>\n",
       "      <td>0</td>\n",
       "      <td>0</td>\n",
       "      <td>1</td>\n",
       "      <td>...</td>\n",
       "      <td>0</td>\n",
       "      <td>0</td>\n",
       "      <td>0</td>\n",
       "      <td>NaN</td>\n",
       "      <td>NaN</td>\n",
       "      <td>NaN</td>\n",
       "      <td>NaN</td>\n",
       "      <td>NaN</td>\n",
       "      <td>NaN</td>\n",
       "      <td>NaN</td>\n",
       "    </tr>\n",
       "    <tr>\n",
       "      <th>1</th>\n",
       "      <td>2020-02-29 00:00:00</td>\n",
       "      <td>fc9a9559a05f2704</td>\n",
       "      <td>UFC Fight Night: Benavidez vs. Figueiredo</td>\n",
       "      <td>Aalon Cruz</td>\n",
       "      <td>Spike Carlyle</td>\n",
       "      <td>0</td>\n",
       "      <td>1</td>\n",
       "      <td>0</td>\n",
       "      <td>0</td>\n",
       "      <td>1</td>\n",
       "      <td>...</td>\n",
       "      <td>0</td>\n",
       "      <td>0</td>\n",
       "      <td>0</td>\n",
       "      <td>NaN</td>\n",
       "      <td>NaN</td>\n",
       "      <td>NaN</td>\n",
       "      <td>NaN</td>\n",
       "      <td>NaN</td>\n",
       "      <td>NaN</td>\n",
       "      <td>NaN</td>\n",
       "    </tr>\n",
       "    <tr>\n",
       "      <th>2</th>\n",
       "      <td>2000-11-17 00:00:00</td>\n",
       "      <td>da6dfd09cca1d705</td>\n",
       "      <td>UFC 28: High Stakes</td>\n",
       "      <td>Aaron Brink</td>\n",
       "      <td>Andrei Arlovski</td>\n",
       "      <td>0</td>\n",
       "      <td>1</td>\n",
       "      <td>0</td>\n",
       "      <td>0</td>\n",
       "      <td>0</td>\n",
       "      <td>...</td>\n",
       "      <td>0</td>\n",
       "      <td>0</td>\n",
       "      <td>0</td>\n",
       "      <td>NaN</td>\n",
       "      <td>NaN</td>\n",
       "      <td>NaN</td>\n",
       "      <td>NaN</td>\n",
       "      <td>NaN</td>\n",
       "      <td>NaN</td>\n",
       "      <td>NaN</td>\n",
       "    </tr>\n",
       "    <tr>\n",
       "      <th>3</th>\n",
       "      <td>2014-08-23 00:00:00</td>\n",
       "      <td>063649e21bc9d6d5</td>\n",
       "      <td>UFC Fight Night: Henderson vs Dos Anjos</td>\n",
       "      <td>Aaron Phillips</td>\n",
       "      <td>Matt Hobar</td>\n",
       "      <td>0</td>\n",
       "      <td>1</td>\n",
       "      <td>0</td>\n",
       "      <td>0</td>\n",
       "      <td>0</td>\n",
       "      <td>...</td>\n",
       "      <td>0</td>\n",
       "      <td>0</td>\n",
       "      <td>0</td>\n",
       "      <td>NaN</td>\n",
       "      <td>NaN</td>\n",
       "      <td>NaN</td>\n",
       "      <td>NaN</td>\n",
       "      <td>NaN</td>\n",
       "      <td>NaN</td>\n",
       "      <td>NaN</td>\n",
       "    </tr>\n",
       "    <tr>\n",
       "      <th>4</th>\n",
       "      <td>2020-07-15 00:00:00</td>\n",
       "      <td>18f5669a92e99d92</td>\n",
       "      <td>UFC Fight Night: Kattar vs. Ige</td>\n",
       "      <td>Aaron Phillips</td>\n",
       "      <td>Jack Shore</td>\n",
       "      <td>0</td>\n",
       "      <td>1</td>\n",
       "      <td>0</td>\n",
       "      <td>0</td>\n",
       "      <td>0</td>\n",
       "      <td>...</td>\n",
       "      <td>0</td>\n",
       "      <td>0</td>\n",
       "      <td>0</td>\n",
       "      <td>NaN</td>\n",
       "      <td>NaN</td>\n",
       "      <td>NaN</td>\n",
       "      <td>NaN</td>\n",
       "      <td>NaN</td>\n",
       "      <td>NaN</td>\n",
       "      <td>NaN</td>\n",
       "    </tr>\n",
       "    <tr>\n",
       "      <th>5</th>\n",
       "      <td>2014-05-24 00:00:00</td>\n",
       "      <td>9ca265dfe8323db3</td>\n",
       "      <td>UFC 173: Barao vs Dillashaw</td>\n",
       "      <td>Aaron Phillips</td>\n",
       "      <td>Sam Sicilia</td>\n",
       "      <td>0</td>\n",
       "      <td>1</td>\n",
       "      <td>0</td>\n",
       "      <td>0</td>\n",
       "      <td>0</td>\n",
       "      <td>...</td>\n",
       "      <td>0</td>\n",
       "      <td>0</td>\n",
       "      <td>0</td>\n",
       "      <td>NaN</td>\n",
       "      <td>NaN</td>\n",
       "      <td>NaN</td>\n",
       "      <td>NaN</td>\n",
       "      <td>NaN</td>\n",
       "      <td>NaN</td>\n",
       "      <td>NaN</td>\n",
       "    </tr>\n",
       "    <tr>\n",
       "      <th>6</th>\n",
       "      <td>2009-03-07 00:00:00</td>\n",
       "      <td>29b5791e51e7e832</td>\n",
       "      <td>UFC 96: Jackson vs Jardine</td>\n",
       "      <td>Aaron Riley</td>\n",
       "      <td>Shane Nelson</td>\n",
       "      <td>0</td>\n",
       "      <td>1</td>\n",
       "      <td>0</td>\n",
       "      <td>0</td>\n",
       "      <td>1</td>\n",
       "      <td>...</td>\n",
       "      <td>0</td>\n",
       "      <td>0</td>\n",
       "      <td>0</td>\n",
       "      <td>NaN</td>\n",
       "      <td>NaN</td>\n",
       "      <td>NaN</td>\n",
       "      <td>NaN</td>\n",
       "      <td>NaN</td>\n",
       "      <td>NaN</td>\n",
       "      <td>NaN</td>\n",
       "    </tr>\n",
       "    <tr>\n",
       "      <th>7</th>\n",
       "      <td>2006-01-16 00:00:00</td>\n",
       "      <td>2ee09ec2a0695eb9</td>\n",
       "      <td>UFC Fight Night 3</td>\n",
       "      <td>Aaron Riley</td>\n",
       "      <td>Spencer Fisher</td>\n",
       "      <td>0</td>\n",
       "      <td>1</td>\n",
       "      <td>0</td>\n",
       "      <td>0</td>\n",
       "      <td>0</td>\n",
       "      <td>...</td>\n",
       "      <td>0</td>\n",
       "      <td>0</td>\n",
       "      <td>0</td>\n",
       "      <td>NaN</td>\n",
       "      <td>NaN</td>\n",
       "      <td>NaN</td>\n",
       "      <td>NaN</td>\n",
       "      <td>NaN</td>\n",
       "      <td>NaN</td>\n",
       "      <td>NaN</td>\n",
       "    </tr>\n",
       "    <tr>\n",
       "      <th>8</th>\n",
       "      <td>2009-08-08 00:00:00</td>\n",
       "      <td>48d1f690b763934c</td>\n",
       "      <td>UFC 101: Declaration</td>\n",
       "      <td>Aaron Riley</td>\n",
       "      <td>Shane Nelson</td>\n",
       "      <td>1</td>\n",
       "      <td>0</td>\n",
       "      <td>0</td>\n",
       "      <td>0</td>\n",
       "      <td>0</td>\n",
       "      <td>...</td>\n",
       "      <td>0</td>\n",
       "      <td>0</td>\n",
       "      <td>0</td>\n",
       "      <td>NaN</td>\n",
       "      <td>NaN</td>\n",
       "      <td>NaN</td>\n",
       "      <td>NaN</td>\n",
       "      <td>NaN</td>\n",
       "      <td>NaN</td>\n",
       "      <td>NaN</td>\n",
       "    </tr>\n",
       "    <tr>\n",
       "      <th>9</th>\n",
       "      <td>2013-07-27 00:00:00</td>\n",
       "      <td>5330fe7e4c3af81c</td>\n",
       "      <td>UFC on FOX: Johnson vs Moraga</td>\n",
       "      <td>Aaron Riley</td>\n",
       "      <td>Justin Salas</td>\n",
       "      <td>0</td>\n",
       "      <td>1</td>\n",
       "      <td>0</td>\n",
       "      <td>0</td>\n",
       "      <td>0</td>\n",
       "      <td>...</td>\n",
       "      <td>0</td>\n",
       "      <td>0</td>\n",
       "      <td>0</td>\n",
       "      <td>NaN</td>\n",
       "      <td>NaN</td>\n",
       "      <td>NaN</td>\n",
       "      <td>NaN</td>\n",
       "      <td>NaN</td>\n",
       "      <td>NaN</td>\n",
       "      <td>NaN</td>\n",
       "    </tr>\n",
       "  </tbody>\n",
       "</table>\n",
       "<p>10 rows × 170 columns</p>\n",
       "</div>"
      ],
      "text/plain": [
       "                      Date        Event-Code  \\\n",
       "Index                                          \n",
       "0      2021-03-06 00:00:00  6e2b1d631832921d   \n",
       "1      2020-02-29 00:00:00  fc9a9559a05f2704   \n",
       "2      2000-11-17 00:00:00  da6dfd09cca1d705   \n",
       "3      2014-08-23 00:00:00  063649e21bc9d6d5   \n",
       "4      2020-07-15 00:00:00  18f5669a92e99d92   \n",
       "5      2014-05-24 00:00:00  9ca265dfe8323db3   \n",
       "6      2009-03-07 00:00:00  29b5791e51e7e832   \n",
       "7      2006-01-16 00:00:00  2ee09ec2a0695eb9   \n",
       "8      2009-08-08 00:00:00  48d1f690b763934c   \n",
       "9      2013-07-27 00:00:00  5330fe7e4c3af81c   \n",
       "\n",
       "                                      Event-Name       Full Name  \\\n",
       "Index                                                              \n",
       "0               UFC 259: Blachowicz vs. Adesanya      Aalon Cruz   \n",
       "1      UFC Fight Night: Benavidez vs. Figueiredo      Aalon Cruz   \n",
       "2                            UFC 28: High Stakes     Aaron Brink   \n",
       "3        UFC Fight Night: Henderson vs Dos Anjos  Aaron Phillips   \n",
       "4                UFC Fight Night: Kattar vs. Ige  Aaron Phillips   \n",
       "5                    UFC 173: Barao vs Dillashaw  Aaron Phillips   \n",
       "6                     UFC 96: Jackson vs Jardine     Aaron Riley   \n",
       "7                              UFC Fight Night 3     Aaron Riley   \n",
       "8                           UFC 101: Declaration     Aaron Riley   \n",
       "9                  UFC on FOX: Johnson vs Moraga     Aaron Riley   \n",
       "\n",
       "        Fighter-2-Name  W  L  D  NC  KO/TKO  ...  Round-5-Takedown-Percent  \\\n",
       "Index                                        ...                             \n",
       "0           Uros Medic  0  1  0   0       1  ...                         0   \n",
       "1        Spike Carlyle  0  1  0   0       1  ...                         0   \n",
       "2      Andrei Arlovski  0  1  0   0       0  ...                         0   \n",
       "3           Matt Hobar  0  1  0   0       0  ...                         0   \n",
       "4           Jack Shore  0  1  0   0       0  ...                         0   \n",
       "5          Sam Sicilia  0  1  0   0       0  ...                         0   \n",
       "6         Shane Nelson  0  1  0   0       1  ...                         0   \n",
       "7       Spencer Fisher  0  1  0   0       0  ...                         0   \n",
       "8         Shane Nelson  1  0  0   0       0  ...                         0   \n",
       "9         Justin Salas  0  1  0   0       0  ...                         0   \n",
       "\n",
       "       Round-5-Submission-Attempt  Round-5-Submission-Reverse  \\\n",
       "Index                                                           \n",
       "0                               0                           0   \n",
       "1                               0                           0   \n",
       "2                               0                           0   \n",
       "3                               0                           0   \n",
       "4                               0                           0   \n",
       "5                               0                           0   \n",
       "6                               0                           0   \n",
       "7                               0                           0   \n",
       "8                               0                           0   \n",
       "9                               0                           0   \n",
       "\n",
       "       Round-5-Control-Time  Round-5-Head  Round-5-Body  Round-5-Leg  \\\n",
       "Index                                                                  \n",
       "0                       NaN           NaN           NaN          NaN   \n",
       "1                       NaN           NaN           NaN          NaN   \n",
       "2                       NaN           NaN           NaN          NaN   \n",
       "3                       NaN           NaN           NaN          NaN   \n",
       "4                       NaN           NaN           NaN          NaN   \n",
       "5                       NaN           NaN           NaN          NaN   \n",
       "6                       NaN           NaN           NaN          NaN   \n",
       "7                       NaN           NaN           NaN          NaN   \n",
       "8                       NaN           NaN           NaN          NaN   \n",
       "9                       NaN           NaN           NaN          NaN   \n",
       "\n",
       "       Round-5-Distance  Round-5-Clinch Round-5-Ground  \n",
       "Index                                                   \n",
       "0                   NaN             NaN            NaN  \n",
       "1                   NaN             NaN            NaN  \n",
       "2                   NaN             NaN            NaN  \n",
       "3                   NaN             NaN            NaN  \n",
       "4                   NaN             NaN            NaN  \n",
       "5                   NaN             NaN            NaN  \n",
       "6                   NaN             NaN            NaN  \n",
       "7                   NaN             NaN            NaN  \n",
       "8                   NaN             NaN            NaN  \n",
       "9                   NaN             NaN            NaN  \n",
       "\n",
       "[10 rows x 170 columns]"
      ]
     },
     "execution_count": 66,
     "metadata": {},
     "output_type": "execute_result"
    }
   ],
   "source": [
    "df = df.rename(columns={\"Unnamed: 0\": \"Index\"})\n",
    "df = df.set_index(\"Index\")\n",
    "df.head(10)"
   ]
  },
  {
   "cell_type": "code",
   "execution_count": 67,
   "metadata": {},
   "outputs": [
    {
     "data": {
      "text/plain": [
       "<bound method NDFrame.describe of                       Date        Event-Code  \\\n",
       "Index                                          \n",
       "0      2021-03-06 00:00:00  6e2b1d631832921d   \n",
       "1      2020-02-29 00:00:00  fc9a9559a05f2704   \n",
       "2      2000-11-17 00:00:00  da6dfd09cca1d705   \n",
       "3      2014-08-23 00:00:00  063649e21bc9d6d5   \n",
       "4      2020-07-15 00:00:00  18f5669a92e99d92   \n",
       "...                    ...               ...   \n",
       "12151  2014-10-04 00:00:00  8dc4f34c1f50d00d   \n",
       "12152  2016-05-14 00:00:00  a4bf17bd3ba3423b   \n",
       "12153  2019-09-07 00:00:00  a79bfbc01b2264d6   \n",
       "12154  2015-12-10 00:00:00  dd39f1ca787a3d9d   \n",
       "12155  2020-09-26 00:00:00  e69c5ce12f4e762b   \n",
       "\n",
       "                                      Event-Name         Full Name  \\\n",
       "Index                                                                \n",
       "0               UFC 259: Blachowicz vs. Adesanya        Aalon Cruz   \n",
       "1      UFC Fight Night: Benavidez vs. Figueiredo        Aalon Cruz   \n",
       "2                            UFC 28: High Stakes       Aaron Brink   \n",
       "3        UFC Fight Night: Henderson vs Dos Anjos    Aaron Phillips   \n",
       "4                UFC Fight Night: Kattar vs. Ige    Aaron Phillips   \n",
       "...                                          ...               ...   \n",
       "12151           UFC Fight Night: Nelson vs Story  Zubaira Tukhugov   \n",
       "12152                  UFC 198: Werdum vs Miocic  Zubaira Tukhugov   \n",
       "12153                UFC 242: Khabib vs. Poirier  Zubaira Tukhugov   \n",
       "12154     UFC Fight Night: Namajunas vs. VanZant  Zubaira Tukhugov   \n",
       "12155                UFC 253: Adesanya vs. Costa  Zubaira Tukhugov   \n",
       "\n",
       "        Fighter-2-Name  W  L  D  NC  KO/TKO  ...  Round-5-Takedown-Percent  \\\n",
       "Index                                        ...                             \n",
       "0           Uros Medic  0  1  0   0       1  ...                         0   \n",
       "1        Spike Carlyle  0  1  0   0       1  ...                         0   \n",
       "2      Andrei Arlovski  0  1  0   0       0  ...                         0   \n",
       "3           Matt Hobar  0  1  0   0       0  ...                         0   \n",
       "4           Jack Shore  0  1  0   0       0  ...                         0   \n",
       "...                ... .. .. ..  ..     ...  ...                       ...   \n",
       "12151    Ernest Chavez  1  0  0   0       1  ...                         0   \n",
       "12152   Renato Moicano  0  1  0   0       0  ...                         0   \n",
       "12153    Lerone Murphy  0  0  1   0       0  ...                         0   \n",
       "12154   Phillipe Nover  1  0  0   0       0  ...                         0   \n",
       "12155    Hakeem Dawodu  0  1  0   0       0  ...                         0   \n",
       "\n",
       "       Round-5-Submission-Attempt  Round-5-Submission-Reverse  \\\n",
       "Index                                                           \n",
       "0                               0                           0   \n",
       "1                               0                           0   \n",
       "2                               0                           0   \n",
       "3                               0                           0   \n",
       "4                               0                           0   \n",
       "...                           ...                         ...   \n",
       "12151                           0                           0   \n",
       "12152                           0                           0   \n",
       "12153                           0                           0   \n",
       "12154                           0                           0   \n",
       "12155                           0                           0   \n",
       "\n",
       "       Round-5-Control-Time  Round-5-Head  Round-5-Body  Round-5-Leg  \\\n",
       "Index                                                                  \n",
       "0                       NaN           NaN           NaN          NaN   \n",
       "1                       NaN           NaN           NaN          NaN   \n",
       "2                       NaN           NaN           NaN          NaN   \n",
       "3                       NaN           NaN           NaN          NaN   \n",
       "4                       NaN           NaN           NaN          NaN   \n",
       "...                     ...           ...           ...          ...   \n",
       "12151                   NaN           NaN           NaN          NaN   \n",
       "12152                   NaN           NaN           NaN          NaN   \n",
       "12153                   NaN           NaN           NaN          NaN   \n",
       "12154                   NaN           NaN           NaN          NaN   \n",
       "12155                   NaN           NaN           NaN          NaN   \n",
       "\n",
       "       Round-5-Distance  Round-5-Clinch Round-5-Ground  \n",
       "Index                                                   \n",
       "0                   NaN             NaN            NaN  \n",
       "1                   NaN             NaN            NaN  \n",
       "2                   NaN             NaN            NaN  \n",
       "3                   NaN             NaN            NaN  \n",
       "4                   NaN             NaN            NaN  \n",
       "...                 ...             ...            ...  \n",
       "12151               NaN             NaN            NaN  \n",
       "12152               NaN             NaN            NaN  \n",
       "12153               NaN             NaN            NaN  \n",
       "12154               NaN             NaN            NaN  \n",
       "12155               NaN             NaN            NaN  \n",
       "\n",
       "[12156 rows x 170 columns]>"
      ]
     },
     "execution_count": 67,
     "metadata": {},
     "output_type": "execute_result"
    }
   ],
   "source": [
    "df.describe"
   ]
  },
  {
   "cell_type": "code",
   "execution_count": 68,
   "metadata": {},
   "outputs": [
    {
     "data": {
      "text/plain": [
       "['Date',\n",
       " 'Event-Code',\n",
       " 'Event-Name',\n",
       " 'Full Name',\n",
       " 'Fighter-2-Name',\n",
       " 'W',\n",
       " 'L',\n",
       " 'D',\n",
       " 'NC',\n",
       " 'KO/TKO',\n",
       " 'Submission',\n",
       " 'Decision - Unanimous',\n",
       " 'Decision - Majority',\n",
       " 'Decision - Split',\n",
       " \"TKO - Doctor's Stoppage\",\n",
       " 'DQ',\n",
       " 'Overturned',\n",
       " 'Could Not Continue',\n",
       " 'Other',\n",
       " 'Details',\n",
       " 'Judge-1-Name',\n",
       " 'Judge-1-Score',\n",
       " 'Judge-2-Name',\n",
       " 'Judge-2-Score',\n",
       " 'Judge-3-Name',\n",
       " 'Judge-3-Score',\n",
       " 'Finish-Time',\n",
       " 'Finish-Round',\n",
       " 'Total-Rounds',\n",
       " 'Total-Fight-Time-Sec',\n",
       " 'Referee',\n",
       " 'Belt',\n",
       " \"Women's-Bout\",\n",
       " 'Interim-Bout',\n",
       " 'Strawweight',\n",
       " 'Flyweight',\n",
       " 'Bantamweight',\n",
       " 'Featherweight',\n",
       " 'Lightweight',\n",
       " 'Welterweight',\n",
       " 'Middleweight',\n",
       " 'Light-Heavyweight',\n",
       " 'Heavyweight',\n",
       " 'Catch-Weight',\n",
       " 'Open-Weight',\n",
       " 'Super-Heavyweight',\n",
       " 'Superfight',\n",
       " 'Fight-Bonus',\n",
       " 'Performance-Bonus',\n",
       " 'KO-Bonus',\n",
       " 'Submission-Bonus',\n",
       " 'Knockdowns',\n",
       " 'Significant-Strike-Land',\n",
       " 'Significant-Strike-Attempt',\n",
       " 'Significant-Strike-Percent',\n",
       " 'Total-Strikes-Land',\n",
       " 'Total-Strikes-Attempt',\n",
       " 'Takedown-Success',\n",
       " 'Takedown-Land',\n",
       " 'Takedown-Percent',\n",
       " 'Submission-Attempt',\n",
       " 'Submission-Reverse',\n",
       " 'Control-Time-Sec',\n",
       " 'Head-Land',\n",
       " 'Head-Attempt',\n",
       " 'Body-Land',\n",
       " 'Body-Attempt',\n",
       " 'Leg-Land',\n",
       " 'Leg-Attempt',\n",
       " 'Distance-Land',\n",
       " 'Distance-Attempt',\n",
       " 'Clinch-Land',\n",
       " 'Clinch-Attempt',\n",
       " 'Ground-Land',\n",
       " 'Ground-Attempt',\n",
       " 'Fighter-Active-Status',\n",
       " 'Fight-City',\n",
       " 'Fight-State',\n",
       " 'Fight-Country',\n",
       " 'PPV-Sales',\n",
       " 'Height',\n",
       " 'Weight',\n",
       " 'Reach',\n",
       " 'Stance',\n",
       " 'Date of Birth',\n",
       " 'SLpM',\n",
       " 'StrAcc',\n",
       " 'SApM',\n",
       " 'StrDef',\n",
       " 'TdAvg',\n",
       " 'TdAcc',\n",
       " 'TdDef',\n",
       " 'SubAvg',\n",
       " 'Age-Days',\n",
       " 'Age',\n",
       " 'Round-1-Knockdown',\n",
       " 'Round-1-Significant-Strikes',\n",
       " 'Round-1-Significant-Strikes-Percent',\n",
       " 'Round-1-Total-Strikes',\n",
       " 'Round-1-Takedowns',\n",
       " 'Round-1-Takedown-Percent',\n",
       " 'Round-1-Submission-Attempt',\n",
       " 'Round-1-Submission-Reverse',\n",
       " 'Round-1-Control-Time',\n",
       " 'Round-1-Head',\n",
       " 'Round-1-Body',\n",
       " 'Round-1-Leg',\n",
       " 'Round-1-Distance',\n",
       " 'Round-1-Clinch',\n",
       " 'Round-1-Ground',\n",
       " 'Round-2-Knockdown',\n",
       " 'Round-2-Significant-Strikes',\n",
       " 'Round-2-Significant-Strikes-Percent',\n",
       " 'Round-2-Total-Strikes',\n",
       " 'Round-2-Takedowns',\n",
       " 'Round-2-Takedown-Percent',\n",
       " 'Round-2-Submission-Attempt',\n",
       " 'Round-2-Submission-Reverse',\n",
       " 'Round-2-Control-Time',\n",
       " 'Round-2-Head',\n",
       " 'Round-2-Body',\n",
       " 'Round-2-Leg',\n",
       " 'Round-2-Distance',\n",
       " 'Round-2-Clinch',\n",
       " 'Round-2-Ground',\n",
       " 'Round-3-Knockdown',\n",
       " 'Round-3-Significant-Strikes',\n",
       " 'Round-3-Significant-Strikes-Percent',\n",
       " 'Round-3-Total-Strikes',\n",
       " 'Round-3-Takedowns',\n",
       " 'Round-3-Takedown-Percent',\n",
       " 'Round-3-Submission-Attempt',\n",
       " 'Round-3-Submission-Reverse',\n",
       " 'Round-3-Control-Time',\n",
       " 'Round-3-Head',\n",
       " 'Round-3-Body',\n",
       " 'Round-3-Leg',\n",
       " 'Round-3-Distance',\n",
       " 'Round-3-Clinch',\n",
       " 'Round-3-Ground',\n",
       " 'Round-4-Knockdown',\n",
       " 'Round-4-Significant-Strikes',\n",
       " 'Round-4-Significant-Strikes-Percent',\n",
       " 'Round-4-Total-Strikes',\n",
       " 'Round-4-Takedowns',\n",
       " 'Round-4-Takedown-Percent',\n",
       " 'Round-4-Submission-Attempt',\n",
       " 'Round-4-Submission-Reverse',\n",
       " 'Round-4-Control-Time',\n",
       " 'Round-4-Head',\n",
       " 'Round-4-Body',\n",
       " 'Round-4-Leg',\n",
       " 'Round-4-Distance',\n",
       " 'Round-4-Clinch',\n",
       " 'Round-4-Ground',\n",
       " 'Round-5-Knockdown',\n",
       " 'Round-5-Significant-Strikes',\n",
       " 'Round-5-Significant-Strikes-Percent',\n",
       " 'Round-5-Total-Strikes',\n",
       " 'Round-5-Takedowns',\n",
       " 'Round-5-Takedown-Percent',\n",
       " 'Round-5-Submission-Attempt',\n",
       " 'Round-5-Submission-Reverse',\n",
       " 'Round-5-Control-Time',\n",
       " 'Round-5-Head',\n",
       " 'Round-5-Body',\n",
       " 'Round-5-Leg',\n",
       " 'Round-5-Distance',\n",
       " 'Round-5-Clinch',\n",
       " 'Round-5-Ground']"
      ]
     },
     "execution_count": 68,
     "metadata": {},
     "output_type": "execute_result"
    }
   ],
   "source": [
    "#for column_name in df.columns:\n",
    "    #print(column_name)\n",
    "columns_to_list = list(df)\n",
    "columns_to_list"
   ]
  },
  {
   "cell_type": "code",
   "execution_count": 69,
   "metadata": {},
   "outputs": [],
   "source": [
    "# Supongamos que tienes un DataFrame llamado df\n",
    "df = df.fillna(0)"
   ]
  },
  {
   "cell_type": "code",
   "execution_count": 70,
   "metadata": {},
   "outputs": [
    {
     "name": "stdout",
     "output_type": "stream",
     "text": [
      "                  W   L  D  NC  Height  Weight  Reach    Stance  SLpM  StrAcc  \\\n",
      "Full Name                                                                       \n",
      "Donald Cerrone   23  13  0   1   6' 1\"   170.0   73.0  Orthodox  4.43      46   \n",
      "Demian Maia      22  10  0   0   6' 1\"   170.0   72.0  Southpaw  1.82      43   \n",
      "Jim Miller       21  15  0   1   5' 8\"   155.0   71.0  Southpaw  2.65      40   \n",
      "Jon Jones        20   1  0   1   6' 4\"   205.0   84.0  Orthodox  4.30      57   \n",
      "Michael Bisping  20   9  0   0   6' 1\"   185.0   75.0  Orthodox  4.33      38   \n",
      "...              ..  .. ..  ..     ...     ...    ...       ...   ...     ...   \n",
      "John Teixeira     0   1  0   0   5' 7\"   145.0    0.0  Orthodox  3.36      35   \n",
      "Johnny Munoz      0   1  0   0   5' 9\"   145.0   71.0  Orthodox  3.27      62   \n",
      "Johnny Rees       0   2  0   0   6' 0\"   170.0    0.0  Orthodox  3.29      64   \n",
      "Jon Manley        0   1  0   0   6' 1\"   170.0    0.0  Orthodox  1.13      20   \n",
      "Josh Bryant       0   1  0   0  5' 10\"   185.0    0.0  Orthodox  1.10      20   \n",
      "\n",
      "                 SApM  StrDef  TdAvg  TdAcc  TdDef  SubAvg   Age  Total Fights  \n",
      "Full Name                                                                       \n",
      "Donald Cerrone   4.49      53   1.18     33     74     1.2  36.0            37  \n",
      "Demian Maia      2.03      63   2.55     26     61     1.0  32.0            32  \n",
      "Jim Miller       2.92      59   1.63     43     47     1.8  35.0            37  \n",
      "Jon Jones        2.22      64   1.85     44     95     0.4  21.0            22  \n",
      "Michael Bisping  2.71      65   1.05     43     63     0.3  28.0            29  \n",
      "...               ...     ...    ...    ...    ...     ...   ...           ...  \n",
      "John Teixeira    3.20      63   1.00     27     71     0.7  25.0             1  \n",
      "Johnny Munoz     1.40      58   2.00     12      0     1.0  27.0             1  \n",
      "Johnny Rees      0.84      47   1.15     25     50     0.0  26.0             2  \n",
      "Jon Manley       4.33      45   1.00      7     20     0.0  26.0             1  \n",
      "Josh Bryant      6.10      43   0.00      0      0     0.0  30.0             1  \n",
      "\n",
      "[2151 rows x 18 columns]\n"
     ]
    }
   ],
   "source": [
    "columnas_relevantes = [\n",
    "    'Full Name', 'W', 'L', 'D', 'NC',\n",
    "    'Height', 'Weight', 'Reach', 'Stance',\n",
    "    'SLpM', 'StrAcc', 'SApM', 'StrDef',\n",
    "    'TdAvg', 'TdAcc', 'TdDef', 'SubAvg',\n",
    "    'Age']\n",
    "agg_funcs = {\n",
    "    'W': 'sum','L': 'sum','D':'sum','NC': 'sum',\n",
    "    'Height': 'first','Weight': 'first','Reach': 'first','Stance': 'first',\n",
    "    'SLpM':'first','StrAcc': 'first','SApM':'first','StrDef':'first',\n",
    "    'TdAvg':'first','TdAcc': 'first','TdDef':'first','SubAvg':'first',\n",
    "    'Age':'first'\n",
    "    }\n",
    "dfwinners_fights=pd.DataFrame()\n",
    "dfwinners_fights= df[columnas_relevantes]\n",
    "dfwinners_fights= dfwinners_fights.groupby('Full Name').agg(agg_funcs)\n",
    "dfwinners_fights['Total Fights']=df.groupby('Full Name')['Date'].count()\n",
    "dfwinners_fights = dfwinners_fights.sort_values(by='W',ascending=False)\n",
    "print(dfwinners_fights)"
   ]
  },
  {
   "cell_type": "code",
   "execution_count": 71,
   "metadata": {},
   "outputs": [
    {
     "data": {
      "application/vnd.plotly.v1+json": {
       "config": {
        "plotlyServerURL": "https://plot.ly"
       },
       "data": [
        {
         "fill": "toself",
         "fillcolor": "rgba(255, 0, 0, 0.5)",
         "line": {
          "color": "red"
         },
         "name": "Donald Cerrone",
         "r": [
          46,
          53,
          33,
          74
         ],
         "theta": [
          "StrAcc",
          "StrDef",
          "TdAcc",
          "TdDef"
         ],
         "type": "scatterpolar"
        },
        {
         "fill": "toself",
         "fillcolor": "rgba(0, 0, 255, 0.5)",
         "line": {
          "color": "blue"
         },
         "name": "Demian Maia",
         "r": [
          43,
          63,
          26,
          61
         ],
         "theta": [
          "StrAcc",
          "StrDef",
          "TdAcc",
          "TdDef"
         ],
         "type": "scatterpolar"
        }
       ],
       "layout": {
        "polar": {
         "radialaxis": {
          "range": [
           0,
           100
          ],
          "visible": true
         }
        },
        "template": {
         "data": {
          "bar": [
           {
            "error_x": {
             "color": "#2a3f5f"
            },
            "error_y": {
             "color": "#2a3f5f"
            },
            "marker": {
             "line": {
              "color": "#E5ECF6",
              "width": 0.5
             },
             "pattern": {
              "fillmode": "overlay",
              "size": 10,
              "solidity": 0.2
             }
            },
            "type": "bar"
           }
          ],
          "barpolar": [
           {
            "marker": {
             "line": {
              "color": "#E5ECF6",
              "width": 0.5
             },
             "pattern": {
              "fillmode": "overlay",
              "size": 10,
              "solidity": 0.2
             }
            },
            "type": "barpolar"
           }
          ],
          "carpet": [
           {
            "aaxis": {
             "endlinecolor": "#2a3f5f",
             "gridcolor": "white",
             "linecolor": "white",
             "minorgridcolor": "white",
             "startlinecolor": "#2a3f5f"
            },
            "baxis": {
             "endlinecolor": "#2a3f5f",
             "gridcolor": "white",
             "linecolor": "white",
             "minorgridcolor": "white",
             "startlinecolor": "#2a3f5f"
            },
            "type": "carpet"
           }
          ],
          "choropleth": [
           {
            "colorbar": {
             "outlinewidth": 0,
             "ticks": ""
            },
            "type": "choropleth"
           }
          ],
          "contour": [
           {
            "colorbar": {
             "outlinewidth": 0,
             "ticks": ""
            },
            "colorscale": [
             [
              0,
              "#0d0887"
             ],
             [
              0.1111111111111111,
              "#46039f"
             ],
             [
              0.2222222222222222,
              "#7201a8"
             ],
             [
              0.3333333333333333,
              "#9c179e"
             ],
             [
              0.4444444444444444,
              "#bd3786"
             ],
             [
              0.5555555555555556,
              "#d8576b"
             ],
             [
              0.6666666666666666,
              "#ed7953"
             ],
             [
              0.7777777777777778,
              "#fb9f3a"
             ],
             [
              0.8888888888888888,
              "#fdca26"
             ],
             [
              1,
              "#f0f921"
             ]
            ],
            "type": "contour"
           }
          ],
          "contourcarpet": [
           {
            "colorbar": {
             "outlinewidth": 0,
             "ticks": ""
            },
            "type": "contourcarpet"
           }
          ],
          "heatmap": [
           {
            "colorbar": {
             "outlinewidth": 0,
             "ticks": ""
            },
            "colorscale": [
             [
              0,
              "#0d0887"
             ],
             [
              0.1111111111111111,
              "#46039f"
             ],
             [
              0.2222222222222222,
              "#7201a8"
             ],
             [
              0.3333333333333333,
              "#9c179e"
             ],
             [
              0.4444444444444444,
              "#bd3786"
             ],
             [
              0.5555555555555556,
              "#d8576b"
             ],
             [
              0.6666666666666666,
              "#ed7953"
             ],
             [
              0.7777777777777778,
              "#fb9f3a"
             ],
             [
              0.8888888888888888,
              "#fdca26"
             ],
             [
              1,
              "#f0f921"
             ]
            ],
            "type": "heatmap"
           }
          ],
          "heatmapgl": [
           {
            "colorbar": {
             "outlinewidth": 0,
             "ticks": ""
            },
            "colorscale": [
             [
              0,
              "#0d0887"
             ],
             [
              0.1111111111111111,
              "#46039f"
             ],
             [
              0.2222222222222222,
              "#7201a8"
             ],
             [
              0.3333333333333333,
              "#9c179e"
             ],
             [
              0.4444444444444444,
              "#bd3786"
             ],
             [
              0.5555555555555556,
              "#d8576b"
             ],
             [
              0.6666666666666666,
              "#ed7953"
             ],
             [
              0.7777777777777778,
              "#fb9f3a"
             ],
             [
              0.8888888888888888,
              "#fdca26"
             ],
             [
              1,
              "#f0f921"
             ]
            ],
            "type": "heatmapgl"
           }
          ],
          "histogram": [
           {
            "marker": {
             "pattern": {
              "fillmode": "overlay",
              "size": 10,
              "solidity": 0.2
             }
            },
            "type": "histogram"
           }
          ],
          "histogram2d": [
           {
            "colorbar": {
             "outlinewidth": 0,
             "ticks": ""
            },
            "colorscale": [
             [
              0,
              "#0d0887"
             ],
             [
              0.1111111111111111,
              "#46039f"
             ],
             [
              0.2222222222222222,
              "#7201a8"
             ],
             [
              0.3333333333333333,
              "#9c179e"
             ],
             [
              0.4444444444444444,
              "#bd3786"
             ],
             [
              0.5555555555555556,
              "#d8576b"
             ],
             [
              0.6666666666666666,
              "#ed7953"
             ],
             [
              0.7777777777777778,
              "#fb9f3a"
             ],
             [
              0.8888888888888888,
              "#fdca26"
             ],
             [
              1,
              "#f0f921"
             ]
            ],
            "type": "histogram2d"
           }
          ],
          "histogram2dcontour": [
           {
            "colorbar": {
             "outlinewidth": 0,
             "ticks": ""
            },
            "colorscale": [
             [
              0,
              "#0d0887"
             ],
             [
              0.1111111111111111,
              "#46039f"
             ],
             [
              0.2222222222222222,
              "#7201a8"
             ],
             [
              0.3333333333333333,
              "#9c179e"
             ],
             [
              0.4444444444444444,
              "#bd3786"
             ],
             [
              0.5555555555555556,
              "#d8576b"
             ],
             [
              0.6666666666666666,
              "#ed7953"
             ],
             [
              0.7777777777777778,
              "#fb9f3a"
             ],
             [
              0.8888888888888888,
              "#fdca26"
             ],
             [
              1,
              "#f0f921"
             ]
            ],
            "type": "histogram2dcontour"
           }
          ],
          "mesh3d": [
           {
            "colorbar": {
             "outlinewidth": 0,
             "ticks": ""
            },
            "type": "mesh3d"
           }
          ],
          "parcoords": [
           {
            "line": {
             "colorbar": {
              "outlinewidth": 0,
              "ticks": ""
             }
            },
            "type": "parcoords"
           }
          ],
          "pie": [
           {
            "automargin": true,
            "type": "pie"
           }
          ],
          "scatter": [
           {
            "fillpattern": {
             "fillmode": "overlay",
             "size": 10,
             "solidity": 0.2
            },
            "type": "scatter"
           }
          ],
          "scatter3d": [
           {
            "line": {
             "colorbar": {
              "outlinewidth": 0,
              "ticks": ""
             }
            },
            "marker": {
             "colorbar": {
              "outlinewidth": 0,
              "ticks": ""
             }
            },
            "type": "scatter3d"
           }
          ],
          "scattercarpet": [
           {
            "marker": {
             "colorbar": {
              "outlinewidth": 0,
              "ticks": ""
             }
            },
            "type": "scattercarpet"
           }
          ],
          "scattergeo": [
           {
            "marker": {
             "colorbar": {
              "outlinewidth": 0,
              "ticks": ""
             }
            },
            "type": "scattergeo"
           }
          ],
          "scattergl": [
           {
            "marker": {
             "colorbar": {
              "outlinewidth": 0,
              "ticks": ""
             }
            },
            "type": "scattergl"
           }
          ],
          "scattermapbox": [
           {
            "marker": {
             "colorbar": {
              "outlinewidth": 0,
              "ticks": ""
             }
            },
            "type": "scattermapbox"
           }
          ],
          "scatterpolar": [
           {
            "marker": {
             "colorbar": {
              "outlinewidth": 0,
              "ticks": ""
             }
            },
            "type": "scatterpolar"
           }
          ],
          "scatterpolargl": [
           {
            "marker": {
             "colorbar": {
              "outlinewidth": 0,
              "ticks": ""
             }
            },
            "type": "scatterpolargl"
           }
          ],
          "scatterternary": [
           {
            "marker": {
             "colorbar": {
              "outlinewidth": 0,
              "ticks": ""
             }
            },
            "type": "scatterternary"
           }
          ],
          "surface": [
           {
            "colorbar": {
             "outlinewidth": 0,
             "ticks": ""
            },
            "colorscale": [
             [
              0,
              "#0d0887"
             ],
             [
              0.1111111111111111,
              "#46039f"
             ],
             [
              0.2222222222222222,
              "#7201a8"
             ],
             [
              0.3333333333333333,
              "#9c179e"
             ],
             [
              0.4444444444444444,
              "#bd3786"
             ],
             [
              0.5555555555555556,
              "#d8576b"
             ],
             [
              0.6666666666666666,
              "#ed7953"
             ],
             [
              0.7777777777777778,
              "#fb9f3a"
             ],
             [
              0.8888888888888888,
              "#fdca26"
             ],
             [
              1,
              "#f0f921"
             ]
            ],
            "type": "surface"
           }
          ],
          "table": [
           {
            "cells": {
             "fill": {
              "color": "#EBF0F8"
             },
             "line": {
              "color": "white"
             }
            },
            "header": {
             "fill": {
              "color": "#C8D4E3"
             },
             "line": {
              "color": "white"
             }
            },
            "type": "table"
           }
          ]
         },
         "layout": {
          "annotationdefaults": {
           "arrowcolor": "#2a3f5f",
           "arrowhead": 0,
           "arrowwidth": 1
          },
          "autotypenumbers": "strict",
          "coloraxis": {
           "colorbar": {
            "outlinewidth": 0,
            "ticks": ""
           }
          },
          "colorscale": {
           "diverging": [
            [
             0,
             "#8e0152"
            ],
            [
             0.1,
             "#c51b7d"
            ],
            [
             0.2,
             "#de77ae"
            ],
            [
             0.3,
             "#f1b6da"
            ],
            [
             0.4,
             "#fde0ef"
            ],
            [
             0.5,
             "#f7f7f7"
            ],
            [
             0.6,
             "#e6f5d0"
            ],
            [
             0.7,
             "#b8e186"
            ],
            [
             0.8,
             "#7fbc41"
            ],
            [
             0.9,
             "#4d9221"
            ],
            [
             1,
             "#276419"
            ]
           ],
           "sequential": [
            [
             0,
             "#0d0887"
            ],
            [
             0.1111111111111111,
             "#46039f"
            ],
            [
             0.2222222222222222,
             "#7201a8"
            ],
            [
             0.3333333333333333,
             "#9c179e"
            ],
            [
             0.4444444444444444,
             "#bd3786"
            ],
            [
             0.5555555555555556,
             "#d8576b"
            ],
            [
             0.6666666666666666,
             "#ed7953"
            ],
            [
             0.7777777777777778,
             "#fb9f3a"
            ],
            [
             0.8888888888888888,
             "#fdca26"
            ],
            [
             1,
             "#f0f921"
            ]
           ],
           "sequentialminus": [
            [
             0,
             "#0d0887"
            ],
            [
             0.1111111111111111,
             "#46039f"
            ],
            [
             0.2222222222222222,
             "#7201a8"
            ],
            [
             0.3333333333333333,
             "#9c179e"
            ],
            [
             0.4444444444444444,
             "#bd3786"
            ],
            [
             0.5555555555555556,
             "#d8576b"
            ],
            [
             0.6666666666666666,
             "#ed7953"
            ],
            [
             0.7777777777777778,
             "#fb9f3a"
            ],
            [
             0.8888888888888888,
             "#fdca26"
            ],
            [
             1,
             "#f0f921"
            ]
           ]
          },
          "colorway": [
           "#636efa",
           "#EF553B",
           "#00cc96",
           "#ab63fa",
           "#FFA15A",
           "#19d3f3",
           "#FF6692",
           "#B6E880",
           "#FF97FF",
           "#FECB52"
          ],
          "font": {
           "color": "#2a3f5f"
          },
          "geo": {
           "bgcolor": "white",
           "lakecolor": "white",
           "landcolor": "#E5ECF6",
           "showlakes": true,
           "showland": true,
           "subunitcolor": "white"
          },
          "hoverlabel": {
           "align": "left"
          },
          "hovermode": "closest",
          "mapbox": {
           "style": "light"
          },
          "paper_bgcolor": "white",
          "plot_bgcolor": "#E5ECF6",
          "polar": {
           "angularaxis": {
            "gridcolor": "white",
            "linecolor": "white",
            "ticks": ""
           },
           "bgcolor": "#E5ECF6",
           "radialaxis": {
            "gridcolor": "white",
            "linecolor": "white",
            "ticks": ""
           }
          },
          "scene": {
           "xaxis": {
            "backgroundcolor": "#E5ECF6",
            "gridcolor": "white",
            "gridwidth": 2,
            "linecolor": "white",
            "showbackground": true,
            "ticks": "",
            "zerolinecolor": "white"
           },
           "yaxis": {
            "backgroundcolor": "#E5ECF6",
            "gridcolor": "white",
            "gridwidth": 2,
            "linecolor": "white",
            "showbackground": true,
            "ticks": "",
            "zerolinecolor": "white"
           },
           "zaxis": {
            "backgroundcolor": "#E5ECF6",
            "gridcolor": "white",
            "gridwidth": 2,
            "linecolor": "white",
            "showbackground": true,
            "ticks": "",
            "zerolinecolor": "white"
           }
          },
          "shapedefaults": {
           "line": {
            "color": "#2a3f5f"
           }
          },
          "ternary": {
           "aaxis": {
            "gridcolor": "white",
            "linecolor": "white",
            "ticks": ""
           },
           "baxis": {
            "gridcolor": "white",
            "linecolor": "white",
            "ticks": ""
           },
           "bgcolor": "#E5ECF6",
           "caxis": {
            "gridcolor": "white",
            "linecolor": "white",
            "ticks": ""
           }
          },
          "title": {
           "x": 0.05
          },
          "xaxis": {
           "automargin": true,
           "gridcolor": "white",
           "linecolor": "white",
           "ticks": "",
           "title": {
            "standoff": 15
           },
           "zerolinecolor": "white",
           "zerolinewidth": 2
          },
          "yaxis": {
           "automargin": true,
           "gridcolor": "white",
           "linecolor": "white",
           "ticks": "",
           "title": {
            "standoff": 15
           },
           "zerolinecolor": "white",
           "zerolinewidth": 2
          }
         }
        }
       }
      }
     },
     "metadata": {},
     "output_type": "display_data"
    }
   ],
   "source": [
    "'''categorias = ['SLpM', 'StrAcc', 'SApM', 'StrDef', 'TdAvg', 'TdAcc', 'TdDef', 'SubAvg']\n",
    "adelie2 = [10, 7, 5, 8, 6, 5, 9, 7]  # Estadísticas de Aalon Cruz\n",
    "chinstrap2 = [8, 6, 8, 7, 5, 7, 6, 8]  # Estadísticas de Uros Medic\n",
    "\n",
    "fig = go.Figure()\n",
    "\n",
    "fig.add_trace(go.Scatterpolar(\n",
    "    r=adelie2,\n",
    "    theta=categorias,\n",
    "    fill='toself',\n",
    "    name='Donald Cerrone',\n",
    "    line=dict(color='red'),  # Cambia el color de la línea del luchador 1 a rojo\n",
    "    fillcolor='rgba(255, 0, 0, 0.5)'  # Establece el color de relleno (con transparencia) para el luchador 1\n",
    "))\n",
    "\n",
    "fig.add_trace(go.Scatterpolar(\n",
    "    r=chinstrap2,\n",
    "    theta=categorias,\n",
    "    fill='toself',\n",
    "    name='Demian Maia',\n",
    "    line=dict(color='blue'),  # Cambia el color de la línea del luchador 2 a azul\n",
    "    fillcolor='rgba(0, 0, 255, 0.5)'  # Establece el color de relleno (con transparencia) para el luchador 2\n",
    "))\n",
    "\n",
    "fig.update_layout(\n",
    "    polar=dict(\n",
    "        radialaxis=dict(\n",
    "            visible=True,\n",
    "            range=[0, 10]  # Ajusta el rango del eje radial según tus necesidades\n",
    "        )\n",
    "    )\n",
    ")\n",
    "\n",
    "fig.show()'''\n",
    "categorias = ['StrAcc', 'StrDef', 'TdAcc', 'TdDef']\n",
    "\n",
    "# Reemplaza 'Nombre_del_Primer_Luchador' y 'Nombre_del_Segundo_Luchador' con los nombres de los luchadores que deseas comparar\n",
    "luchador1_data = dfwinners_fights.loc['Donald Cerrone', categorias].tolist()\n",
    "luchador2_data = dfwinners_fights.loc['Demian Maia', categorias].tolist()\n",
    "\n",
    "fig = go.Figure()\n",
    "\n",
    "fig.add_trace(go.Scatterpolar(\n",
    "    r=luchador1_data,\n",
    "    theta=categorias,\n",
    "    fill='toself',\n",
    "    name='Donald Cerrone',\n",
    "    line=dict(color='red'),\n",
    "    fillcolor='rgba(255, 0, 0, 0.5)'\n",
    "))\n",
    "\n",
    "fig.add_trace(go.Scatterpolar(\n",
    "    r=luchador2_data,\n",
    "    theta=categorias,\n",
    "    fill='toself',\n",
    "    name='Demian Maia',\n",
    "    line=dict(color='blue'),\n",
    "    fillcolor='rgba(0, 0, 255, 0.5)'\n",
    "))\n",
    "\n",
    "fig.update_layout(\n",
    "    polar=dict(\n",
    "        radialaxis=dict(\n",
    "            visible=True,\n",
    "            range=[0, 100]  # Ajusta el rango del eje radial según tus necesidades\n",
    "        )\n",
    "    )\n",
    ")\n",
    "\n",
    "fig.show()\n"
   ]
  },
  {
   "cell_type": "code",
   "execution_count": 72,
   "metadata": {},
   "outputs": [
    {
     "data": {
      "application/vnd.plotly.v1+json": {
       "config": {
        "plotlyServerURL": "https://plot.ly"
       },
       "data": [
        {
         "fill": "toself",
         "fillcolor": "rgba(255, 0, 0, 0.5)",
         "line": {
          "color": "red"
         },
         "name": "Donald Cerrone",
         "r": [
          4.43,
          4.49,
          1.18,
          1.2
         ],
         "theta": [
          "SLpM",
          "SApM",
          "TdAvg",
          "SubAvg"
         ],
         "type": "scatterpolar"
        },
        {
         "fill": "toself",
         "fillcolor": "rgba(0, 0, 255, 0.5)",
         "line": {
          "color": "blue"
         },
         "name": "Demian Maia",
         "r": [
          1.82,
          2.03,
          2.55,
          1
         ],
         "theta": [
          "SLpM",
          "SApM",
          "TdAvg",
          "SubAvg"
         ],
         "type": "scatterpolar"
        }
       ],
       "layout": {
        "polar": {
         "radialaxis": {
          "range": [
           0,
           5
          ],
          "visible": true
         }
        },
        "template": {
         "data": {
          "bar": [
           {
            "error_x": {
             "color": "#2a3f5f"
            },
            "error_y": {
             "color": "#2a3f5f"
            },
            "marker": {
             "line": {
              "color": "#E5ECF6",
              "width": 0.5
             },
             "pattern": {
              "fillmode": "overlay",
              "size": 10,
              "solidity": 0.2
             }
            },
            "type": "bar"
           }
          ],
          "barpolar": [
           {
            "marker": {
             "line": {
              "color": "#E5ECF6",
              "width": 0.5
             },
             "pattern": {
              "fillmode": "overlay",
              "size": 10,
              "solidity": 0.2
             }
            },
            "type": "barpolar"
           }
          ],
          "carpet": [
           {
            "aaxis": {
             "endlinecolor": "#2a3f5f",
             "gridcolor": "white",
             "linecolor": "white",
             "minorgridcolor": "white",
             "startlinecolor": "#2a3f5f"
            },
            "baxis": {
             "endlinecolor": "#2a3f5f",
             "gridcolor": "white",
             "linecolor": "white",
             "minorgridcolor": "white",
             "startlinecolor": "#2a3f5f"
            },
            "type": "carpet"
           }
          ],
          "choropleth": [
           {
            "colorbar": {
             "outlinewidth": 0,
             "ticks": ""
            },
            "type": "choropleth"
           }
          ],
          "contour": [
           {
            "colorbar": {
             "outlinewidth": 0,
             "ticks": ""
            },
            "colorscale": [
             [
              0,
              "#0d0887"
             ],
             [
              0.1111111111111111,
              "#46039f"
             ],
             [
              0.2222222222222222,
              "#7201a8"
             ],
             [
              0.3333333333333333,
              "#9c179e"
             ],
             [
              0.4444444444444444,
              "#bd3786"
             ],
             [
              0.5555555555555556,
              "#d8576b"
             ],
             [
              0.6666666666666666,
              "#ed7953"
             ],
             [
              0.7777777777777778,
              "#fb9f3a"
             ],
             [
              0.8888888888888888,
              "#fdca26"
             ],
             [
              1,
              "#f0f921"
             ]
            ],
            "type": "contour"
           }
          ],
          "contourcarpet": [
           {
            "colorbar": {
             "outlinewidth": 0,
             "ticks": ""
            },
            "type": "contourcarpet"
           }
          ],
          "heatmap": [
           {
            "colorbar": {
             "outlinewidth": 0,
             "ticks": ""
            },
            "colorscale": [
             [
              0,
              "#0d0887"
             ],
             [
              0.1111111111111111,
              "#46039f"
             ],
             [
              0.2222222222222222,
              "#7201a8"
             ],
             [
              0.3333333333333333,
              "#9c179e"
             ],
             [
              0.4444444444444444,
              "#bd3786"
             ],
             [
              0.5555555555555556,
              "#d8576b"
             ],
             [
              0.6666666666666666,
              "#ed7953"
             ],
             [
              0.7777777777777778,
              "#fb9f3a"
             ],
             [
              0.8888888888888888,
              "#fdca26"
             ],
             [
              1,
              "#f0f921"
             ]
            ],
            "type": "heatmap"
           }
          ],
          "heatmapgl": [
           {
            "colorbar": {
             "outlinewidth": 0,
             "ticks": ""
            },
            "colorscale": [
             [
              0,
              "#0d0887"
             ],
             [
              0.1111111111111111,
              "#46039f"
             ],
             [
              0.2222222222222222,
              "#7201a8"
             ],
             [
              0.3333333333333333,
              "#9c179e"
             ],
             [
              0.4444444444444444,
              "#bd3786"
             ],
             [
              0.5555555555555556,
              "#d8576b"
             ],
             [
              0.6666666666666666,
              "#ed7953"
             ],
             [
              0.7777777777777778,
              "#fb9f3a"
             ],
             [
              0.8888888888888888,
              "#fdca26"
             ],
             [
              1,
              "#f0f921"
             ]
            ],
            "type": "heatmapgl"
           }
          ],
          "histogram": [
           {
            "marker": {
             "pattern": {
              "fillmode": "overlay",
              "size": 10,
              "solidity": 0.2
             }
            },
            "type": "histogram"
           }
          ],
          "histogram2d": [
           {
            "colorbar": {
             "outlinewidth": 0,
             "ticks": ""
            },
            "colorscale": [
             [
              0,
              "#0d0887"
             ],
             [
              0.1111111111111111,
              "#46039f"
             ],
             [
              0.2222222222222222,
              "#7201a8"
             ],
             [
              0.3333333333333333,
              "#9c179e"
             ],
             [
              0.4444444444444444,
              "#bd3786"
             ],
             [
              0.5555555555555556,
              "#d8576b"
             ],
             [
              0.6666666666666666,
              "#ed7953"
             ],
             [
              0.7777777777777778,
              "#fb9f3a"
             ],
             [
              0.8888888888888888,
              "#fdca26"
             ],
             [
              1,
              "#f0f921"
             ]
            ],
            "type": "histogram2d"
           }
          ],
          "histogram2dcontour": [
           {
            "colorbar": {
             "outlinewidth": 0,
             "ticks": ""
            },
            "colorscale": [
             [
              0,
              "#0d0887"
             ],
             [
              0.1111111111111111,
              "#46039f"
             ],
             [
              0.2222222222222222,
              "#7201a8"
             ],
             [
              0.3333333333333333,
              "#9c179e"
             ],
             [
              0.4444444444444444,
              "#bd3786"
             ],
             [
              0.5555555555555556,
              "#d8576b"
             ],
             [
              0.6666666666666666,
              "#ed7953"
             ],
             [
              0.7777777777777778,
              "#fb9f3a"
             ],
             [
              0.8888888888888888,
              "#fdca26"
             ],
             [
              1,
              "#f0f921"
             ]
            ],
            "type": "histogram2dcontour"
           }
          ],
          "mesh3d": [
           {
            "colorbar": {
             "outlinewidth": 0,
             "ticks": ""
            },
            "type": "mesh3d"
           }
          ],
          "parcoords": [
           {
            "line": {
             "colorbar": {
              "outlinewidth": 0,
              "ticks": ""
             }
            },
            "type": "parcoords"
           }
          ],
          "pie": [
           {
            "automargin": true,
            "type": "pie"
           }
          ],
          "scatter": [
           {
            "fillpattern": {
             "fillmode": "overlay",
             "size": 10,
             "solidity": 0.2
            },
            "type": "scatter"
           }
          ],
          "scatter3d": [
           {
            "line": {
             "colorbar": {
              "outlinewidth": 0,
              "ticks": ""
             }
            },
            "marker": {
             "colorbar": {
              "outlinewidth": 0,
              "ticks": ""
             }
            },
            "type": "scatter3d"
           }
          ],
          "scattercarpet": [
           {
            "marker": {
             "colorbar": {
              "outlinewidth": 0,
              "ticks": ""
             }
            },
            "type": "scattercarpet"
           }
          ],
          "scattergeo": [
           {
            "marker": {
             "colorbar": {
              "outlinewidth": 0,
              "ticks": ""
             }
            },
            "type": "scattergeo"
           }
          ],
          "scattergl": [
           {
            "marker": {
             "colorbar": {
              "outlinewidth": 0,
              "ticks": ""
             }
            },
            "type": "scattergl"
           }
          ],
          "scattermapbox": [
           {
            "marker": {
             "colorbar": {
              "outlinewidth": 0,
              "ticks": ""
             }
            },
            "type": "scattermapbox"
           }
          ],
          "scatterpolar": [
           {
            "marker": {
             "colorbar": {
              "outlinewidth": 0,
              "ticks": ""
             }
            },
            "type": "scatterpolar"
           }
          ],
          "scatterpolargl": [
           {
            "marker": {
             "colorbar": {
              "outlinewidth": 0,
              "ticks": ""
             }
            },
            "type": "scatterpolargl"
           }
          ],
          "scatterternary": [
           {
            "marker": {
             "colorbar": {
              "outlinewidth": 0,
              "ticks": ""
             }
            },
            "type": "scatterternary"
           }
          ],
          "surface": [
           {
            "colorbar": {
             "outlinewidth": 0,
             "ticks": ""
            },
            "colorscale": [
             [
              0,
              "#0d0887"
             ],
             [
              0.1111111111111111,
              "#46039f"
             ],
             [
              0.2222222222222222,
              "#7201a8"
             ],
             [
              0.3333333333333333,
              "#9c179e"
             ],
             [
              0.4444444444444444,
              "#bd3786"
             ],
             [
              0.5555555555555556,
              "#d8576b"
             ],
             [
              0.6666666666666666,
              "#ed7953"
             ],
             [
              0.7777777777777778,
              "#fb9f3a"
             ],
             [
              0.8888888888888888,
              "#fdca26"
             ],
             [
              1,
              "#f0f921"
             ]
            ],
            "type": "surface"
           }
          ],
          "table": [
           {
            "cells": {
             "fill": {
              "color": "#EBF0F8"
             },
             "line": {
              "color": "white"
             }
            },
            "header": {
             "fill": {
              "color": "#C8D4E3"
             },
             "line": {
              "color": "white"
             }
            },
            "type": "table"
           }
          ]
         },
         "layout": {
          "annotationdefaults": {
           "arrowcolor": "#2a3f5f",
           "arrowhead": 0,
           "arrowwidth": 1
          },
          "autotypenumbers": "strict",
          "coloraxis": {
           "colorbar": {
            "outlinewidth": 0,
            "ticks": ""
           }
          },
          "colorscale": {
           "diverging": [
            [
             0,
             "#8e0152"
            ],
            [
             0.1,
             "#c51b7d"
            ],
            [
             0.2,
             "#de77ae"
            ],
            [
             0.3,
             "#f1b6da"
            ],
            [
             0.4,
             "#fde0ef"
            ],
            [
             0.5,
             "#f7f7f7"
            ],
            [
             0.6,
             "#e6f5d0"
            ],
            [
             0.7,
             "#b8e186"
            ],
            [
             0.8,
             "#7fbc41"
            ],
            [
             0.9,
             "#4d9221"
            ],
            [
             1,
             "#276419"
            ]
           ],
           "sequential": [
            [
             0,
             "#0d0887"
            ],
            [
             0.1111111111111111,
             "#46039f"
            ],
            [
             0.2222222222222222,
             "#7201a8"
            ],
            [
             0.3333333333333333,
             "#9c179e"
            ],
            [
             0.4444444444444444,
             "#bd3786"
            ],
            [
             0.5555555555555556,
             "#d8576b"
            ],
            [
             0.6666666666666666,
             "#ed7953"
            ],
            [
             0.7777777777777778,
             "#fb9f3a"
            ],
            [
             0.8888888888888888,
             "#fdca26"
            ],
            [
             1,
             "#f0f921"
            ]
           ],
           "sequentialminus": [
            [
             0,
             "#0d0887"
            ],
            [
             0.1111111111111111,
             "#46039f"
            ],
            [
             0.2222222222222222,
             "#7201a8"
            ],
            [
             0.3333333333333333,
             "#9c179e"
            ],
            [
             0.4444444444444444,
             "#bd3786"
            ],
            [
             0.5555555555555556,
             "#d8576b"
            ],
            [
             0.6666666666666666,
             "#ed7953"
            ],
            [
             0.7777777777777778,
             "#fb9f3a"
            ],
            [
             0.8888888888888888,
             "#fdca26"
            ],
            [
             1,
             "#f0f921"
            ]
           ]
          },
          "colorway": [
           "#636efa",
           "#EF553B",
           "#00cc96",
           "#ab63fa",
           "#FFA15A",
           "#19d3f3",
           "#FF6692",
           "#B6E880",
           "#FF97FF",
           "#FECB52"
          ],
          "font": {
           "color": "#2a3f5f"
          },
          "geo": {
           "bgcolor": "white",
           "lakecolor": "white",
           "landcolor": "#E5ECF6",
           "showlakes": true,
           "showland": true,
           "subunitcolor": "white"
          },
          "hoverlabel": {
           "align": "left"
          },
          "hovermode": "closest",
          "mapbox": {
           "style": "light"
          },
          "paper_bgcolor": "white",
          "plot_bgcolor": "#E5ECF6",
          "polar": {
           "angularaxis": {
            "gridcolor": "white",
            "linecolor": "white",
            "ticks": ""
           },
           "bgcolor": "#E5ECF6",
           "radialaxis": {
            "gridcolor": "white",
            "linecolor": "white",
            "ticks": ""
           }
          },
          "scene": {
           "xaxis": {
            "backgroundcolor": "#E5ECF6",
            "gridcolor": "white",
            "gridwidth": 2,
            "linecolor": "white",
            "showbackground": true,
            "ticks": "",
            "zerolinecolor": "white"
           },
           "yaxis": {
            "backgroundcolor": "#E5ECF6",
            "gridcolor": "white",
            "gridwidth": 2,
            "linecolor": "white",
            "showbackground": true,
            "ticks": "",
            "zerolinecolor": "white"
           },
           "zaxis": {
            "backgroundcolor": "#E5ECF6",
            "gridcolor": "white",
            "gridwidth": 2,
            "linecolor": "white",
            "showbackground": true,
            "ticks": "",
            "zerolinecolor": "white"
           }
          },
          "shapedefaults": {
           "line": {
            "color": "#2a3f5f"
           }
          },
          "ternary": {
           "aaxis": {
            "gridcolor": "white",
            "linecolor": "white",
            "ticks": ""
           },
           "baxis": {
            "gridcolor": "white",
            "linecolor": "white",
            "ticks": ""
           },
           "bgcolor": "#E5ECF6",
           "caxis": {
            "gridcolor": "white",
            "linecolor": "white",
            "ticks": ""
           }
          },
          "title": {
           "x": 0.05
          },
          "xaxis": {
           "automargin": true,
           "gridcolor": "white",
           "linecolor": "white",
           "ticks": "",
           "title": {
            "standoff": 15
           },
           "zerolinecolor": "white",
           "zerolinewidth": 2
          },
          "yaxis": {
           "automargin": true,
           "gridcolor": "white",
           "linecolor": "white",
           "ticks": "",
           "title": {
            "standoff": 15
           },
           "zerolinecolor": "white",
           "zerolinewidth": 2
          }
         }
        }
       }
      }
     },
     "metadata": {},
     "output_type": "display_data"
    }
   ],
   "source": [
    "categorias = ['SLpM','SApM','TdAvg', 'SubAvg']\n",
    "# Reemplaza 'Nombre_del_Primer_Luchador' y 'Nombre_del_Segundo_Luchador' con los nombres de los luchadores que deseas comparar\n",
    "luchador1_data = dfwinners_fights.loc['Donald Cerrone', categorias].tolist()\n",
    "luchador2_data = dfwinners_fights.loc['Demian Maia', categorias].tolist()\n",
    "\n",
    "fig = go.Figure()\n",
    "\n",
    "fig.add_trace(go.Scatterpolar(\n",
    "    r=luchador1_data,\n",
    "    theta=categorias,\n",
    "    fill='toself',\n",
    "    name='Donald Cerrone',\n",
    "    line=dict(color='red'),\n",
    "    fillcolor='rgba(255, 0, 0, 0.5)'\n",
    "))\n",
    "\n",
    "fig.add_trace(go.Scatterpolar(\n",
    "    r=luchador2_data,\n",
    "    theta=categorias,\n",
    "    fill='toself',\n",
    "    name='Demian Maia',\n",
    "    line=dict(color='blue'),\n",
    "    fillcolor='rgba(0, 0, 255, 0.5)'\n",
    "))\n",
    "\n",
    "fig.update_layout(\n",
    "    polar=dict(\n",
    "        radialaxis=dict(\n",
    "            visible=True,\n",
    "            range=[0, 5]  # Ajusta el rango del eje radial según tus necesidades\n",
    "        )\n",
    "    )\n",
    ")\n",
    "\n",
    "fig.show()"
   ]
  },
  {
   "cell_type": "code",
   "execution_count": 76,
   "metadata": {},
   "outputs": [
    {
     "data": {
      "image/png": "[encoded data removed]",
      "text/plain": [
       "<Figure size 1200x800 with 2 Axes>"
      ]
     },
     "metadata": {},
     "output_type": "display_data"
    }
   ],
   "source": [
    "# Selecciona las columnas numéricas para calcular la correlación (excluyendo 'Full Name')\n",
    "numeric_columns = ['W', 'L', 'D', 'NC', 'Weight', 'Reach', 'SLpM', 'StrAcc', 'SApM', 'StrDef', 'TdAvg', 'TdAcc', 'TdDef', 'SubAvg', 'Age']\n",
    "\n",
    "# Calcula la matriz de correlación\n",
    "correlation_matrix = dfwinners_fights[numeric_columns].corr()\n",
    "\n",
    "# Crea un mapa de calor personalizado para visualizar la fuerza de correlación\n",
    "plt.figure(figsize=(12, 8))\n",
    "cmap = sns.diverging_palette(220, 10, as_cmap=True)  # Define una paleta de colores\n",
    "sns.heatmap(correlation_matrix, annot=True, fmt=\".2f\", cmap=cmap,\n",
    "            cbar_kws={'shrink': 0.8, 'label': 'Fuerza de Correlación'})\n",
    "plt.title(\"Mapa de Fuerza de Correlación\")\n",
    "plt.show()"
   ]
  },
  {
   "cell_type": "code",
   "execution_count": 82,
   "metadata": {},
   "outputs": [
    {
     "data": {
      "image/png": "[encoded data removed]",
      "text/plain": [
       "<Figure size 800x600 with 1 Axes>"
      ]
     },
     "metadata": {},
     "output_type": "display_data"
    }
   ],
   "source": [
    "\n",
    "# Selecciona las dos variables que deseas comparar\n",
    "variable1 = 'SLpM'\n",
    "variable2 = 'StrAcc'\n",
    "\n",
    "# Crea el gráfico de dispersión\n",
    "plt.figure(figsize=(8, 6))\n",
    "plt.scatter(dfwinners_fights[variable1], dfwinners_fights[variable2], alpha=0.5)\n",
    "plt.xlabel(variable1)\n",
    "plt.ylabel(variable2)\n",
    "plt.title(f'Gráfico de Dispersión entre {variable1} y {variable2}')\n",
    "plt.show()"
   ]
  },
  {
   "cell_type": "code",
   "execution_count": 85,
   "metadata": {},
   "outputs": [
    {
     "data": {
      "image/png": "[encoded data removed]",
      "text/plain": [
       "<Figure size 800x600 with 1 Axes>"
      ]
     },
     "metadata": {},
     "output_type": "display_data"
    }
   ],
   "source": [
    "# Selecciona las dos variables que deseas comparar\n",
    "variable1 = 'SLpM'\n",
    "variable2 = 'TdAvg'\n",
    "\n",
    "# Crea el gráfico de dispersión\n",
    "plt.figure(figsize=(8, 6))\n",
    "plt.scatter(dfwinners_fights[variable1], dfwinners_fights[variable2], alpha=0.5)\n",
    "plt.xlabel(variable1)\n",
    "plt.ylabel(variable2)\n",
    "plt.title(f'Gráfico de Dispersión entre {variable1} y {variable2}')\n",
    "plt.show()"
   ]
  },
  {
   "cell_type": "code",
   "execution_count": 100,
   "metadata": {},
   "outputs": [
    {
     "data": {
      "image/png": "[encoded data removed]",
      "text/plain": [
       "<Figure size 800x600 with 1 Axes>"
      ]
     },
     "metadata": {},
     "output_type": "display_data"
    }
   ],
   "source": [
    "variable1 = 'Weight'\n",
    "variable2 = 'Reach'\n",
    "\n",
    "# Crea el gráfico de dispersión\n",
    "plt.figure(figsize=(8, 6))\n",
    "plt.scatter(dfwinners_fights[variable1], dfwinners_fights[variable2], alpha=0.5)\n",
    "plt.xlabel(variable1)\n",
    "plt.ylabel(variable2)\n",
    "plt.title(f'Gráfico de Dispersión entre {variable1} y {variable2}')\n",
    "plt.show()"
   ]
  },
  {
   "cell_type": "code",
   "execution_count": 116,
   "metadata": {},
   "outputs": [
    {
     "data": {
      "text/html": [
       "<div>\n",
       "<style scoped>\n",
       "    .dataframe tbody tr th:only-of-type {\n",
       "        vertical-align: middle;\n",
       "    }\n",
       "\n",
       "    .dataframe tbody tr th {\n",
       "        vertical-align: top;\n",
       "    }\n",
       "\n",
       "    .dataframe thead th {\n",
       "        text-align: right;\n",
       "    }\n",
       "</style>\n",
       "<table border=\"1\" class=\"dataframe\">\n",
       "  <thead>\n",
       "    <tr style=\"text-align: right;\">\n",
       "      <th></th>\n",
       "      <th>W</th>\n",
       "      <th>L</th>\n",
       "      <th>D</th>\n",
       "      <th>NC</th>\n",
       "      <th>Height</th>\n",
       "      <th>Weight</th>\n",
       "      <th>Reach</th>\n",
       "      <th>Stance</th>\n",
       "      <th>SLpM</th>\n",
       "      <th>StrAcc</th>\n",
       "      <th>SApM</th>\n",
       "      <th>StrDef</th>\n",
       "      <th>TdAvg</th>\n",
       "      <th>TdAcc</th>\n",
       "      <th>TdDef</th>\n",
       "      <th>SubAvg</th>\n",
       "      <th>Age</th>\n",
       "      <th>Total Fights</th>\n",
       "      <th>Winning Percentage</th>\n",
       "      <th>Score</th>\n",
       "    </tr>\n",
       "    <tr>\n",
       "      <th>Full Name</th>\n",
       "      <th></th>\n",
       "      <th></th>\n",
       "      <th></th>\n",
       "      <th></th>\n",
       "      <th></th>\n",
       "      <th></th>\n",
       "      <th></th>\n",
       "      <th></th>\n",
       "      <th></th>\n",
       "      <th></th>\n",
       "      <th></th>\n",
       "      <th></th>\n",
       "      <th></th>\n",
       "      <th></th>\n",
       "      <th></th>\n",
       "      <th></th>\n",
       "      <th></th>\n",
       "      <th></th>\n",
       "      <th></th>\n",
       "      <th></th>\n",
       "    </tr>\n",
       "  </thead>\n",
       "  <tbody>\n",
       "    <tr>\n",
       "      <th>Donald Cerrone</th>\n",
       "      <td>23</td>\n",
       "      <td>13</td>\n",
       "      <td>0</td>\n",
       "      <td>1</td>\n",
       "      <td>6' 1\"</td>\n",
       "      <td>170.0</td>\n",
       "      <td>73.0</td>\n",
       "      <td>Orthodox</td>\n",
       "      <td>4.43</td>\n",
       "      <td>46</td>\n",
       "      <td>4.49</td>\n",
       "      <td>53</td>\n",
       "      <td>1.18</td>\n",
       "      <td>33</td>\n",
       "      <td>74</td>\n",
       "      <td>1.2</td>\n",
       "      <td>36.0</td>\n",
       "      <td>37</td>\n",
       "      <td>0.638889</td>\n",
       "      <td>14.055556</td>\n",
       "    </tr>\n",
       "    <tr>\n",
       "      <th>Demian Maia</th>\n",
       "      <td>22</td>\n",
       "      <td>10</td>\n",
       "      <td>0</td>\n",
       "      <td>0</td>\n",
       "      <td>6' 1\"</td>\n",
       "      <td>170.0</td>\n",
       "      <td>72.0</td>\n",
       "      <td>Southpaw</td>\n",
       "      <td>1.82</td>\n",
       "      <td>43</td>\n",
       "      <td>2.03</td>\n",
       "      <td>63</td>\n",
       "      <td>2.55</td>\n",
       "      <td>26</td>\n",
       "      <td>61</td>\n",
       "      <td>1.0</td>\n",
       "      <td>32.0</td>\n",
       "      <td>32</td>\n",
       "      <td>0.687500</td>\n",
       "      <td>13.475000</td>\n",
       "    </tr>\n",
       "    <tr>\n",
       "      <th>Jim Miller</th>\n",
       "      <td>21</td>\n",
       "      <td>15</td>\n",
       "      <td>0</td>\n",
       "      <td>1</td>\n",
       "      <td>5' 8\"</td>\n",
       "      <td>155.0</td>\n",
       "      <td>71.0</td>\n",
       "      <td>Southpaw</td>\n",
       "      <td>2.65</td>\n",
       "      <td>40</td>\n",
       "      <td>2.92</td>\n",
       "      <td>59</td>\n",
       "      <td>1.63</td>\n",
       "      <td>43</td>\n",
       "      <td>47</td>\n",
       "      <td>1.8</td>\n",
       "      <td>35.0</td>\n",
       "      <td>37</td>\n",
       "      <td>0.583333</td>\n",
       "      <td>12.833333</td>\n",
       "    </tr>\n",
       "    <tr>\n",
       "      <th>Jon Jones</th>\n",
       "      <td>20</td>\n",
       "      <td>1</td>\n",
       "      <td>0</td>\n",
       "      <td>1</td>\n",
       "      <td>6' 4\"</td>\n",
       "      <td>205.0</td>\n",
       "      <td>84.0</td>\n",
       "      <td>Orthodox</td>\n",
       "      <td>4.30</td>\n",
       "      <td>57</td>\n",
       "      <td>2.22</td>\n",
       "      <td>64</td>\n",
       "      <td>1.85</td>\n",
       "      <td>44</td>\n",
       "      <td>95</td>\n",
       "      <td>0.4</td>\n",
       "      <td>21.0</td>\n",
       "      <td>22</td>\n",
       "      <td>0.952381</td>\n",
       "      <td>12.380952</td>\n",
       "    </tr>\n",
       "    <tr>\n",
       "      <th>Georges St-Pierre</th>\n",
       "      <td>20</td>\n",
       "      <td>2</td>\n",
       "      <td>0</td>\n",
       "      <td>0</td>\n",
       "      <td>5' 11\"</td>\n",
       "      <td>185.0</td>\n",
       "      <td>76.0</td>\n",
       "      <td>Orthodox</td>\n",
       "      <td>3.78</td>\n",
       "      <td>53</td>\n",
       "      <td>1.40</td>\n",
       "      <td>72</td>\n",
       "      <td>4.16</td>\n",
       "      <td>74</td>\n",
       "      <td>83</td>\n",
       "      <td>1.1</td>\n",
       "      <td>24.0</td>\n",
       "      <td>22</td>\n",
       "      <td>0.909091</td>\n",
       "      <td>12.363636</td>\n",
       "    </tr>\n",
       "    <tr>\n",
       "      <th>...</th>\n",
       "      <td>...</td>\n",
       "      <td>...</td>\n",
       "      <td>...</td>\n",
       "      <td>...</td>\n",
       "      <td>...</td>\n",
       "      <td>...</td>\n",
       "      <td>...</td>\n",
       "      <td>...</td>\n",
       "      <td>...</td>\n",
       "      <td>...</td>\n",
       "      <td>...</td>\n",
       "      <td>...</td>\n",
       "      <td>...</td>\n",
       "      <td>...</td>\n",
       "      <td>...</td>\n",
       "      <td>...</td>\n",
       "      <td>...</td>\n",
       "      <td>...</td>\n",
       "      <td>...</td>\n",
       "      <td>...</td>\n",
       "    </tr>\n",
       "    <tr>\n",
       "      <th>Elvis Sinosic</th>\n",
       "      <td>1</td>\n",
       "      <td>6</td>\n",
       "      <td>0</td>\n",
       "      <td>0</td>\n",
       "      <td>6' 3\"</td>\n",
       "      <td>205.0</td>\n",
       "      <td>77.0</td>\n",
       "      <td>Orthodox</td>\n",
       "      <td>1.13</td>\n",
       "      <td>37</td>\n",
       "      <td>4.60</td>\n",
       "      <td>53</td>\n",
       "      <td>0.00</td>\n",
       "      <td>0</td>\n",
       "      <td>0</td>\n",
       "      <td>1.2</td>\n",
       "      <td>31.0</td>\n",
       "      <td>7</td>\n",
       "      <td>0.142857</td>\n",
       "      <td>0.657143</td>\n",
       "    </tr>\n",
       "    <tr>\n",
       "      <th>Phillipe Nover</th>\n",
       "      <td>1</td>\n",
       "      <td>6</td>\n",
       "      <td>0</td>\n",
       "      <td>0</td>\n",
       "      <td>5' 9\"</td>\n",
       "      <td>145.0</td>\n",
       "      <td>72.0</td>\n",
       "      <td>Orthodox</td>\n",
       "      <td>1.79</td>\n",
       "      <td>35</td>\n",
       "      <td>2.48</td>\n",
       "      <td>56</td>\n",
       "      <td>0.99</td>\n",
       "      <td>28</td>\n",
       "      <td>44</td>\n",
       "      <td>0.7</td>\n",
       "      <td>26.0</td>\n",
       "      <td>7</td>\n",
       "      <td>0.142857</td>\n",
       "      <td>0.657143</td>\n",
       "    </tr>\n",
       "    <tr>\n",
       "      <th>Kailin Curran</th>\n",
       "      <td>1</td>\n",
       "      <td>6</td>\n",
       "      <td>0</td>\n",
       "      <td>0</td>\n",
       "      <td>5' 4\"</td>\n",
       "      <td>115.0</td>\n",
       "      <td>65.0</td>\n",
       "      <td>Orthodox</td>\n",
       "      <td>3.89</td>\n",
       "      <td>43</td>\n",
       "      <td>4.75</td>\n",
       "      <td>53</td>\n",
       "      <td>2.00</td>\n",
       "      <td>57</td>\n",
       "      <td>61</td>\n",
       "      <td>0.6</td>\n",
       "      <td>23.0</td>\n",
       "      <td>7</td>\n",
       "      <td>0.142857</td>\n",
       "      <td>0.657143</td>\n",
       "    </tr>\n",
       "    <tr>\n",
       "      <th>Gilbert Melendez</th>\n",
       "      <td>1</td>\n",
       "      <td>6</td>\n",
       "      <td>0</td>\n",
       "      <td>0</td>\n",
       "      <td>5' 9\"</td>\n",
       "      <td>145.0</td>\n",
       "      <td>73.0</td>\n",
       "      <td>Orthodox</td>\n",
       "      <td>3.44</td>\n",
       "      <td>33</td>\n",
       "      <td>2.53</td>\n",
       "      <td>63</td>\n",
       "      <td>1.64</td>\n",
       "      <td>41</td>\n",
       "      <td>71</td>\n",
       "      <td>0.2</td>\n",
       "      <td>37.0</td>\n",
       "      <td>7</td>\n",
       "      <td>0.142857</td>\n",
       "      <td>0.657143</td>\n",
       "    </tr>\n",
       "    <tr>\n",
       "      <th>Michihiro Omigawa</th>\n",
       "      <td>1</td>\n",
       "      <td>6</td>\n",
       "      <td>0</td>\n",
       "      <td>0</td>\n",
       "      <td>5' 6\"</td>\n",
       "      <td>145.0</td>\n",
       "      <td>68.0</td>\n",
       "      <td>Orthodox</td>\n",
       "      <td>2.01</td>\n",
       "      <td>39</td>\n",
       "      <td>3.06</td>\n",
       "      <td>64</td>\n",
       "      <td>1.19</td>\n",
       "      <td>36</td>\n",
       "      <td>49</td>\n",
       "      <td>1.5</td>\n",
       "      <td>36.0</td>\n",
       "      <td>7</td>\n",
       "      <td>0.142857</td>\n",
       "      <td>0.657143</td>\n",
       "    </tr>\n",
       "  </tbody>\n",
       "</table>\n",
       "<p>1452 rows × 20 columns</p>\n",
       "</div>"
      ],
      "text/plain": [
       "                    W   L  D  NC  Height  Weight  Reach    Stance  SLpM  \\\n",
       "Full Name                                                                 \n",
       "Donald Cerrone     23  13  0   1   6' 1\"   170.0   73.0  Orthodox  4.43   \n",
       "Demian Maia        22  10  0   0   6' 1\"   170.0   72.0  Southpaw  1.82   \n",
       "Jim Miller         21  15  0   1   5' 8\"   155.0   71.0  Southpaw  2.65   \n",
       "Jon Jones          20   1  0   1   6' 4\"   205.0   84.0  Orthodox  4.30   \n",
       "Georges St-Pierre  20   2  0   0  5' 11\"   185.0   76.0  Orthodox  3.78   \n",
       "...                ..  .. ..  ..     ...     ...    ...       ...   ...   \n",
       "Elvis Sinosic       1   6  0   0   6' 3\"   205.0   77.0  Orthodox  1.13   \n",
       "Phillipe Nover      1   6  0   0   5' 9\"   145.0   72.0  Orthodox  1.79   \n",
       "Kailin Curran       1   6  0   0   5' 4\"   115.0   65.0  Orthodox  3.89   \n",
       "Gilbert Melendez    1   6  0   0   5' 9\"   145.0   73.0  Orthodox  3.44   \n",
       "Michihiro Omigawa   1   6  0   0   5' 6\"   145.0   68.0  Orthodox  2.01   \n",
       "\n",
       "                   StrAcc  SApM  StrDef  TdAvg  TdAcc  TdDef  SubAvg   Age  \\\n",
       "Full Name                                                                    \n",
       "Donald Cerrone         46  4.49      53   1.18     33     74     1.2  36.0   \n",
       "Demian Maia            43  2.03      63   2.55     26     61     1.0  32.0   \n",
       "Jim Miller             40  2.92      59   1.63     43     47     1.8  35.0   \n",
       "Jon Jones              57  2.22      64   1.85     44     95     0.4  21.0   \n",
       "Georges St-Pierre      53  1.40      72   4.16     74     83     1.1  24.0   \n",
       "...                   ...   ...     ...    ...    ...    ...     ...   ...   \n",
       "Elvis Sinosic          37  4.60      53   0.00      0      0     1.2  31.0   \n",
       "Phillipe Nover         35  2.48      56   0.99     28     44     0.7  26.0   \n",
       "Kailin Curran          43  4.75      53   2.00     57     61     0.6  23.0   \n",
       "Gilbert Melendez       33  2.53      63   1.64     41     71     0.2  37.0   \n",
       "Michihiro Omigawa      39  3.06      64   1.19     36     49     1.5  36.0   \n",
       "\n",
       "                   Total Fights  Winning Percentage      Score  \n",
       "Full Name                                                       \n",
       "Donald Cerrone               37            0.638889  14.055556  \n",
       "Demian Maia                  32            0.687500  13.475000  \n",
       "Jim Miller                   37            0.583333  12.833333  \n",
       "Jon Jones                    22            0.952381  12.380952  \n",
       "Georges St-Pierre            22            0.909091  12.363636  \n",
       "...                         ...                 ...        ...  \n",
       "Elvis Sinosic                 7            0.142857   0.657143  \n",
       "Phillipe Nover                7            0.142857   0.657143  \n",
       "Kailin Curran                 7            0.142857   0.657143  \n",
       "Gilbert Melendez              7            0.142857   0.657143  \n",
       "Michihiro Omigawa             7            0.142857   0.657143  \n",
       "\n",
       "[1452 rows x 20 columns]"
      ]
     },
     "execution_count": 116,
     "metadata": {},
     "output_type": "execute_result"
    }
   ],
   "source": [
    "dfwinners_fights['Score'] = (dfwinners_fights['W'] * 0.6 + dfwinners_fights['Winning Percentage'] * 0.4)\n",
    "dfwinners_fights = dfwinners_fights.sort_values(by='Score', ascending=False)\n",
    "\n",
    "# Elimina filas con NaN en 'Winning Percentage' y 'Score'\n",
    "dfwinners_fights.dropna(subset=['Winning Percentage', 'Score'], inplace=True)\n",
    "# Elimina filas con 0 en 'Winning Percentage' y 'Score'\n",
    "dfwinners_fights = dfwinners_fights[(dfwinners_fights['Winning Percentage'] != 0) & (dfwinners_fights['Score'] != 0)]\n",
    "dfwinners_fights"
   ]
  },
  {
   "cell_type": "code",
   "execution_count": 122,
   "metadata": {},
   "outputs": [
    {
     "data": {
      "text/html": [
       "<div>\n",
       "<style scoped>\n",
       "    .dataframe tbody tr th:only-of-type {\n",
       "        vertical-align: middle;\n",
       "    }\n",
       "\n",
       "    .dataframe tbody tr th {\n",
       "        vertical-align: top;\n",
       "    }\n",
       "\n",
       "    .dataframe thead th {\n",
       "        text-align: right;\n",
       "    }\n",
       "</style>\n",
       "<table border=\"1\" class=\"dataframe\">\n",
       "  <thead>\n",
       "    <tr style=\"text-align: right;\">\n",
       "      <th></th>\n",
       "      <th>W</th>\n",
       "      <th>L</th>\n",
       "      <th>D</th>\n",
       "      <th>NC</th>\n",
       "      <th>Height</th>\n",
       "      <th>Weight</th>\n",
       "      <th>Reach</th>\n",
       "      <th>Stance</th>\n",
       "      <th>SLpM</th>\n",
       "      <th>StrAcc</th>\n",
       "      <th>SApM</th>\n",
       "      <th>StrDef</th>\n",
       "      <th>TdAvg</th>\n",
       "      <th>TdAcc</th>\n",
       "      <th>TdDef</th>\n",
       "      <th>SubAvg</th>\n",
       "      <th>Age</th>\n",
       "      <th>Total Fights</th>\n",
       "      <th>Winning Percentage</th>\n",
       "      <th>Score</th>\n",
       "    </tr>\n",
       "    <tr>\n",
       "      <th>Full Name</th>\n",
       "      <th></th>\n",
       "      <th></th>\n",
       "      <th></th>\n",
       "      <th></th>\n",
       "      <th></th>\n",
       "      <th></th>\n",
       "      <th></th>\n",
       "      <th></th>\n",
       "      <th></th>\n",
       "      <th></th>\n",
       "      <th></th>\n",
       "      <th></th>\n",
       "      <th></th>\n",
       "      <th></th>\n",
       "      <th></th>\n",
       "      <th></th>\n",
       "      <th></th>\n",
       "      <th></th>\n",
       "      <th></th>\n",
       "      <th></th>\n",
       "    </tr>\n",
       "  </thead>\n",
       "  <tbody>\n",
       "    <tr>\n",
       "      <th>Kamaru Usman</th>\n",
       "      <td>14</td>\n",
       "      <td>0</td>\n",
       "      <td>0</td>\n",
       "      <td>0</td>\n",
       "      <td>6' 0\"</td>\n",
       "      <td>170.0</td>\n",
       "      <td>76.0</td>\n",
       "      <td>Switch</td>\n",
       "      <td>4.63</td>\n",
       "      <td>54</td>\n",
       "      <td>2.40</td>\n",
       "      <td>57</td>\n",
       "      <td>3.27</td>\n",
       "      <td>48</td>\n",
       "      <td>100</td>\n",
       "      <td>0.1</td>\n",
       "      <td>30.0</td>\n",
       "      <td>14</td>\n",
       "      <td>1.000000</td>\n",
       "      <td>6.200000</td>\n",
       "    </tr>\n",
       "    <tr>\n",
       "      <th>Khabib Nurmagomedov</th>\n",
       "      <td>13</td>\n",
       "      <td>0</td>\n",
       "      <td>0</td>\n",
       "      <td>0</td>\n",
       "      <td>5' 10\"</td>\n",
       "      <td>155.0</td>\n",
       "      <td>70.0</td>\n",
       "      <td>Orthodox</td>\n",
       "      <td>4.10</td>\n",
       "      <td>48</td>\n",
       "      <td>1.75</td>\n",
       "      <td>65</td>\n",
       "      <td>5.32</td>\n",
       "      <td>48</td>\n",
       "      <td>84</td>\n",
       "      <td>0.8</td>\n",
       "      <td>29.0</td>\n",
       "      <td>13</td>\n",
       "      <td>1.000000</td>\n",
       "      <td>5.800000</td>\n",
       "    </tr>\n",
       "    <tr>\n",
       "      <th>Alexander Volkanovski</th>\n",
       "      <td>9</td>\n",
       "      <td>0</td>\n",
       "      <td>0</td>\n",
       "      <td>0</td>\n",
       "      <td>5' 6\"</td>\n",
       "      <td>145.0</td>\n",
       "      <td>71.0</td>\n",
       "      <td>Orthodox</td>\n",
       "      <td>6.02</td>\n",
       "      <td>55</td>\n",
       "      <td>3.31</td>\n",
       "      <td>60</td>\n",
       "      <td>2.09</td>\n",
       "      <td>34</td>\n",
       "      <td>72</td>\n",
       "      <td>0.3</td>\n",
       "      <td>29.0</td>\n",
       "      <td>9</td>\n",
       "      <td>1.000000</td>\n",
       "      <td>4.200000</td>\n",
       "    </tr>\n",
       "    <tr>\n",
       "      <th>Arnold Allen</th>\n",
       "      <td>8</td>\n",
       "      <td>0</td>\n",
       "      <td>0</td>\n",
       "      <td>0</td>\n",
       "      <td>5' 8\"</td>\n",
       "      <td>145.0</td>\n",
       "      <td>70.0</td>\n",
       "      <td>Southpaw</td>\n",
       "      <td>2.96</td>\n",
       "      <td>40</td>\n",
       "      <td>2.15</td>\n",
       "      <td>66</td>\n",
       "      <td>1.44</td>\n",
       "      <td>50</td>\n",
       "      <td>76</td>\n",
       "      <td>0.4</td>\n",
       "      <td>21.0</td>\n",
       "      <td>8</td>\n",
       "      <td>1.000000</td>\n",
       "      <td>3.800000</td>\n",
       "    </tr>\n",
       "    <tr>\n",
       "      <th>Yan Xiaonan</th>\n",
       "      <td>6</td>\n",
       "      <td>0</td>\n",
       "      <td>0</td>\n",
       "      <td>0</td>\n",
       "      <td>5' 5\"</td>\n",
       "      <td>115.0</td>\n",
       "      <td>63.0</td>\n",
       "      <td>Orthodox</td>\n",
       "      <td>5.95</td>\n",
       "      <td>42</td>\n",
       "      <td>3.61</td>\n",
       "      <td>61</td>\n",
       "      <td>0.92</td>\n",
       "      <td>75</td>\n",
       "      <td>65</td>\n",
       "      <td>0.0</td>\n",
       "      <td>30.0</td>\n",
       "      <td>6</td>\n",
       "      <td>1.000000</td>\n",
       "      <td>3.000000</td>\n",
       "    </tr>\n",
       "    <tr>\n",
       "      <th>...</th>\n",
       "      <td>...</td>\n",
       "      <td>...</td>\n",
       "      <td>...</td>\n",
       "      <td>...</td>\n",
       "      <td>...</td>\n",
       "      <td>...</td>\n",
       "      <td>...</td>\n",
       "      <td>...</td>\n",
       "      <td>...</td>\n",
       "      <td>...</td>\n",
       "      <td>...</td>\n",
       "      <td>...</td>\n",
       "      <td>...</td>\n",
       "      <td>...</td>\n",
       "      <td>...</td>\n",
       "      <td>...</td>\n",
       "      <td>...</td>\n",
       "      <td>...</td>\n",
       "      <td>...</td>\n",
       "      <td>...</td>\n",
       "    </tr>\n",
       "    <tr>\n",
       "      <th>Elvis Sinosic</th>\n",
       "      <td>1</td>\n",
       "      <td>6</td>\n",
       "      <td>0</td>\n",
       "      <td>0</td>\n",
       "      <td>6' 3\"</td>\n",
       "      <td>205.0</td>\n",
       "      <td>77.0</td>\n",
       "      <td>Orthodox</td>\n",
       "      <td>1.13</td>\n",
       "      <td>37</td>\n",
       "      <td>4.60</td>\n",
       "      <td>53</td>\n",
       "      <td>0.00</td>\n",
       "      <td>0</td>\n",
       "      <td>0</td>\n",
       "      <td>1.2</td>\n",
       "      <td>31.0</td>\n",
       "      <td>7</td>\n",
       "      <td>0.142857</td>\n",
       "      <td>0.485714</td>\n",
       "    </tr>\n",
       "    <tr>\n",
       "      <th>Phillipe Nover</th>\n",
       "      <td>1</td>\n",
       "      <td>6</td>\n",
       "      <td>0</td>\n",
       "      <td>0</td>\n",
       "      <td>5' 9\"</td>\n",
       "      <td>145.0</td>\n",
       "      <td>72.0</td>\n",
       "      <td>Orthodox</td>\n",
       "      <td>1.79</td>\n",
       "      <td>35</td>\n",
       "      <td>2.48</td>\n",
       "      <td>56</td>\n",
       "      <td>0.99</td>\n",
       "      <td>28</td>\n",
       "      <td>44</td>\n",
       "      <td>0.7</td>\n",
       "      <td>26.0</td>\n",
       "      <td>7</td>\n",
       "      <td>0.142857</td>\n",
       "      <td>0.485714</td>\n",
       "    </tr>\n",
       "    <tr>\n",
       "      <th>Kailin Curran</th>\n",
       "      <td>1</td>\n",
       "      <td>6</td>\n",
       "      <td>0</td>\n",
       "      <td>0</td>\n",
       "      <td>5' 4\"</td>\n",
       "      <td>115.0</td>\n",
       "      <td>65.0</td>\n",
       "      <td>Orthodox</td>\n",
       "      <td>3.89</td>\n",
       "      <td>43</td>\n",
       "      <td>4.75</td>\n",
       "      <td>53</td>\n",
       "      <td>2.00</td>\n",
       "      <td>57</td>\n",
       "      <td>61</td>\n",
       "      <td>0.6</td>\n",
       "      <td>23.0</td>\n",
       "      <td>7</td>\n",
       "      <td>0.142857</td>\n",
       "      <td>0.485714</td>\n",
       "    </tr>\n",
       "    <tr>\n",
       "      <th>Gilbert Melendez</th>\n",
       "      <td>1</td>\n",
       "      <td>6</td>\n",
       "      <td>0</td>\n",
       "      <td>0</td>\n",
       "      <td>5' 9\"</td>\n",
       "      <td>145.0</td>\n",
       "      <td>73.0</td>\n",
       "      <td>Orthodox</td>\n",
       "      <td>3.44</td>\n",
       "      <td>33</td>\n",
       "      <td>2.53</td>\n",
       "      <td>63</td>\n",
       "      <td>1.64</td>\n",
       "      <td>41</td>\n",
       "      <td>71</td>\n",
       "      <td>0.2</td>\n",
       "      <td>37.0</td>\n",
       "      <td>7</td>\n",
       "      <td>0.142857</td>\n",
       "      <td>0.485714</td>\n",
       "    </tr>\n",
       "    <tr>\n",
       "      <th>Michihiro Omigawa</th>\n",
       "      <td>1</td>\n",
       "      <td>6</td>\n",
       "      <td>0</td>\n",
       "      <td>0</td>\n",
       "      <td>5' 6\"</td>\n",
       "      <td>145.0</td>\n",
       "      <td>68.0</td>\n",
       "      <td>Orthodox</td>\n",
       "      <td>2.01</td>\n",
       "      <td>39</td>\n",
       "      <td>3.06</td>\n",
       "      <td>64</td>\n",
       "      <td>1.19</td>\n",
       "      <td>36</td>\n",
       "      <td>49</td>\n",
       "      <td>1.5</td>\n",
       "      <td>36.0</td>\n",
       "      <td>7</td>\n",
       "      <td>0.142857</td>\n",
       "      <td>0.485714</td>\n",
       "    </tr>\n",
       "  </tbody>\n",
       "</table>\n",
       "<p>1452 rows × 20 columns</p>\n",
       "</div>"
      ],
      "text/plain": [
       "                        W  L  D  NC  Height  Weight  Reach    Stance  SLpM  \\\n",
       "Full Name                                                                    \n",
       "Kamaru Usman           14  0  0   0   6' 0\"   170.0   76.0    Switch  4.63   \n",
       "Khabib Nurmagomedov    13  0  0   0  5' 10\"   155.0   70.0  Orthodox  4.10   \n",
       "Alexander Volkanovski   9  0  0   0   5' 6\"   145.0   71.0  Orthodox  6.02   \n",
       "Arnold Allen            8  0  0   0   5' 8\"   145.0   70.0  Southpaw  2.96   \n",
       "Yan Xiaonan             6  0  0   0   5' 5\"   115.0   63.0  Orthodox  5.95   \n",
       "...                    .. .. ..  ..     ...     ...    ...       ...   ...   \n",
       "Elvis Sinosic           1  6  0   0   6' 3\"   205.0   77.0  Orthodox  1.13   \n",
       "Phillipe Nover          1  6  0   0   5' 9\"   145.0   72.0  Orthodox  1.79   \n",
       "Kailin Curran           1  6  0   0   5' 4\"   115.0   65.0  Orthodox  3.89   \n",
       "Gilbert Melendez        1  6  0   0   5' 9\"   145.0   73.0  Orthodox  3.44   \n",
       "Michihiro Omigawa       1  6  0   0   5' 6\"   145.0   68.0  Orthodox  2.01   \n",
       "\n",
       "                       StrAcc  SApM  StrDef  TdAvg  TdAcc  TdDef  SubAvg  \\\n",
       "Full Name                                                                  \n",
       "Kamaru Usman               54  2.40      57   3.27     48    100     0.1   \n",
       "Khabib Nurmagomedov        48  1.75      65   5.32     48     84     0.8   \n",
       "Alexander Volkanovski      55  3.31      60   2.09     34     72     0.3   \n",
       "Arnold Allen               40  2.15      66   1.44     50     76     0.4   \n",
       "Yan Xiaonan                42  3.61      61   0.92     75     65     0.0   \n",
       "...                       ...   ...     ...    ...    ...    ...     ...   \n",
       "Elvis Sinosic              37  4.60      53   0.00      0      0     1.2   \n",
       "Phillipe Nover             35  2.48      56   0.99     28     44     0.7   \n",
       "Kailin Curran              43  4.75      53   2.00     57     61     0.6   \n",
       "Gilbert Melendez           33  2.53      63   1.64     41     71     0.2   \n",
       "Michihiro Omigawa          39  3.06      64   1.19     36     49     1.5   \n",
       "\n",
       "                        Age  Total Fights  Winning Percentage     Score  \n",
       "Full Name                                                                \n",
       "Kamaru Usman           30.0            14            1.000000  6.200000  \n",
       "Khabib Nurmagomedov    29.0            13            1.000000  5.800000  \n",
       "Alexander Volkanovski  29.0             9            1.000000  4.200000  \n",
       "Arnold Allen           21.0             8            1.000000  3.800000  \n",
       "Yan Xiaonan            30.0             6            1.000000  3.000000  \n",
       "...                     ...           ...                 ...       ...  \n",
       "Elvis Sinosic          31.0             7            0.142857  0.485714  \n",
       "Phillipe Nover         26.0             7            0.142857  0.485714  \n",
       "Kailin Curran          23.0             7            0.142857  0.485714  \n",
       "Gilbert Melendez       37.0             7            0.142857  0.485714  \n",
       "Michihiro Omigawa      36.0             7            0.142857  0.485714  \n",
       "\n",
       "[1452 rows x 20 columns]"
      ]
     },
     "execution_count": 122,
     "metadata": {},
     "output_type": "execute_result"
    }
   ],
   "source": [
    "dfwinners_fights['Score'] = (dfwinners_fights['W'] * 0.4 + dfwinners_fights['Winning Percentage'] * 0.6)\n",
    "dfwinners_fights = dfwinners_fights.sort_values(by=['Winning Percentage','Total Fights'], ascending=[False, False])\n",
    "# Elimina filas con NaN en 'Winning Percentage' y 'Score'\n",
    "dfwinners_fights.dropna(subset=['Winning Percentage', 'Score'], inplace=True)\n",
    "# Elimina filas con 0 en 'Winning Percentage' y 'Score'\n",
    "dfwinners_fights = dfwinners_fights[(dfwinners_fights['Winning Percentage'] != 0) & (dfwinners_fights['Score'] != 0)]\n",
    "dfwinners_fights"
   ]
  },
  {
   "cell_type": "code",
   "execution_count": 123,
   "metadata": {},
   "outputs": [
    {
     "data": {
      "text/html": [
       "<div>\n",
       "<style scoped>\n",
       "    .dataframe tbody tr th:only-of-type {\n",
       "        vertical-align: middle;\n",
       "    }\n",
       "\n",
       "    .dataframe tbody tr th {\n",
       "        vertical-align: top;\n",
       "    }\n",
       "\n",
       "    .dataframe thead th {\n",
       "        text-align: right;\n",
       "    }\n",
       "</style>\n",
       "<table border=\"1\" class=\"dataframe\">\n",
       "  <thead>\n",
       "    <tr style=\"text-align: right;\">\n",
       "      <th></th>\n",
       "      <th>W</th>\n",
       "      <th>L</th>\n",
       "      <th>D</th>\n",
       "      <th>NC</th>\n",
       "      <th>Height</th>\n",
       "      <th>Weight</th>\n",
       "      <th>Reach</th>\n",
       "      <th>Stance</th>\n",
       "      <th>SLpM</th>\n",
       "      <th>StrAcc</th>\n",
       "      <th>SApM</th>\n",
       "      <th>StrDef</th>\n",
       "      <th>TdAvg</th>\n",
       "      <th>TdAcc</th>\n",
       "      <th>TdDef</th>\n",
       "      <th>SubAvg</th>\n",
       "      <th>Age</th>\n",
       "      <th>Total Fights</th>\n",
       "      <th>Winning Percentage</th>\n",
       "      <th>Score</th>\n",
       "    </tr>\n",
       "    <tr>\n",
       "      <th>Full Name</th>\n",
       "      <th></th>\n",
       "      <th></th>\n",
       "      <th></th>\n",
       "      <th></th>\n",
       "      <th></th>\n",
       "      <th></th>\n",
       "      <th></th>\n",
       "      <th></th>\n",
       "      <th></th>\n",
       "      <th></th>\n",
       "      <th></th>\n",
       "      <th></th>\n",
       "      <th></th>\n",
       "      <th></th>\n",
       "      <th></th>\n",
       "      <th></th>\n",
       "      <th></th>\n",
       "      <th></th>\n",
       "      <th></th>\n",
       "      <th></th>\n",
       "    </tr>\n",
       "  </thead>\n",
       "  <tbody>\n",
       "    <tr>\n",
       "      <th>Donald Cerrone</th>\n",
       "      <td>23</td>\n",
       "      <td>13</td>\n",
       "      <td>0</td>\n",
       "      <td>1</td>\n",
       "      <td>6' 1\"</td>\n",
       "      <td>170.0</td>\n",
       "      <td>73.0</td>\n",
       "      <td>Orthodox</td>\n",
       "      <td>4.43</td>\n",
       "      <td>46</td>\n",
       "      <td>4.49</td>\n",
       "      <td>53</td>\n",
       "      <td>1.18</td>\n",
       "      <td>33</td>\n",
       "      <td>74</td>\n",
       "      <td>1.2</td>\n",
       "      <td>36.0</td>\n",
       "      <td>37</td>\n",
       "      <td>0.638889</td>\n",
       "      <td>9.583333</td>\n",
       "    </tr>\n",
       "    <tr>\n",
       "      <th>Jim Miller</th>\n",
       "      <td>21</td>\n",
       "      <td>15</td>\n",
       "      <td>0</td>\n",
       "      <td>1</td>\n",
       "      <td>5' 8\"</td>\n",
       "      <td>155.0</td>\n",
       "      <td>71.0</td>\n",
       "      <td>Southpaw</td>\n",
       "      <td>2.65</td>\n",
       "      <td>40</td>\n",
       "      <td>2.92</td>\n",
       "      <td>59</td>\n",
       "      <td>1.63</td>\n",
       "      <td>43</td>\n",
       "      <td>47</td>\n",
       "      <td>1.8</td>\n",
       "      <td>35.0</td>\n",
       "      <td>37</td>\n",
       "      <td>0.583333</td>\n",
       "      <td>8.750000</td>\n",
       "    </tr>\n",
       "    <tr>\n",
       "      <th>Andrei Arlovski</th>\n",
       "      <td>20</td>\n",
       "      <td>14</td>\n",
       "      <td>0</td>\n",
       "      <td>1</td>\n",
       "      <td>6' 3\"</td>\n",
       "      <td>240.0</td>\n",
       "      <td>77.0</td>\n",
       "      <td>Orthodox</td>\n",
       "      <td>3.62</td>\n",
       "      <td>44</td>\n",
       "      <td>2.95</td>\n",
       "      <td>57</td>\n",
       "      <td>0.45</td>\n",
       "      <td>36</td>\n",
       "      <td>78</td>\n",
       "      <td>0.2</td>\n",
       "      <td>23.0</td>\n",
       "      <td>35</td>\n",
       "      <td>0.588235</td>\n",
       "      <td>8.352941</td>\n",
       "    </tr>\n",
       "    <tr>\n",
       "      <th>Jeremy Stephens</th>\n",
       "      <td>15</td>\n",
       "      <td>17</td>\n",
       "      <td>0</td>\n",
       "      <td>1</td>\n",
       "      <td>5' 9\"</td>\n",
       "      <td>145.0</td>\n",
       "      <td>71.0</td>\n",
       "      <td>Orthodox</td>\n",
       "      <td>3.18</td>\n",
       "      <td>40</td>\n",
       "      <td>3.06</td>\n",
       "      <td>58</td>\n",
       "      <td>1.16</td>\n",
       "      <td>38</td>\n",
       "      <td>65</td>\n",
       "      <td>0.4</td>\n",
       "      <td>22.0</td>\n",
       "      <td>33</td>\n",
       "      <td>0.468750</td>\n",
       "      <td>6.281250</td>\n",
       "    </tr>\n",
       "    <tr>\n",
       "      <th>Demian Maia</th>\n",
       "      <td>22</td>\n",
       "      <td>10</td>\n",
       "      <td>0</td>\n",
       "      <td>0</td>\n",
       "      <td>6' 1\"</td>\n",
       "      <td>170.0</td>\n",
       "      <td>72.0</td>\n",
       "      <td>Southpaw</td>\n",
       "      <td>1.82</td>\n",
       "      <td>43</td>\n",
       "      <td>2.03</td>\n",
       "      <td>63</td>\n",
       "      <td>2.55</td>\n",
       "      <td>26</td>\n",
       "      <td>61</td>\n",
       "      <td>1.0</td>\n",
       "      <td>32.0</td>\n",
       "      <td>32</td>\n",
       "      <td>0.687500</td>\n",
       "      <td>9.212500</td>\n",
       "    </tr>\n",
       "    <tr>\n",
       "      <th>...</th>\n",
       "      <td>...</td>\n",
       "      <td>...</td>\n",
       "      <td>...</td>\n",
       "      <td>...</td>\n",
       "      <td>...</td>\n",
       "      <td>...</td>\n",
       "      <td>...</td>\n",
       "      <td>...</td>\n",
       "      <td>...</td>\n",
       "      <td>...</td>\n",
       "      <td>...</td>\n",
       "      <td>...</td>\n",
       "      <td>...</td>\n",
       "      <td>...</td>\n",
       "      <td>...</td>\n",
       "      <td>...</td>\n",
       "      <td>...</td>\n",
       "      <td>...</td>\n",
       "      <td>...</td>\n",
       "      <td>...</td>\n",
       "    </tr>\n",
       "    <tr>\n",
       "      <th>Casey O'Neill</th>\n",
       "      <td>1</td>\n",
       "      <td>0</td>\n",
       "      <td>0</td>\n",
       "      <td>0</td>\n",
       "      <td>5' 6\"</td>\n",
       "      <td>125.0</td>\n",
       "      <td>69.0</td>\n",
       "      <td>0</td>\n",
       "      <td>5.64</td>\n",
       "      <td>72</td>\n",
       "      <td>1.84</td>\n",
       "      <td>42</td>\n",
       "      <td>6.91</td>\n",
       "      <td>66</td>\n",
       "      <td>0</td>\n",
       "      <td>1.7</td>\n",
       "      <td>23.0</td>\n",
       "      <td>1</td>\n",
       "      <td>1.000000</td>\n",
       "      <td>1.000000</td>\n",
       "    </tr>\n",
       "    <tr>\n",
       "      <th>Uros Medic</th>\n",
       "      <td>1</td>\n",
       "      <td>0</td>\n",
       "      <td>0</td>\n",
       "      <td>0</td>\n",
       "      <td>6' 1\"</td>\n",
       "      <td>155.0</td>\n",
       "      <td>71.0</td>\n",
       "      <td>Southpaw</td>\n",
       "      <td>19.91</td>\n",
       "      <td>77</td>\n",
       "      <td>0.52</td>\n",
       "      <td>86</td>\n",
       "      <td>0.00</td>\n",
       "      <td>0</td>\n",
       "      <td>100</td>\n",
       "      <td>0.0</td>\n",
       "      <td>27.0</td>\n",
       "      <td>1</td>\n",
       "      <td>1.000000</td>\n",
       "      <td>1.000000</td>\n",
       "    </tr>\n",
       "    <tr>\n",
       "      <th>Ikuhisa Minowa</th>\n",
       "      <td>1</td>\n",
       "      <td>0</td>\n",
       "      <td>0</td>\n",
       "      <td>0</td>\n",
       "      <td>5' 9\"</td>\n",
       "      <td>181.0</td>\n",
       "      <td>0.0</td>\n",
       "      <td>Orthodox</td>\n",
       "      <td>0.88</td>\n",
       "      <td>40</td>\n",
       "      <td>1.66</td>\n",
       "      <td>49</td>\n",
       "      <td>1.82</td>\n",
       "      <td>41</td>\n",
       "      <td>5</td>\n",
       "      <td>1.9</td>\n",
       "      <td>24.0</td>\n",
       "      <td>1</td>\n",
       "      <td>1.000000</td>\n",
       "      <td>1.000000</td>\n",
       "    </tr>\n",
       "    <tr>\n",
       "      <th>Logan Clark</th>\n",
       "      <td>1</td>\n",
       "      <td>0</td>\n",
       "      <td>0</td>\n",
       "      <td>0</td>\n",
       "      <td>6' 2\"</td>\n",
       "      <td>185.0</td>\n",
       "      <td>0.0</td>\n",
       "      <td>Orthodox</td>\n",
       "      <td>2.20</td>\n",
       "      <td>54</td>\n",
       "      <td>1.49</td>\n",
       "      <td>53</td>\n",
       "      <td>0.31</td>\n",
       "      <td>100</td>\n",
       "      <td>30</td>\n",
       "      <td>2.1</td>\n",
       "      <td>21.0</td>\n",
       "      <td>1</td>\n",
       "      <td>1.000000</td>\n",
       "      <td>1.000000</td>\n",
       "    </tr>\n",
       "    <tr>\n",
       "      <th>Wang Guan</th>\n",
       "      <td>1</td>\n",
       "      <td>0</td>\n",
       "      <td>0</td>\n",
       "      <td>0</td>\n",
       "      <td>5' 9\"</td>\n",
       "      <td>145.0</td>\n",
       "      <td>71.0</td>\n",
       "      <td>Orthodox</td>\n",
       "      <td>4.73</td>\n",
       "      <td>43</td>\n",
       "      <td>3.27</td>\n",
       "      <td>60</td>\n",
       "      <td>0.00</td>\n",
       "      <td>0</td>\n",
       "      <td>0</td>\n",
       "      <td>0.0</td>\n",
       "      <td>31.0</td>\n",
       "      <td>1</td>\n",
       "      <td>1.000000</td>\n",
       "      <td>1.000000</td>\n",
       "    </tr>\n",
       "  </tbody>\n",
       "</table>\n",
       "<p>1452 rows × 20 columns</p>\n",
       "</div>"
      ],
      "text/plain": [
       "                  W   L  D  NC Height  Weight  Reach    Stance   SLpM  StrAcc  \\\n",
       "Full Name                                                                       \n",
       "Donald Cerrone   23  13  0   1  6' 1\"   170.0   73.0  Orthodox   4.43      46   \n",
       "Jim Miller       21  15  0   1  5' 8\"   155.0   71.0  Southpaw   2.65      40   \n",
       "Andrei Arlovski  20  14  0   1  6' 3\"   240.0   77.0  Orthodox   3.62      44   \n",
       "Jeremy Stephens  15  17  0   1  5' 9\"   145.0   71.0  Orthodox   3.18      40   \n",
       "Demian Maia      22  10  0   0  6' 1\"   170.0   72.0  Southpaw   1.82      43   \n",
       "...              ..  .. ..  ..    ...     ...    ...       ...    ...     ...   \n",
       "Casey O'Neill     1   0  0   0  5' 6\"   125.0   69.0         0   5.64      72   \n",
       "Uros Medic        1   0  0   0  6' 1\"   155.0   71.0  Southpaw  19.91      77   \n",
       "Ikuhisa Minowa    1   0  0   0  5' 9\"   181.0    0.0  Orthodox   0.88      40   \n",
       "Logan Clark       1   0  0   0  6' 2\"   185.0    0.0  Orthodox   2.20      54   \n",
       "Wang Guan         1   0  0   0  5' 9\"   145.0   71.0  Orthodox   4.73      43   \n",
       "\n",
       "                 SApM  StrDef  TdAvg  TdAcc  TdDef  SubAvg   Age  \\\n",
       "Full Name                                                          \n",
       "Donald Cerrone   4.49      53   1.18     33     74     1.2  36.0   \n",
       "Jim Miller       2.92      59   1.63     43     47     1.8  35.0   \n",
       "Andrei Arlovski  2.95      57   0.45     36     78     0.2  23.0   \n",
       "Jeremy Stephens  3.06      58   1.16     38     65     0.4  22.0   \n",
       "Demian Maia      2.03      63   2.55     26     61     1.0  32.0   \n",
       "...               ...     ...    ...    ...    ...     ...   ...   \n",
       "Casey O'Neill    1.84      42   6.91     66      0     1.7  23.0   \n",
       "Uros Medic       0.52      86   0.00      0    100     0.0  27.0   \n",
       "Ikuhisa Minowa   1.66      49   1.82     41      5     1.9  24.0   \n",
       "Logan Clark      1.49      53   0.31    100     30     2.1  21.0   \n",
       "Wang Guan        3.27      60   0.00      0      0     0.0  31.0   \n",
       "\n",
       "                 Total Fights  Winning Percentage     Score  \n",
       "Full Name                                                    \n",
       "Donald Cerrone             37            0.638889  9.583333  \n",
       "Jim Miller                 37            0.583333  8.750000  \n",
       "Andrei Arlovski            35            0.588235  8.352941  \n",
       "Jeremy Stephens            33            0.468750  6.281250  \n",
       "Demian Maia                32            0.687500  9.212500  \n",
       "...                       ...                 ...       ...  \n",
       "Casey O'Neill               1            1.000000  1.000000  \n",
       "Uros Medic                  1            1.000000  1.000000  \n",
       "Ikuhisa Minowa              1            1.000000  1.000000  \n",
       "Logan Clark                 1            1.000000  1.000000  \n",
       "Wang Guan                   1            1.000000  1.000000  \n",
       "\n",
       "[1452 rows x 20 columns]"
      ]
     },
     "execution_count": 123,
     "metadata": {},
     "output_type": "execute_result"
    }
   ],
   "source": [
    "dfwinners_fights['Score'] = (dfwinners_fights['W'] * 0.4 + dfwinners_fights['Winning Percentage'] * 0.6)\n",
    "dfwinners_fights = dfwinners_fights.sort_values(by=['Total Fights', 'Winning Percentage'], ascending=[False, False])\n",
    "# Elimina filas con NaN en 'Winning Percentage' y 'Score'\n",
    "dfwinners_fights.dropna(subset=['Winning Percentage', 'Score'], inplace=True)\n",
    "# Elimina filas con 0 en 'Winning Percentage' y 'Score'\n",
    "dfwinners_fights = dfwinners_fights[(dfwinners_fights['Winning Percentage'] != 0) & (dfwinners_fights['Score'] != 0)]\n",
    "dfwinners_fights"
   ]
  }
 ],
 "metadata": {
  "kernelspec": {
   "display_name": "Python 3",
   "language": "python",
   "name": "python3"
  },
  "language_info": {
   "codemirror_mode": {
    "name": "ipython",
    "version": 3
   },
   "file_extension": ".py",
   "mimetype": "text/x-python",
   "name": "python",
   "nbconvert_exporter": "python",
   "pygments_lexer": "ipython3",
   "version": "3.12.0"
  }
 },
 "nbformat": 4,
 "nbformat_minor": 2
}
