{
 "cells": [
  {
   "cell_type": "code",
   "execution_count": 13,
   "metadata": {},
   "outputs": [],
   "source": [
    "import pandas as pd\n",
    "import seaborn as sb\n",
    "import matplotlib.pyplot as plt"
   ]
  },
  {
   "cell_type": "code",
   "execution_count": 16,
   "metadata": {},
   "outputs": [
    {
     "name": "stderr",
     "output_type": "stream",
     "text": [
      "C:\\Users\\AL3RR4GZ\\AppData\\Local\\Temp\\ipykernel_17048\\1058121189.py:2: DtypeWarning: Columns (20) have mixed types. Specify dtype option on import or set low_memory=False.\n",
      "  df = pd.read_csv('https://query.data.world/s/ujqgd4dkc26fuxtsfm4pfzxy6l72bl?dws=00000')\n"
     ]
    },
    {
     "ename": "AttributeError",
     "evalue": "'DataFrame' object has no attribute 'top'",
     "output_type": "error",
     "traceback": [
      "\u001b[1;31m---------------------------------------------------------------------------\u001b[0m",
      "\u001b[1;31mAttributeError\u001b[0m                            Traceback (most recent call last)",
      "\u001b[1;32m~\\AppData\\Local\\Temp\\ipykernel_17048\\1058121189.py\u001b[0m in \u001b[0;36m?\u001b[1;34m()\u001b[0m\n\u001b[0;32m      1\u001b[0m \u001b[1;32mimport\u001b[0m \u001b[0mpandas\u001b[0m \u001b[1;32mas\u001b[0m \u001b[0mpd\u001b[0m\u001b[1;33m\u001b[0m\u001b[1;33m\u001b[0m\u001b[0m\n\u001b[0;32m      2\u001b[0m \u001b[0mdf\u001b[0m \u001b[1;33m=\u001b[0m \u001b[0mpd\u001b[0m\u001b[1;33m.\u001b[0m\u001b[0mread_csv\u001b[0m\u001b[1;33m(\u001b[0m\u001b[1;34m'https://query.data.world/s/ujqgd4dkc26fuxtsfm4pfzxy6l72bl?dws=00000'\u001b[0m\u001b[1;33m)\u001b[0m\u001b[1;33m\u001b[0m\u001b[1;33m\u001b[0m\u001b[0m\n\u001b[1;32m----> 3\u001b[1;33m \u001b[0mdf\u001b[0m\u001b[1;33m.\u001b[0m\u001b[0mtop\u001b[0m\u001b[1;33m\u001b[0m\u001b[1;33m\u001b[0m\u001b[0m\n\u001b[0m",
      "\u001b[1;32mc:\\Users\\AL3RR4GZ\\AppData\\Local\\Programs\\Python\\Python312\\Lib\\site-packages\\pandas\\core\\generic.py\u001b[0m in \u001b[0;36m?\u001b[1;34m(self, name)\u001b[0m\n\u001b[0;32m   6200\u001b[0m             \u001b[1;32mand\u001b[0m \u001b[0mname\u001b[0m \u001b[1;32mnot\u001b[0m \u001b[1;32min\u001b[0m \u001b[0mself\u001b[0m\u001b[1;33m.\u001b[0m\u001b[0m_accessors\u001b[0m\u001b[1;33m\u001b[0m\u001b[1;33m\u001b[0m\u001b[0m\n\u001b[0;32m   6201\u001b[0m             \u001b[1;32mand\u001b[0m \u001b[0mself\u001b[0m\u001b[1;33m.\u001b[0m\u001b[0m_info_axis\u001b[0m\u001b[1;33m.\u001b[0m\u001b[0m_can_hold_identifiers_and_holds_name\u001b[0m\u001b[1;33m(\u001b[0m\u001b[0mname\u001b[0m\u001b[1;33m)\u001b[0m\u001b[1;33m\u001b[0m\u001b[1;33m\u001b[0m\u001b[0m\n\u001b[0;32m   6202\u001b[0m         \u001b[1;33m)\u001b[0m\u001b[1;33m:\u001b[0m\u001b[1;33m\u001b[0m\u001b[1;33m\u001b[0m\u001b[0m\n\u001b[0;32m   6203\u001b[0m             \u001b[1;32mreturn\u001b[0m \u001b[0mself\u001b[0m\u001b[1;33m[\u001b[0m\u001b[0mname\u001b[0m\u001b[1;33m]\u001b[0m\u001b[1;33m\u001b[0m\u001b[1;33m\u001b[0m\u001b[0m\n\u001b[1;32m-> 6204\u001b[1;33m         \u001b[1;32mreturn\u001b[0m \u001b[0mobject\u001b[0m\u001b[1;33m.\u001b[0m\u001b[0m__getattribute__\u001b[0m\u001b[1;33m(\u001b[0m\u001b[0mself\u001b[0m\u001b[1;33m,\u001b[0m \u001b[0mname\u001b[0m\u001b[1;33m)\u001b[0m\u001b[1;33m\u001b[0m\u001b[1;33m\u001b[0m\u001b[0m\n\u001b[0m",
      "\u001b[1;31mAttributeError\u001b[0m: 'DataFrame' object has no attribute 'top'"
     ]
    }
   ],
   "source": [
    "import pandas as pd\n",
    "df = pd.read_csv('https://query.data.world/s/ujqgd4dkc26fuxtsfm4pfzxy6l72bl?dws=00000')\n",
    "df.head()"
   ]
  },
  {
   "cell_type": "code",
   "execution_count": 10,
   "metadata": {},
   "outputs": [
    {
     "name": "stdout",
     "output_type": "stream",
     "text": [
      "['Unnamed: 0', 'Date', 'Event-Code', 'Event-Name', 'Full Name', 'Fighter-2-Name', 'W', 'L', 'D', 'NC', 'KO/TKO', 'Submission', 'Decision - Unanimous', 'Decision - Majority', 'Decision - Split', \"TKO - Doctor's Stoppage\", 'DQ', 'Overturned', 'Could Not Continue', 'Other', 'Details', 'Judge-1-Name', 'Judge-1-Score', 'Judge-2-Name', 'Judge-2-Score', 'Judge-3-Name', 'Judge-3-Score', 'Finish-Time', 'Finish-Round', 'Total-Rounds', 'Total-Fight-Time-Sec', 'Referee', 'Belt', \"Women's-Bout\", 'Interim-Bout', 'Strawweight', 'Flyweight', 'Bantamweight', 'Featherweight', 'Lightweight', 'Welterweight', 'Middleweight', 'Light-Heavyweight', 'Heavyweight', 'Catch-Weight', 'Open-Weight', 'Super-Heavyweight', 'Superfight', 'Fight-Bonus', 'Performance-Bonus', 'KO-Bonus', 'Submission-Bonus', 'Knockdowns', 'Significant-Strike-Land', 'Significant-Strike-Attempt', 'Significant-Strike-Percent', 'Total-Strikes-Land', 'Total-Strikes-Attempt', 'Takedown-Success', 'Takedown-Land', 'Takedown-Percent', 'Submission-Attempt', 'Submission-Reverse', 'Control-Time-Sec', 'Head-Land', 'Head-Attempt', 'Body-Land', 'Body-Attempt', 'Leg-Land', 'Leg-Attempt', 'Distance-Land', 'Distance-Attempt', 'Clinch-Land', 'Clinch-Attempt', 'Ground-Land', 'Ground-Attempt', 'Fighter-Active-Status', 'Fight-City', 'Fight-State', 'Fight-Country', 'PPV-Sales', 'Height', 'Weight', 'Reach', 'Stance', 'Date of Birth', 'SLpM', 'StrAcc', 'SApM', 'StrDef', 'TdAvg', 'TdAcc', 'TdDef', 'SubAvg', 'Age-Days', 'Age', 'Round-1-Knockdown', 'Round-1-Significant-Strikes', 'Round-1-Significant-Strikes-Percent', 'Round-1-Total-Strikes', 'Round-1-Takedowns', 'Round-1-Takedown-Percent', 'Round-1-Submission-Attempt', 'Round-1-Submission-Reverse', 'Round-1-Control-Time', 'Round-1-Head', 'Round-1-Body', 'Round-1-Leg', 'Round-1-Distance', 'Round-1-Clinch', 'Round-1-Ground', 'Round-2-Knockdown', 'Round-2-Significant-Strikes', 'Round-2-Significant-Strikes-Percent', 'Round-2-Total-Strikes', 'Round-2-Takedowns', 'Round-2-Takedown-Percent', 'Round-2-Submission-Attempt', 'Round-2-Submission-Reverse', 'Round-2-Control-Time', 'Round-2-Head', 'Round-2-Body', 'Round-2-Leg', 'Round-2-Distance', 'Round-2-Clinch', 'Round-2-Ground', 'Round-3-Knockdown', 'Round-3-Significant-Strikes', 'Round-3-Significant-Strikes-Percent', 'Round-3-Total-Strikes', 'Round-3-Takedowns', 'Round-3-Takedown-Percent', 'Round-3-Submission-Attempt', 'Round-3-Submission-Reverse', 'Round-3-Control-Time', 'Round-3-Head', 'Round-3-Body', 'Round-3-Leg', 'Round-3-Distance', 'Round-3-Clinch', 'Round-3-Ground', 'Round-4-Knockdown', 'Round-4-Significant-Strikes', 'Round-4-Significant-Strikes-Percent', 'Round-4-Total-Strikes', 'Round-4-Takedowns', 'Round-4-Takedown-Percent', 'Round-4-Submission-Attempt', 'Round-4-Submission-Reverse', 'Round-4-Control-Time', 'Round-4-Head', 'Round-4-Body', 'Round-4-Leg', 'Round-4-Distance', 'Round-4-Clinch', 'Round-4-Ground', 'Round-5-Knockdown', 'Round-5-Significant-Strikes', 'Round-5-Significant-Strikes-Percent', 'Round-5-Total-Strikes', 'Round-5-Takedowns', 'Round-5-Takedown-Percent', 'Round-5-Submission-Attempt', 'Round-5-Submission-Reverse', 'Round-5-Control-Time', 'Round-5-Head', 'Round-5-Body', 'Round-5-Leg', 'Round-5-Distance', 'Round-5-Clinch', 'Round-5-Ground']\n"
     ]
    }
   ],
   "source": [
    "#columns = df.columns\n",
    "#columns\n",
    "columns_list = list(df)  # or df.columns.tolist()\n",
    "print(columns_list)"
   ]
  }
 ],
 "metadata": {
  "kernelspec": {
   "display_name": "Python 3",
   "language": "python",
   "name": "python3"
  },
  "language_info": {
   "codemirror_mode": {
    "name": "ipython",
    "version": 3
   },
   "file_extension": ".py",
   "mimetype": "text/x-python",
   "name": "python",
   "nbconvert_exporter": "python",
   "pygments_lexer": "ipython3",
   "version": "3.12.0"
  }
 },
 "nbformat": 4,
 "nbformat_minor": 2
}
