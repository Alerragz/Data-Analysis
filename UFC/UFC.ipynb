{
 "cells": [
  {
   "cell_type": "code",
   "execution_count": 1,
   "metadata": {},
   "outputs": [],
   "source": [
    "import pandas as pd\n",
    "import seaborn as sb\n",
    "import matplotlib.pyplot as plt\n",
    "import numpy as np"
   ]
  },
  {
   "cell_type": "code",
   "execution_count": 2,
   "metadata": {},
   "outputs": [
    {
     "name": "stderr",
     "output_type": "stream",
     "text": [
      "C:\\Users\\Nicolas\\AppData\\Local\\Temp\\ipykernel_3040\\1223515632.py:1: DtypeWarning: Columns (20) have mixed types. Specify dtype option on import or set low_memory=False.\n",
      "  df = pd.read_csv('https://query.data.world/s/ujqgd4dkc26fuxtsfm4pfzxy6l72bl?dws=00000')\n"
     ]
    }
   ],
   "source": [
    "df = pd.read_csv('https://query.data.world/s/ujqgd4dkc26fuxtsfm4pfzxy6l72bl?dws=00000')"
   ]
  },
  {
   "cell_type": "code",
   "execution_count": 3,
   "metadata": {},
   "outputs": [
    {
     "data": {
      "text/html": [
       "<div>\n",
       "<style scoped>\n",
       "    .dataframe tbody tr th:only-of-type {\n",
       "        vertical-align: middle;\n",
       "    }\n",
       "\n",
       "    .dataframe tbody tr th {\n",
       "        vertical-align: top;\n",
       "    }\n",
       "\n",
       "    .dataframe thead th {\n",
       "        text-align: right;\n",
       "    }\n",
       "</style>\n",
       "<table border=\"1\" class=\"dataframe\">\n",
       "  <thead>\n",
       "    <tr style=\"text-align: right;\">\n",
       "      <th></th>\n",
       "      <th>Date</th>\n",
       "      <th>Event-Code</th>\n",
       "      <th>Event-Name</th>\n",
       "      <th>Full Name</th>\n",
       "      <th>Fighter-2-Name</th>\n",
       "      <th>W</th>\n",
       "      <th>L</th>\n",
       "      <th>D</th>\n",
       "      <th>NC</th>\n",
       "      <th>KO/TKO</th>\n",
       "      <th>...</th>\n",
       "      <th>Round-5-Takedown-Percent</th>\n",
       "      <th>Round-5-Submission-Attempt</th>\n",
       "      <th>Round-5-Submission-Reverse</th>\n",
       "      <th>Round-5-Control-Time</th>\n",
       "      <th>Round-5-Head</th>\n",
       "      <th>Round-5-Body</th>\n",
       "      <th>Round-5-Leg</th>\n",
       "      <th>Round-5-Distance</th>\n",
       "      <th>Round-5-Clinch</th>\n",
       "      <th>Round-5-Ground</th>\n",
       "    </tr>\n",
       "    <tr>\n",
       "      <th>Index</th>\n",
       "      <th></th>\n",
       "      <th></th>\n",
       "      <th></th>\n",
       "      <th></th>\n",
       "      <th></th>\n",
       "      <th></th>\n",
       "      <th></th>\n",
       "      <th></th>\n",
       "      <th></th>\n",
       "      <th></th>\n",
       "      <th></th>\n",
       "      <th></th>\n",
       "      <th></th>\n",
       "      <th></th>\n",
       "      <th></th>\n",
       "      <th></th>\n",
       "      <th></th>\n",
       "      <th></th>\n",
       "      <th></th>\n",
       "      <th></th>\n",
       "      <th></th>\n",
       "    </tr>\n",
       "  </thead>\n",
       "  <tbody>\n",
       "    <tr>\n",
       "      <th>0</th>\n",
       "      <td>2021-03-06 00:00:00</td>\n",
       "      <td>6e2b1d631832921d</td>\n",
       "      <td>UFC 259: Blachowicz vs. Adesanya</td>\n",
       "      <td>Aalon Cruz</td>\n",
       "      <td>Uros Medic</td>\n",
       "      <td>0</td>\n",
       "      <td>1</td>\n",
       "      <td>0</td>\n",
       "      <td>0</td>\n",
       "      <td>1</td>\n",
       "      <td>...</td>\n",
       "      <td>0</td>\n",
       "      <td>0</td>\n",
       "      <td>0</td>\n",
       "      <td>NaN</td>\n",
       "      <td>NaN</td>\n",
       "      <td>NaN</td>\n",
       "      <td>NaN</td>\n",
       "      <td>NaN</td>\n",
       "      <td>NaN</td>\n",
       "      <td>NaN</td>\n",
       "    </tr>\n",
       "    <tr>\n",
       "      <th>1</th>\n",
       "      <td>2020-02-29 00:00:00</td>\n",
       "      <td>fc9a9559a05f2704</td>\n",
       "      <td>UFC Fight Night: Benavidez vs. Figueiredo</td>\n",
       "      <td>Aalon Cruz</td>\n",
       "      <td>Spike Carlyle</td>\n",
       "      <td>0</td>\n",
       "      <td>1</td>\n",
       "      <td>0</td>\n",
       "      <td>0</td>\n",
       "      <td>1</td>\n",
       "      <td>...</td>\n",
       "      <td>0</td>\n",
       "      <td>0</td>\n",
       "      <td>0</td>\n",
       "      <td>NaN</td>\n",
       "      <td>NaN</td>\n",
       "      <td>NaN</td>\n",
       "      <td>NaN</td>\n",
       "      <td>NaN</td>\n",
       "      <td>NaN</td>\n",
       "      <td>NaN</td>\n",
       "    </tr>\n",
       "    <tr>\n",
       "      <th>2</th>\n",
       "      <td>2000-11-17 00:00:00</td>\n",
       "      <td>da6dfd09cca1d705</td>\n",
       "      <td>UFC 28: High Stakes</td>\n",
       "      <td>Aaron Brink</td>\n",
       "      <td>Andrei Arlovski</td>\n",
       "      <td>0</td>\n",
       "      <td>1</td>\n",
       "      <td>0</td>\n",
       "      <td>0</td>\n",
       "      <td>0</td>\n",
       "      <td>...</td>\n",
       "      <td>0</td>\n",
       "      <td>0</td>\n",
       "      <td>0</td>\n",
       "      <td>NaN</td>\n",
       "      <td>NaN</td>\n",
       "      <td>NaN</td>\n",
       "      <td>NaN</td>\n",
       "      <td>NaN</td>\n",
       "      <td>NaN</td>\n",
       "      <td>NaN</td>\n",
       "    </tr>\n",
       "    <tr>\n",
       "      <th>3</th>\n",
       "      <td>2014-08-23 00:00:00</td>\n",
       "      <td>063649e21bc9d6d5</td>\n",
       "      <td>UFC Fight Night: Henderson vs Dos Anjos</td>\n",
       "      <td>Aaron Phillips</td>\n",
       "      <td>Matt Hobar</td>\n",
       "      <td>0</td>\n",
       "      <td>1</td>\n",
       "      <td>0</td>\n",
       "      <td>0</td>\n",
       "      <td>0</td>\n",
       "      <td>...</td>\n",
       "      <td>0</td>\n",
       "      <td>0</td>\n",
       "      <td>0</td>\n",
       "      <td>NaN</td>\n",
       "      <td>NaN</td>\n",
       "      <td>NaN</td>\n",
       "      <td>NaN</td>\n",
       "      <td>NaN</td>\n",
       "      <td>NaN</td>\n",
       "      <td>NaN</td>\n",
       "    </tr>\n",
       "    <tr>\n",
       "      <th>4</th>\n",
       "      <td>2020-07-15 00:00:00</td>\n",
       "      <td>18f5669a92e99d92</td>\n",
       "      <td>UFC Fight Night: Kattar vs. Ige</td>\n",
       "      <td>Aaron Phillips</td>\n",
       "      <td>Jack Shore</td>\n",
       "      <td>0</td>\n",
       "      <td>1</td>\n",
       "      <td>0</td>\n",
       "      <td>0</td>\n",
       "      <td>0</td>\n",
       "      <td>...</td>\n",
       "      <td>0</td>\n",
       "      <td>0</td>\n",
       "      <td>0</td>\n",
       "      <td>NaN</td>\n",
       "      <td>NaN</td>\n",
       "      <td>NaN</td>\n",
       "      <td>NaN</td>\n",
       "      <td>NaN</td>\n",
       "      <td>NaN</td>\n",
       "      <td>NaN</td>\n",
       "    </tr>\n",
       "    <tr>\n",
       "      <th>5</th>\n",
       "      <td>2014-05-24 00:00:00</td>\n",
       "      <td>9ca265dfe8323db3</td>\n",
       "      <td>UFC 173: Barao vs Dillashaw</td>\n",
       "      <td>Aaron Phillips</td>\n",
       "      <td>Sam Sicilia</td>\n",
       "      <td>0</td>\n",
       "      <td>1</td>\n",
       "      <td>0</td>\n",
       "      <td>0</td>\n",
       "      <td>0</td>\n",
       "      <td>...</td>\n",
       "      <td>0</td>\n",
       "      <td>0</td>\n",
       "      <td>0</td>\n",
       "      <td>NaN</td>\n",
       "      <td>NaN</td>\n",
       "      <td>NaN</td>\n",
       "      <td>NaN</td>\n",
       "      <td>NaN</td>\n",
       "      <td>NaN</td>\n",
       "      <td>NaN</td>\n",
       "    </tr>\n",
       "    <tr>\n",
       "      <th>6</th>\n",
       "      <td>2009-03-07 00:00:00</td>\n",
       "      <td>29b5791e51e7e832</td>\n",
       "      <td>UFC 96: Jackson vs Jardine</td>\n",
       "      <td>Aaron Riley</td>\n",
       "      <td>Shane Nelson</td>\n",
       "      <td>0</td>\n",
       "      <td>1</td>\n",
       "      <td>0</td>\n",
       "      <td>0</td>\n",
       "      <td>1</td>\n",
       "      <td>...</td>\n",
       "      <td>0</td>\n",
       "      <td>0</td>\n",
       "      <td>0</td>\n",
       "      <td>NaN</td>\n",
       "      <td>NaN</td>\n",
       "      <td>NaN</td>\n",
       "      <td>NaN</td>\n",
       "      <td>NaN</td>\n",
       "      <td>NaN</td>\n",
       "      <td>NaN</td>\n",
       "    </tr>\n",
       "    <tr>\n",
       "      <th>7</th>\n",
       "      <td>2006-01-16 00:00:00</td>\n",
       "      <td>2ee09ec2a0695eb9</td>\n",
       "      <td>UFC Fight Night 3</td>\n",
       "      <td>Aaron Riley</td>\n",
       "      <td>Spencer Fisher</td>\n",
       "      <td>0</td>\n",
       "      <td>1</td>\n",
       "      <td>0</td>\n",
       "      <td>0</td>\n",
       "      <td>0</td>\n",
       "      <td>...</td>\n",
       "      <td>0</td>\n",
       "      <td>0</td>\n",
       "      <td>0</td>\n",
       "      <td>NaN</td>\n",
       "      <td>NaN</td>\n",
       "      <td>NaN</td>\n",
       "      <td>NaN</td>\n",
       "      <td>NaN</td>\n",
       "      <td>NaN</td>\n",
       "      <td>NaN</td>\n",
       "    </tr>\n",
       "    <tr>\n",
       "      <th>8</th>\n",
       "      <td>2009-08-08 00:00:00</td>\n",
       "      <td>48d1f690b763934c</td>\n",
       "      <td>UFC 101: Declaration</td>\n",
       "      <td>Aaron Riley</td>\n",
       "      <td>Shane Nelson</td>\n",
       "      <td>1</td>\n",
       "      <td>0</td>\n",
       "      <td>0</td>\n",
       "      <td>0</td>\n",
       "      <td>0</td>\n",
       "      <td>...</td>\n",
       "      <td>0</td>\n",
       "      <td>0</td>\n",
       "      <td>0</td>\n",
       "      <td>NaN</td>\n",
       "      <td>NaN</td>\n",
       "      <td>NaN</td>\n",
       "      <td>NaN</td>\n",
       "      <td>NaN</td>\n",
       "      <td>NaN</td>\n",
       "      <td>NaN</td>\n",
       "    </tr>\n",
       "    <tr>\n",
       "      <th>9</th>\n",
       "      <td>2013-07-27 00:00:00</td>\n",
       "      <td>5330fe7e4c3af81c</td>\n",
       "      <td>UFC on FOX: Johnson vs Moraga</td>\n",
       "      <td>Aaron Riley</td>\n",
       "      <td>Justin Salas</td>\n",
       "      <td>0</td>\n",
       "      <td>1</td>\n",
       "      <td>0</td>\n",
       "      <td>0</td>\n",
       "      <td>0</td>\n",
       "      <td>...</td>\n",
       "      <td>0</td>\n",
       "      <td>0</td>\n",
       "      <td>0</td>\n",
       "      <td>NaN</td>\n",
       "      <td>NaN</td>\n",
       "      <td>NaN</td>\n",
       "      <td>NaN</td>\n",
       "      <td>NaN</td>\n",
       "      <td>NaN</td>\n",
       "      <td>NaN</td>\n",
       "    </tr>\n",
       "  </tbody>\n",
       "</table>\n",
       "<p>10 rows × 170 columns</p>\n",
       "</div>"
      ],
      "text/plain": [
       "                      Date        Event-Code  \\\n",
       "Index                                          \n",
       "0      2021-03-06 00:00:00  6e2b1d631832921d   \n",
       "1      2020-02-29 00:00:00  fc9a9559a05f2704   \n",
       "2      2000-11-17 00:00:00  da6dfd09cca1d705   \n",
       "3      2014-08-23 00:00:00  063649e21bc9d6d5   \n",
       "4      2020-07-15 00:00:00  18f5669a92e99d92   \n",
       "5      2014-05-24 00:00:00  9ca265dfe8323db3   \n",
       "6      2009-03-07 00:00:00  29b5791e51e7e832   \n",
       "7      2006-01-16 00:00:00  2ee09ec2a0695eb9   \n",
       "8      2009-08-08 00:00:00  48d1f690b763934c   \n",
       "9      2013-07-27 00:00:00  5330fe7e4c3af81c   \n",
       "\n",
       "                                      Event-Name       Full Name  \\\n",
       "Index                                                              \n",
       "0               UFC 259: Blachowicz vs. Adesanya      Aalon Cruz   \n",
       "1      UFC Fight Night: Benavidez vs. Figueiredo      Aalon Cruz   \n",
       "2                            UFC 28: High Stakes     Aaron Brink   \n",
       "3        UFC Fight Night: Henderson vs Dos Anjos  Aaron Phillips   \n",
       "4                UFC Fight Night: Kattar vs. Ige  Aaron Phillips   \n",
       "5                    UFC 173: Barao vs Dillashaw  Aaron Phillips   \n",
       "6                     UFC 96: Jackson vs Jardine     Aaron Riley   \n",
       "7                              UFC Fight Night 3     Aaron Riley   \n",
       "8                           UFC 101: Declaration     Aaron Riley   \n",
       "9                  UFC on FOX: Johnson vs Moraga     Aaron Riley   \n",
       "\n",
       "        Fighter-2-Name  W  L  D  NC  KO/TKO  ...  Round-5-Takedown-Percent  \\\n",
       "Index                                        ...                             \n",
       "0           Uros Medic  0  1  0   0       1  ...                         0   \n",
       "1        Spike Carlyle  0  1  0   0       1  ...                         0   \n",
       "2      Andrei Arlovski  0  1  0   0       0  ...                         0   \n",
       "3           Matt Hobar  0  1  0   0       0  ...                         0   \n",
       "4           Jack Shore  0  1  0   0       0  ...                         0   \n",
       "5          Sam Sicilia  0  1  0   0       0  ...                         0   \n",
       "6         Shane Nelson  0  1  0   0       1  ...                         0   \n",
       "7       Spencer Fisher  0  1  0   0       0  ...                         0   \n",
       "8         Shane Nelson  1  0  0   0       0  ...                         0   \n",
       "9         Justin Salas  0  1  0   0       0  ...                         0   \n",
       "\n",
       "       Round-5-Submission-Attempt  Round-5-Submission-Reverse  \\\n",
       "Index                                                           \n",
       "0                               0                           0   \n",
       "1                               0                           0   \n",
       "2                               0                           0   \n",
       "3                               0                           0   \n",
       "4                               0                           0   \n",
       "5                               0                           0   \n",
       "6                               0                           0   \n",
       "7                               0                           0   \n",
       "8                               0                           0   \n",
       "9                               0                           0   \n",
       "\n",
       "       Round-5-Control-Time  Round-5-Head  Round-5-Body  Round-5-Leg  \\\n",
       "Index                                                                  \n",
       "0                       NaN           NaN           NaN          NaN   \n",
       "1                       NaN           NaN           NaN          NaN   \n",
       "2                       NaN           NaN           NaN          NaN   \n",
       "3                       NaN           NaN           NaN          NaN   \n",
       "4                       NaN           NaN           NaN          NaN   \n",
       "5                       NaN           NaN           NaN          NaN   \n",
       "6                       NaN           NaN           NaN          NaN   \n",
       "7                       NaN           NaN           NaN          NaN   \n",
       "8                       NaN           NaN           NaN          NaN   \n",
       "9                       NaN           NaN           NaN          NaN   \n",
       "\n",
       "       Round-5-Distance  Round-5-Clinch Round-5-Ground  \n",
       "Index                                                   \n",
       "0                   NaN             NaN            NaN  \n",
       "1                   NaN             NaN            NaN  \n",
       "2                   NaN             NaN            NaN  \n",
       "3                   NaN             NaN            NaN  \n",
       "4                   NaN             NaN            NaN  \n",
       "5                   NaN             NaN            NaN  \n",
       "6                   NaN             NaN            NaN  \n",
       "7                   NaN             NaN            NaN  \n",
       "8                   NaN             NaN            NaN  \n",
       "9                   NaN             NaN            NaN  \n",
       "\n",
       "[10 rows x 170 columns]"
      ]
     },
     "execution_count": 3,
     "metadata": {},
     "output_type": "execute_result"
    }
   ],
   "source": [
    "df = df.rename(columns={\"Unnamed: 0\": \"Index\"})\n",
    "df = df.set_index(\"Index\")\n",
    "df.head(10)"
   ]
  },
  {
   "cell_type": "code",
   "execution_count": 4,
   "metadata": {},
   "outputs": [
    {
     "data": {
      "text/plain": [
       "['Date',\n",
       " 'Event-Code',\n",
       " 'Event-Name',\n",
       " 'Full Name',\n",
       " 'Fighter-2-Name',\n",
       " 'W',\n",
       " 'L',\n",
       " 'D',\n",
       " 'NC',\n",
       " 'KO/TKO',\n",
       " 'Submission',\n",
       " 'Decision - Unanimous',\n",
       " 'Decision - Majority',\n",
       " 'Decision - Split',\n",
       " \"TKO - Doctor's Stoppage\",\n",
       " 'DQ',\n",
       " 'Overturned',\n",
       " 'Could Not Continue',\n",
       " 'Other',\n",
       " 'Details',\n",
       " 'Judge-1-Name',\n",
       " 'Judge-1-Score',\n",
       " 'Judge-2-Name',\n",
       " 'Judge-2-Score',\n",
       " 'Judge-3-Name',\n",
       " 'Judge-3-Score',\n",
       " 'Finish-Time',\n",
       " 'Finish-Round',\n",
       " 'Total-Rounds',\n",
       " 'Total-Fight-Time-Sec',\n",
       " 'Referee',\n",
       " 'Belt',\n",
       " \"Women's-Bout\",\n",
       " 'Interim-Bout',\n",
       " 'Strawweight',\n",
       " 'Flyweight',\n",
       " 'Bantamweight',\n",
       " 'Featherweight',\n",
       " 'Lightweight',\n",
       " 'Welterweight',\n",
       " 'Middleweight',\n",
       " 'Light-Heavyweight',\n",
       " 'Heavyweight',\n",
       " 'Catch-Weight',\n",
       " 'Open-Weight',\n",
       " 'Super-Heavyweight',\n",
       " 'Superfight',\n",
       " 'Fight-Bonus',\n",
       " 'Performance-Bonus',\n",
       " 'KO-Bonus',\n",
       " 'Submission-Bonus',\n",
       " 'Knockdowns',\n",
       " 'Significant-Strike-Land',\n",
       " 'Significant-Strike-Attempt',\n",
       " 'Significant-Strike-Percent',\n",
       " 'Total-Strikes-Land',\n",
       " 'Total-Strikes-Attempt',\n",
       " 'Takedown-Success',\n",
       " 'Takedown-Land',\n",
       " 'Takedown-Percent',\n",
       " 'Submission-Attempt',\n",
       " 'Submission-Reverse',\n",
       " 'Control-Time-Sec',\n",
       " 'Head-Land',\n",
       " 'Head-Attempt',\n",
       " 'Body-Land',\n",
       " 'Body-Attempt',\n",
       " 'Leg-Land',\n",
       " 'Leg-Attempt',\n",
       " 'Distance-Land',\n",
       " 'Distance-Attempt',\n",
       " 'Clinch-Land',\n",
       " 'Clinch-Attempt',\n",
       " 'Ground-Land',\n",
       " 'Ground-Attempt',\n",
       " 'Fighter-Active-Status',\n",
       " 'Fight-City',\n",
       " 'Fight-State',\n",
       " 'Fight-Country',\n",
       " 'PPV-Sales',\n",
       " 'Height',\n",
       " 'Weight',\n",
       " 'Reach',\n",
       " 'Stance',\n",
       " 'Date of Birth',\n",
       " 'SLpM',\n",
       " 'StrAcc',\n",
       " 'SApM',\n",
       " 'StrDef',\n",
       " 'TdAvg',\n",
       " 'TdAcc',\n",
       " 'TdDef',\n",
       " 'SubAvg',\n",
       " 'Age-Days',\n",
       " 'Age',\n",
       " 'Round-1-Knockdown',\n",
       " 'Round-1-Significant-Strikes',\n",
       " 'Round-1-Significant-Strikes-Percent',\n",
       " 'Round-1-Total-Strikes',\n",
       " 'Round-1-Takedowns',\n",
       " 'Round-1-Takedown-Percent',\n",
       " 'Round-1-Submission-Attempt',\n",
       " 'Round-1-Submission-Reverse',\n",
       " 'Round-1-Control-Time',\n",
       " 'Round-1-Head',\n",
       " 'Round-1-Body',\n",
       " 'Round-1-Leg',\n",
       " 'Round-1-Distance',\n",
       " 'Round-1-Clinch',\n",
       " 'Round-1-Ground',\n",
       " 'Round-2-Knockdown',\n",
       " 'Round-2-Significant-Strikes',\n",
       " 'Round-2-Significant-Strikes-Percent',\n",
       " 'Round-2-Total-Strikes',\n",
       " 'Round-2-Takedowns',\n",
       " 'Round-2-Takedown-Percent',\n",
       " 'Round-2-Submission-Attempt',\n",
       " 'Round-2-Submission-Reverse',\n",
       " 'Round-2-Control-Time',\n",
       " 'Round-2-Head',\n",
       " 'Round-2-Body',\n",
       " 'Round-2-Leg',\n",
       " 'Round-2-Distance',\n",
       " 'Round-2-Clinch',\n",
       " 'Round-2-Ground',\n",
       " 'Round-3-Knockdown',\n",
       " 'Round-3-Significant-Strikes',\n",
       " 'Round-3-Significant-Strikes-Percent',\n",
       " 'Round-3-Total-Strikes',\n",
       " 'Round-3-Takedowns',\n",
       " 'Round-3-Takedown-Percent',\n",
       " 'Round-3-Submission-Attempt',\n",
       " 'Round-3-Submission-Reverse',\n",
       " 'Round-3-Control-Time',\n",
       " 'Round-3-Head',\n",
       " 'Round-3-Body',\n",
       " 'Round-3-Leg',\n",
       " 'Round-3-Distance',\n",
       " 'Round-3-Clinch',\n",
       " 'Round-3-Ground',\n",
       " 'Round-4-Knockdown',\n",
       " 'Round-4-Significant-Strikes',\n",
       " 'Round-4-Significant-Strikes-Percent',\n",
       " 'Round-4-Total-Strikes',\n",
       " 'Round-4-Takedowns',\n",
       " 'Round-4-Takedown-Percent',\n",
       " 'Round-4-Submission-Attempt',\n",
       " 'Round-4-Submission-Reverse',\n",
       " 'Round-4-Control-Time',\n",
       " 'Round-4-Head',\n",
       " 'Round-4-Body',\n",
       " 'Round-4-Leg',\n",
       " 'Round-4-Distance',\n",
       " 'Round-4-Clinch',\n",
       " 'Round-4-Ground',\n",
       " 'Round-5-Knockdown',\n",
       " 'Round-5-Significant-Strikes',\n",
       " 'Round-5-Significant-Strikes-Percent',\n",
       " 'Round-5-Total-Strikes',\n",
       " 'Round-5-Takedowns',\n",
       " 'Round-5-Takedown-Percent',\n",
       " 'Round-5-Submission-Attempt',\n",
       " 'Round-5-Submission-Reverse',\n",
       " 'Round-5-Control-Time',\n",
       " 'Round-5-Head',\n",
       " 'Round-5-Body',\n",
       " 'Round-5-Leg',\n",
       " 'Round-5-Distance',\n",
       " 'Round-5-Clinch',\n",
       " 'Round-5-Ground']"
      ]
     },
     "execution_count": 4,
     "metadata": {},
     "output_type": "execute_result"
    }
   ],
   "source": [
    "#for column_name in df.columns:\n",
    "    #print(column_name)\n",
    "columns_to_list = list(df)\n",
    "columns_to_list"
   ]
  },
  {
   "cell_type": "code",
   "execution_count": 5,
   "metadata": {},
   "outputs": [],
   "source": [
    "# Supongamos que tienes un DataFrame llamado df\n",
    "df = df.fillna(0)"
   ]
  },
  {
   "cell_type": "code",
   "execution_count": 26,
   "metadata": {},
   "outputs": [
    {
     "name": "stderr",
     "output_type": "stream",
     "text": [
      "C:\\Users\\Nicolas\\AppData\\Local\\Temp\\ipykernel_3040\\3724158541.py:9: FutureWarning:\n",
      "\n",
      "The default value of numeric_only in DataFrameGroupBy.sum is deprecated. In a future version, numeric_only will default to False. Either specify numeric_only or select only columns which should be valid for the function.\n",
      "\n"
     ]
    },
    {
     "ename": "KeyError",
     "evalue": "'Win'",
     "output_type": "error",
     "traceback": [
      "\u001b[1;31m---------------------------------------------------------------------------\u001b[0m",
      "\u001b[1;31mKeyError\u001b[0m                                  Traceback (most recent call last)",
      "\u001b[1;32m~\\AppData\\Local\\Temp\\ipykernel_3040\\3724158541.py\u001b[0m in \u001b[0;36m?\u001b[1;34m()\u001b[0m\n\u001b[0;32m      7\u001b[0m \u001b[0mdfwinners_fights\u001b[0m\u001b[1;33m=\u001b[0m\u001b[0mpd\u001b[0m\u001b[1;33m.\u001b[0m\u001b[0mDataFrame\u001b[0m\u001b[1;33m(\u001b[0m\u001b[1;33m)\u001b[0m\u001b[1;33m\u001b[0m\u001b[1;33m\u001b[0m\u001b[0m\n\u001b[0;32m      8\u001b[0m \u001b[0mdfwinners_fights\u001b[0m\u001b[1;33m=\u001b[0m \u001b[0mdf\u001b[0m\u001b[1;33m[\u001b[0m\u001b[0mcolumnas_relevantes\u001b[0m\u001b[1;33m]\u001b[0m\u001b[1;33m\u001b[0m\u001b[1;33m\u001b[0m\u001b[0m\n\u001b[0;32m      9\u001b[0m \u001b[0mdfwinners_fights\u001b[0m\u001b[1;33m=\u001b[0m \u001b[0mdfwinners_fights\u001b[0m\u001b[1;33m.\u001b[0m\u001b[0mgroupby\u001b[0m\u001b[1;33m(\u001b[0m\u001b[1;34m'Full Name'\u001b[0m\u001b[1;33m)\u001b[0m\u001b[1;33m.\u001b[0m\u001b[0msum\u001b[0m\u001b[1;33m(\u001b[0m\u001b[1;33m)\u001b[0m\u001b[1;33m\u001b[0m\u001b[1;33m\u001b[0m\u001b[0m\n\u001b[0;32m     10\u001b[0m \u001b[0mdfwinners_fights\u001b[0m\u001b[1;33m[\u001b[0m\u001b[1;34m'Total Fights'\u001b[0m\u001b[1;33m]\u001b[0m\u001b[1;33m=\u001b[0m\u001b[0mdf\u001b[0m\u001b[1;33m.\u001b[0m\u001b[0mgroupby\u001b[0m\u001b[1;33m(\u001b[0m\u001b[1;34m'Full Name'\u001b[0m\u001b[1;33m)\u001b[0m\u001b[1;33m[\u001b[0m\u001b[1;34m'Date'\u001b[0m\u001b[1;33m]\u001b[0m\u001b[1;33m.\u001b[0m\u001b[0mcount\u001b[0m\u001b[1;33m(\u001b[0m\u001b[1;33m)\u001b[0m\u001b[1;33m\u001b[0m\u001b[1;33m\u001b[0m\u001b[0m\n\u001b[1;32m---> 11\u001b[1;33m \u001b[0mdfwinners_fights\u001b[0m \u001b[1;33m=\u001b[0m \u001b[0mdfwinners_fights\u001b[0m\u001b[1;33m.\u001b[0m\u001b[0msort_values\u001b[0m\u001b[1;33m(\u001b[0m\u001b[0mby\u001b[0m\u001b[1;33m=\u001b[0m\u001b[1;34m'Win'\u001b[0m\u001b[1;33m,\u001b[0m\u001b[0mascending\u001b[0m\u001b[1;33m=\u001b[0m\u001b[1;32mFalse\u001b[0m\u001b[1;33m)\u001b[0m\u001b[1;33m\u001b[0m\u001b[1;33m\u001b[0m\u001b[0m\n\u001b[0m\u001b[0;32m     12\u001b[0m \u001b[0mprint\u001b[0m\u001b[1;33m(\u001b[0m\u001b[0mdfwinners_fights\u001b[0m\u001b[1;33m)\u001b[0m\u001b[1;33m\u001b[0m\u001b[1;33m\u001b[0m\u001b[0m\n",
      "\u001b[1;32mc:\\Users\\Nicolas\\AppData\\Local\\Programs\\Python\\Python311\\Lib\\site-packages\\pandas\\util\\_decorators.py\u001b[0m in \u001b[0;36m?\u001b[1;34m(*args, **kwargs)\u001b[0m\n\u001b[0;32m    327\u001b[0m                     \u001b[0mmsg\u001b[0m\u001b[1;33m.\u001b[0m\u001b[0mformat\u001b[0m\u001b[1;33m(\u001b[0m\u001b[0marguments\u001b[0m\u001b[1;33m=\u001b[0m\u001b[0m_format_argument_list\u001b[0m\u001b[1;33m(\u001b[0m\u001b[0mallow_args\u001b[0m\u001b[1;33m)\u001b[0m\u001b[1;33m)\u001b[0m\u001b[1;33m,\u001b[0m\u001b[1;33m\u001b[0m\u001b[1;33m\u001b[0m\u001b[0m\n\u001b[0;32m    328\u001b[0m                     \u001b[0mFutureWarning\u001b[0m\u001b[1;33m,\u001b[0m\u001b[1;33m\u001b[0m\u001b[1;33m\u001b[0m\u001b[0m\n\u001b[0;32m    329\u001b[0m                     \u001b[0mstacklevel\u001b[0m\u001b[1;33m=\u001b[0m\u001b[0mfind_stack_level\u001b[0m\u001b[1;33m(\u001b[0m\u001b[1;33m)\u001b[0m\u001b[1;33m,\u001b[0m\u001b[1;33m\u001b[0m\u001b[1;33m\u001b[0m\u001b[0m\n\u001b[0;32m    330\u001b[0m                 )\n\u001b[1;32m--> 331\u001b[1;33m             \u001b[1;32mreturn\u001b[0m \u001b[0mfunc\u001b[0m\u001b[1;33m(\u001b[0m\u001b[1;33m*\u001b[0m\u001b[0margs\u001b[0m\u001b[1;33m,\u001b[0m \u001b[1;33m**\u001b[0m\u001b[0mkwargs\u001b[0m\u001b[1;33m)\u001b[0m\u001b[1;33m\u001b[0m\u001b[1;33m\u001b[0m\u001b[0m\n\u001b[0m",
      "\u001b[1;32mc:\\Users\\Nicolas\\AppData\\Local\\Programs\\Python\\Python311\\Lib\\site-packages\\pandas\\core\\frame.py\u001b[0m in \u001b[0;36m?\u001b[1;34m(self, by, axis, ascending, inplace, kind, na_position, ignore_index, key)\u001b[0m\n\u001b[0;32m   6908\u001b[0m         \u001b[1;32melif\u001b[0m \u001b[0mlen\u001b[0m\u001b[1;33m(\u001b[0m\u001b[0mby\u001b[0m\u001b[1;33m)\u001b[0m\u001b[1;33m:\u001b[0m\u001b[1;33m\u001b[0m\u001b[1;33m\u001b[0m\u001b[0m\n\u001b[0;32m   6909\u001b[0m             \u001b[1;31m# len(by) == 1\u001b[0m\u001b[1;33m\u001b[0m\u001b[1;33m\u001b[0m\u001b[0m\n\u001b[0;32m   6910\u001b[0m \u001b[1;33m\u001b[0m\u001b[0m\n\u001b[0;32m   6911\u001b[0m             \u001b[0mby\u001b[0m \u001b[1;33m=\u001b[0m \u001b[0mby\u001b[0m\u001b[1;33m[\u001b[0m\u001b[1;36m0\u001b[0m\u001b[1;33m]\u001b[0m\u001b[1;33m\u001b[0m\u001b[1;33m\u001b[0m\u001b[0m\n\u001b[1;32m-> 6912\u001b[1;33m             \u001b[0mk\u001b[0m \u001b[1;33m=\u001b[0m \u001b[0mself\u001b[0m\u001b[1;33m.\u001b[0m\u001b[0m_get_label_or_level_values\u001b[0m\u001b[1;33m(\u001b[0m\u001b[0mby\u001b[0m\u001b[1;33m,\u001b[0m \u001b[0maxis\u001b[0m\u001b[1;33m=\u001b[0m\u001b[0maxis\u001b[0m\u001b[1;33m)\u001b[0m\u001b[1;33m\u001b[0m\u001b[1;33m\u001b[0m\u001b[0m\n\u001b[0m\u001b[0;32m   6913\u001b[0m \u001b[1;33m\u001b[0m\u001b[0m\n\u001b[0;32m   6914\u001b[0m             \u001b[1;31m# need to rewrap column in Series to apply key function\u001b[0m\u001b[1;33m\u001b[0m\u001b[1;33m\u001b[0m\u001b[0m\n\u001b[0;32m   6915\u001b[0m             \u001b[1;32mif\u001b[0m \u001b[0mkey\u001b[0m \u001b[1;32mis\u001b[0m \u001b[1;32mnot\u001b[0m \u001b[1;32mNone\u001b[0m\u001b[1;33m:\u001b[0m\u001b[1;33m\u001b[0m\u001b[1;33m\u001b[0m\u001b[0m\n",
      "\u001b[1;32mc:\\Users\\Nicolas\\AppData\\Local\\Programs\\Python\\Python311\\Lib\\site-packages\\pandas\\core\\generic.py\u001b[0m in \u001b[0;36m?\u001b[1;34m(self, key, axis)\u001b[0m\n\u001b[0;32m   1846\u001b[0m                 \u001b[1;33m.\u001b[0m\u001b[0mget_level_values\u001b[0m\u001b[1;33m(\u001b[0m\u001b[0mkey\u001b[0m\u001b[1;33m)\u001b[0m  \u001b[1;31m# type: ignore[assignment]\u001b[0m\u001b[1;33m\u001b[0m\u001b[1;33m\u001b[0m\u001b[0m\n\u001b[0;32m   1847\u001b[0m                 \u001b[1;33m.\u001b[0m\u001b[0m_values\u001b[0m\u001b[1;33m\u001b[0m\u001b[1;33m\u001b[0m\u001b[0m\n\u001b[0;32m   1848\u001b[0m             )\n\u001b[0;32m   1849\u001b[0m         \u001b[1;32melse\u001b[0m\u001b[1;33m:\u001b[0m\u001b[1;33m\u001b[0m\u001b[1;33m\u001b[0m\u001b[0m\n\u001b[1;32m-> 1850\u001b[1;33m             \u001b[1;32mraise\u001b[0m \u001b[0mKeyError\u001b[0m\u001b[1;33m(\u001b[0m\u001b[0mkey\u001b[0m\u001b[1;33m)\u001b[0m\u001b[1;33m\u001b[0m\u001b[1;33m\u001b[0m\u001b[0m\n\u001b[0m\u001b[0;32m   1851\u001b[0m \u001b[1;33m\u001b[0m\u001b[0m\n\u001b[0;32m   1852\u001b[0m         \u001b[1;31m# Check for duplicates\u001b[0m\u001b[1;33m\u001b[0m\u001b[1;33m\u001b[0m\u001b[0m\n\u001b[0;32m   1853\u001b[0m         \u001b[1;32mif\u001b[0m \u001b[0mvalues\u001b[0m\u001b[1;33m.\u001b[0m\u001b[0mndim\u001b[0m \u001b[1;33m>\u001b[0m \u001b[1;36m1\u001b[0m\u001b[1;33m:\u001b[0m\u001b[1;33m\u001b[0m\u001b[1;33m\u001b[0m\u001b[0m\n",
      "\u001b[1;31mKeyError\u001b[0m: 'Win'"
     ]
    }
   ],
   "source": [
    "columnas_relevantes = [\n",
    "    'Full Name', 'W', 'L', 'D', 'NC',\n",
    "    'Height', 'Weight', 'Reach', 'Stance',\n",
    "    'SLpM', 'StrAcc', 'SApM', 'StrDef',\n",
    "    'TdAvg', 'TdAcc', 'TdDef', 'SubAvg',\n",
    "    'Age']\n",
    "dfwinners_fights=pd.DataFrame()\n",
    "dfwinners_fights= df[columnas_relevantes]\n",
    "dfwinners_fights= dfwinners_fights.groupby('Full Name').sum()\n",
    "dfwinners_fights['Total Fights']=df.groupby('Full Name')['Date'].count()\n",
    "'''dfwinners_fights = dfwinners_fights.sort_values(by='Win',ascending=False)'''\n",
    "print(dfwinners_fights)"
   ]
  },
  {
   "cell_type": "code",
   "execution_count": 7,
   "metadata": {},
   "outputs": [
    {
     "data": {
      "application/vnd.plotly.v1+json": {
       "config": {
        "plotlyServerURL": "https://plot.ly"
       },
       "data": [
        {
         "fill": "toself",
         "fillcolor": "rgba(255, 0, 0, 0.5)",
         "line": {
          "color": "red"
         },
         "name": "Aalon Cruz",
         "r": [
          10,
          7,
          5,
          8,
          6,
          5,
          9,
          7
         ],
         "theta": [
          "SLpM",
          "StrAcc",
          "SApM",
          "StrDef",
          "TdAvg",
          "TdAcc",
          "TdDef",
          "SubAvg"
         ],
         "type": "scatterpolar"
        },
        {
         "fill": "toself",
         "fillcolor": "rgba(0, 0, 255, 0.5)",
         "line": {
          "color": "blue"
         },
         "name": "Uros Medic",
         "r": [
          8,
          6,
          8,
          7,
          5,
          7,
          6,
          8
         ],
         "theta": [
          "SLpM",
          "StrAcc",
          "SApM",
          "StrDef",
          "TdAvg",
          "TdAcc",
          "TdDef",
          "SubAvg"
         ],
         "type": "scatterpolar"
        }
       ],
       "layout": {
        "polar": {
         "radialaxis": {
          "range": [
           0,
           10
          ],
          "visible": true
         }
        },
        "template": {
         "data": {
          "bar": [
           {
            "error_x": {
             "color": "#2a3f5f"
            },
            "error_y": {
             "color": "#2a3f5f"
            },
            "marker": {
             "line": {
              "color": "#E5ECF6",
              "width": 0.5
             },
             "pattern": {
              "fillmode": "overlay",
              "size": 10,
              "solidity": 0.2
             }
            },
            "type": "bar"
           }
          ],
          "barpolar": [
           {
            "marker": {
             "line": {
              "color": "#E5ECF6",
              "width": 0.5
             },
             "pattern": {
              "fillmode": "overlay",
              "size": 10,
              "solidity": 0.2
             }
            },
            "type": "barpolar"
           }
          ],
          "carpet": [
           {
            "aaxis": {
             "endlinecolor": "#2a3f5f",
             "gridcolor": "white",
             "linecolor": "white",
             "minorgridcolor": "white",
             "startlinecolor": "#2a3f5f"
            },
            "baxis": {
             "endlinecolor": "#2a3f5f",
             "gridcolor": "white",
             "linecolor": "white",
             "minorgridcolor": "white",
             "startlinecolor": "#2a3f5f"
            },
            "type": "carpet"
           }
          ],
          "choropleth": [
           {
            "colorbar": {
             "outlinewidth": 0,
             "ticks": ""
            },
            "type": "choropleth"
           }
          ],
          "contour": [
           {
            "colorbar": {
             "outlinewidth": 0,
             "ticks": ""
            },
            "colorscale": [
             [
              0,
              "#0d0887"
             ],
             [
              0.1111111111111111,
              "#46039f"
             ],
             [
              0.2222222222222222,
              "#7201a8"
             ],
             [
              0.3333333333333333,
              "#9c179e"
             ],
             [
              0.4444444444444444,
              "#bd3786"
             ],
             [
              0.5555555555555556,
              "#d8576b"
             ],
             [
              0.6666666666666666,
              "#ed7953"
             ],
             [
              0.7777777777777778,
              "#fb9f3a"
             ],
             [
              0.8888888888888888,
              "#fdca26"
             ],
             [
              1,
              "#f0f921"
             ]
            ],
            "type": "contour"
           }
          ],
          "contourcarpet": [
           {
            "colorbar": {
             "outlinewidth": 0,
             "ticks": ""
            },
            "type": "contourcarpet"
           }
          ],
          "heatmap": [
           {
            "colorbar": {
             "outlinewidth": 0,
             "ticks": ""
            },
            "colorscale": [
             [
              0,
              "#0d0887"
             ],
             [
              0.1111111111111111,
              "#46039f"
             ],
             [
              0.2222222222222222,
              "#7201a8"
             ],
             [
              0.3333333333333333,
              "#9c179e"
             ],
             [
              0.4444444444444444,
              "#bd3786"
             ],
             [
              0.5555555555555556,
              "#d8576b"
             ],
             [
              0.6666666666666666,
              "#ed7953"
             ],
             [
              0.7777777777777778,
              "#fb9f3a"
             ],
             [
              0.8888888888888888,
              "#fdca26"
             ],
             [
              1,
              "#f0f921"
             ]
            ],
            "type": "heatmap"
           }
          ],
          "heatmapgl": [
           {
            "colorbar": {
             "outlinewidth": 0,
             "ticks": ""
            },
            "colorscale": [
             [
              0,
              "#0d0887"
             ],
             [
              0.1111111111111111,
              "#46039f"
             ],
             [
              0.2222222222222222,
              "#7201a8"
             ],
             [
              0.3333333333333333,
              "#9c179e"
             ],
             [
              0.4444444444444444,
              "#bd3786"
             ],
             [
              0.5555555555555556,
              "#d8576b"
             ],
             [
              0.6666666666666666,
              "#ed7953"
             ],
             [
              0.7777777777777778,
              "#fb9f3a"
             ],
             [
              0.8888888888888888,
              "#fdca26"
             ],
             [
              1,
              "#f0f921"
             ]
            ],
            "type": "heatmapgl"
           }
          ],
          "histogram": [
           {
            "marker": {
             "pattern": {
              "fillmode": "overlay",
              "size": 10,
              "solidity": 0.2
             }
            },
            "type": "histogram"
           }
          ],
          "histogram2d": [
           {
            "colorbar": {
             "outlinewidth": 0,
             "ticks": ""
            },
            "colorscale": [
             [
              0,
              "#0d0887"
             ],
             [
              0.1111111111111111,
              "#46039f"
             ],
             [
              0.2222222222222222,
              "#7201a8"
             ],
             [
              0.3333333333333333,
              "#9c179e"
             ],
             [
              0.4444444444444444,
              "#bd3786"
             ],
             [
              0.5555555555555556,
              "#d8576b"
             ],
             [
              0.6666666666666666,
              "#ed7953"
             ],
             [
              0.7777777777777778,
              "#fb9f3a"
             ],
             [
              0.8888888888888888,
              "#fdca26"
             ],
             [
              1,
              "#f0f921"
             ]
            ],
            "type": "histogram2d"
           }
          ],
          "histogram2dcontour": [
           {
            "colorbar": {
             "outlinewidth": 0,
             "ticks": ""
            },
            "colorscale": [
             [
              0,
              "#0d0887"
             ],
             [
              0.1111111111111111,
              "#46039f"
             ],
             [
              0.2222222222222222,
              "#7201a8"
             ],
             [
              0.3333333333333333,
              "#9c179e"
             ],
             [
              0.4444444444444444,
              "#bd3786"
             ],
             [
              0.5555555555555556,
              "#d8576b"
             ],
             [
              0.6666666666666666,
              "#ed7953"
             ],
             [
              0.7777777777777778,
              "#fb9f3a"
             ],
             [
              0.8888888888888888,
              "#fdca26"
             ],
             [
              1,
              "#f0f921"
             ]
            ],
            "type": "histogram2dcontour"
           }
          ],
          "mesh3d": [
           {
            "colorbar": {
             "outlinewidth": 0,
             "ticks": ""
            },
            "type": "mesh3d"
           }
          ],
          "parcoords": [
           {
            "line": {
             "colorbar": {
              "outlinewidth": 0,
              "ticks": ""
             }
            },
            "type": "parcoords"
           }
          ],
          "pie": [
           {
            "automargin": true,
            "type": "pie"
           }
          ],
          "scatter": [
           {
            "fillpattern": {
             "fillmode": "overlay",
             "size": 10,
             "solidity": 0.2
            },
            "type": "scatter"
           }
          ],
          "scatter3d": [
           {
            "line": {
             "colorbar": {
              "outlinewidth": 0,
              "ticks": ""
             }
            },
            "marker": {
             "colorbar": {
              "outlinewidth": 0,
              "ticks": ""
             }
            },
            "type": "scatter3d"
           }
          ],
          "scattercarpet": [
           {
            "marker": {
             "colorbar": {
              "outlinewidth": 0,
              "ticks": ""
             }
            },
            "type": "scattercarpet"
           }
          ],
          "scattergeo": [
           {
            "marker": {
             "colorbar": {
              "outlinewidth": 0,
              "ticks": ""
             }
            },
            "type": "scattergeo"
           }
          ],
          "scattergl": [
           {
            "marker": {
             "colorbar": {
              "outlinewidth": 0,
              "ticks": ""
             }
            },
            "type": "scattergl"
           }
          ],
          "scattermapbox": [
           {
            "marker": {
             "colorbar": {
              "outlinewidth": 0,
              "ticks": ""
             }
            },
            "type": "scattermapbox"
           }
          ],
          "scatterpolar": [
           {
            "marker": {
             "colorbar": {
              "outlinewidth": 0,
              "ticks": ""
             }
            },
            "type": "scatterpolar"
           }
          ],
          "scatterpolargl": [
           {
            "marker": {
             "colorbar": {
              "outlinewidth": 0,
              "ticks": ""
             }
            },
            "type": "scatterpolargl"
           }
          ],
          "scatterternary": [
           {
            "marker": {
             "colorbar": {
              "outlinewidth": 0,
              "ticks": ""
             }
            },
            "type": "scatterternary"
           }
          ],
          "surface": [
           {
            "colorbar": {
             "outlinewidth": 0,
             "ticks": ""
            },
            "colorscale": [
             [
              0,
              "#0d0887"
             ],
             [
              0.1111111111111111,
              "#46039f"
             ],
             [
              0.2222222222222222,
              "#7201a8"
             ],
             [
              0.3333333333333333,
              "#9c179e"
             ],
             [
              0.4444444444444444,
              "#bd3786"
             ],
             [
              0.5555555555555556,
              "#d8576b"
             ],
             [
              0.6666666666666666,
              "#ed7953"
             ],
             [
              0.7777777777777778,
              "#fb9f3a"
             ],
             [
              0.8888888888888888,
              "#fdca26"
             ],
             [
              1,
              "#f0f921"
             ]
            ],
            "type": "surface"
           }
          ],
          "table": [
           {
            "cells": {
             "fill": {
              "color": "#EBF0F8"
             },
             "line": {
              "color": "white"
             }
            },
            "header": {
             "fill": {
              "color": "#C8D4E3"
             },
             "line": {
              "color": "white"
             }
            },
            "type": "table"
           }
          ]
         },
         "layout": {
          "annotationdefaults": {
           "arrowcolor": "#2a3f5f",
           "arrowhead": 0,
           "arrowwidth": 1
          },
          "autotypenumbers": "strict",
          "coloraxis": {
           "colorbar": {
            "outlinewidth": 0,
            "ticks": ""
           }
          },
          "colorscale": {
           "diverging": [
            [
             0,
             "#8e0152"
            ],
            [
             0.1,
             "#c51b7d"
            ],
            [
             0.2,
             "#de77ae"
            ],
            [
             0.3,
             "#f1b6da"
            ],
            [
             0.4,
             "#fde0ef"
            ],
            [
             0.5,
             "#f7f7f7"
            ],
            [
             0.6,
             "#e6f5d0"
            ],
            [
             0.7,
             "#b8e186"
            ],
            [
             0.8,
             "#7fbc41"
            ],
            [
             0.9,
             "#4d9221"
            ],
            [
             1,
             "#276419"
            ]
           ],
           "sequential": [
            [
             0,
             "#0d0887"
            ],
            [
             0.1111111111111111,
             "#46039f"
            ],
            [
             0.2222222222222222,
             "#7201a8"
            ],
            [
             0.3333333333333333,
             "#9c179e"
            ],
            [
             0.4444444444444444,
             "#bd3786"
            ],
            [
             0.5555555555555556,
             "#d8576b"
            ],
            [
             0.6666666666666666,
             "#ed7953"
            ],
            [
             0.7777777777777778,
             "#fb9f3a"
            ],
            [
             0.8888888888888888,
             "#fdca26"
            ],
            [
             1,
             "#f0f921"
            ]
           ],
           "sequentialminus": [
            [
             0,
             "#0d0887"
            ],
            [
             0.1111111111111111,
             "#46039f"
            ],
            [
             0.2222222222222222,
             "#7201a8"
            ],
            [
             0.3333333333333333,
             "#9c179e"
            ],
            [
             0.4444444444444444,
             "#bd3786"
            ],
            [
             0.5555555555555556,
             "#d8576b"
            ],
            [
             0.6666666666666666,
             "#ed7953"
            ],
            [
             0.7777777777777778,
             "#fb9f3a"
            ],
            [
             0.8888888888888888,
             "#fdca26"
            ],
            [
             1,
             "#f0f921"
            ]
           ]
          },
          "colorway": [
           "#636efa",
           "#EF553B",
           "#00cc96",
           "#ab63fa",
           "#FFA15A",
           "#19d3f3",
           "#FF6692",
           "#B6E880",
           "#FF97FF",
           "#FECB52"
          ],
          "font": {
           "color": "#2a3f5f"
          },
          "geo": {
           "bgcolor": "white",
           "lakecolor": "white",
           "landcolor": "#E5ECF6",
           "showlakes": true,
           "showland": true,
           "subunitcolor": "white"
          },
          "hoverlabel": {
           "align": "left"
          },
          "hovermode": "closest",
          "mapbox": {
           "style": "light"
          },
          "paper_bgcolor": "white",
          "plot_bgcolor": "#E5ECF6",
          "polar": {
           "angularaxis": {
            "gridcolor": "white",
            "linecolor": "white",
            "ticks": ""
           },
           "bgcolor": "#E5ECF6",
           "radialaxis": {
            "gridcolor": "white",
            "linecolor": "white",
            "ticks": ""
           }
          },
          "scene": {
           "xaxis": {
            "backgroundcolor": "#E5ECF6",
            "gridcolor": "white",
            "gridwidth": 2,
            "linecolor": "white",
            "showbackground": true,
            "ticks": "",
            "zerolinecolor": "white"
           },
           "yaxis": {
            "backgroundcolor": "#E5ECF6",
            "gridcolor": "white",
            "gridwidth": 2,
            "linecolor": "white",
            "showbackground": true,
            "ticks": "",
            "zerolinecolor": "white"
           },
           "zaxis": {
            "backgroundcolor": "#E5ECF6",
            "gridcolor": "white",
            "gridwidth": 2,
            "linecolor": "white",
            "showbackground": true,
            "ticks": "",
            "zerolinecolor": "white"
           }
          },
          "shapedefaults": {
           "line": {
            "color": "#2a3f5f"
           }
          },
          "ternary": {
           "aaxis": {
            "gridcolor": "white",
            "linecolor": "white",
            "ticks": ""
           },
           "baxis": {
            "gridcolor": "white",
            "linecolor": "white",
            "ticks": ""
           },
           "bgcolor": "#E5ECF6",
           "caxis": {
            "gridcolor": "white",
            "linecolor": "white",
            "ticks": ""
           }
          },
          "title": {
           "x": 0.05
          },
          "xaxis": {
           "automargin": true,
           "gridcolor": "white",
           "linecolor": "white",
           "ticks": "",
           "title": {
            "standoff": 15
           },
           "zerolinecolor": "white",
           "zerolinewidth": 2
          },
          "yaxis": {
           "automargin": true,
           "gridcolor": "white",
           "linecolor": "white",
           "ticks": "",
           "title": {
            "standoff": 15
           },
           "zerolinecolor": "white",
           "zerolinewidth": 2
          }
         }
        }
       }
      }
     },
     "metadata": {},
     "output_type": "display_data"
    }
   ],
   "source": [
    "import plotly.graph_objects as go\n",
    "\n",
    "categorias = ['SLpM', 'StrAcc', 'SApM', 'StrDef', 'TdAvg', 'TdAcc', 'TdDef', 'SubAvg']\n",
    "adelie2 = [10, 7, 5, 8, 6, 5, 9, 7]  # Estadísticas de Aalon Cruz\n",
    "chinstrap2 = [8, 6, 8, 7, 5, 7, 6, 8]  # Estadísticas de Uros Medic\n",
    "\n",
    "fig = go.Figure()\n",
    "\n",
    "fig.add_trace(go.Scatterpolar(\n",
    "    r=adelie2,\n",
    "    theta=categorias,\n",
    "    fill='toself',\n",
    "    name='Aalon Cruz',\n",
    "    line=dict(color='red'),  # Cambia el color de la línea del luchador 1 a rojo\n",
    "    fillcolor='rgba(255, 0, 0, 0.5)'  # Establece el color de relleno (con transparencia) para el luchador 1\n",
    "))\n",
    "\n",
    "fig.add_trace(go.Scatterpolar(\n",
    "    r=chinstrap2,\n",
    "    theta=categorias,\n",
    "    fill='toself',\n",
    "    name='Uros Medic',\n",
    "    line=dict(color='blue'),  # Cambia el color de la línea del luchador 2 a azul\n",
    "    fillcolor='rgba(0, 0, 255, 0.5)'  # Establece el color de relleno (con transparencia) para el luchador 2\n",
    "))\n",
    "\n",
    "fig.update_layout(\n",
    "    polar=dict(\n",
    "        radialaxis=dict(\n",
    "            visible=True,\n",
    "            range=[0, 10]  # Ajusta el rango del eje radial según tus necesidades\n",
    "        )\n",
    "    )\n",
    ")\n",
    "\n",
    "fig.show()\n"
   ]
  },
  {
   "cell_type": "code",
   "execution_count": 8,
   "metadata": {},
   "outputs": [
    {
     "data": {
      "text/html": [
       "<div>\n",
       "<style scoped>\n",
       "    .dataframe tbody tr th:only-of-type {\n",
       "        vertical-align: middle;\n",
       "    }\n",
       "\n",
       "    .dataframe tbody tr th {\n",
       "        vertical-align: top;\n",
       "    }\n",
       "\n",
       "    .dataframe thead th {\n",
       "        text-align: right;\n",
       "    }\n",
       "</style>\n",
       "<table border=\"1\" class=\"dataframe\">\n",
       "  <thead>\n",
       "    <tr style=\"text-align: right;\">\n",
       "      <th></th>\n",
       "      <th>Full Name</th>\n",
       "      <th>W</th>\n",
       "      <th>L</th>\n",
       "      <th>D</th>\n",
       "      <th>NC</th>\n",
       "      <th>Height</th>\n",
       "      <th>Weight</th>\n",
       "      <th>Reach</th>\n",
       "      <th>Stance</th>\n",
       "      <th>SLpM</th>\n",
       "      <th>StrAcc</th>\n",
       "      <th>SApM</th>\n",
       "      <th>StrDef</th>\n",
       "      <th>TdAvg</th>\n",
       "      <th>TdAcc</th>\n",
       "      <th>TdDef</th>\n",
       "      <th>SubAvg</th>\n",
       "      <th>Age</th>\n",
       "    </tr>\n",
       "    <tr>\n",
       "      <th>Index</th>\n",
       "      <th></th>\n",
       "      <th></th>\n",
       "      <th></th>\n",
       "      <th></th>\n",
       "      <th></th>\n",
       "      <th></th>\n",
       "      <th></th>\n",
       "      <th></th>\n",
       "      <th></th>\n",
       "      <th></th>\n",
       "      <th></th>\n",
       "      <th></th>\n",
       "      <th></th>\n",
       "      <th></th>\n",
       "      <th></th>\n",
       "      <th></th>\n",
       "      <th></th>\n",
       "      <th></th>\n",
       "    </tr>\n",
       "  </thead>\n",
       "  <tbody>\n",
       "    <tr>\n",
       "      <th>0</th>\n",
       "      <td>Aalon Cruz</td>\n",
       "      <td>0</td>\n",
       "      <td>1</td>\n",
       "      <td>0</td>\n",
       "      <td>0</td>\n",
       "      <td>6' 0\"</td>\n",
       "      <td>145.0</td>\n",
       "      <td>78.0</td>\n",
       "      <td>Switch</td>\n",
       "      <td>7.58</td>\n",
       "      <td>39</td>\n",
       "      <td>8.88</td>\n",
       "      <td>58</td>\n",
       "      <td>0.00</td>\n",
       "      <td>0</td>\n",
       "      <td>0</td>\n",
       "      <td>0.0</td>\n",
       "      <td>31.0</td>\n",
       "    </tr>\n",
       "    <tr>\n",
       "      <th>1</th>\n",
       "      <td>Aalon Cruz</td>\n",
       "      <td>0</td>\n",
       "      <td>1</td>\n",
       "      <td>0</td>\n",
       "      <td>0</td>\n",
       "      <td>6' 0\"</td>\n",
       "      <td>145.0</td>\n",
       "      <td>78.0</td>\n",
       "      <td>Switch</td>\n",
       "      <td>7.58</td>\n",
       "      <td>39</td>\n",
       "      <td>8.88</td>\n",
       "      <td>58</td>\n",
       "      <td>0.00</td>\n",
       "      <td>0</td>\n",
       "      <td>0</td>\n",
       "      <td>0.0</td>\n",
       "      <td>30.0</td>\n",
       "    </tr>\n",
       "    <tr>\n",
       "      <th>2</th>\n",
       "      <td>Aaron Brink</td>\n",
       "      <td>0</td>\n",
       "      <td>1</td>\n",
       "      <td>0</td>\n",
       "      <td>0</td>\n",
       "      <td>6' 3\"</td>\n",
       "      <td>205.0</td>\n",
       "      <td>0.0</td>\n",
       "      <td>Orthodox</td>\n",
       "      <td>3.49</td>\n",
       "      <td>42</td>\n",
       "      <td>5.71</td>\n",
       "      <td>57</td>\n",
       "      <td>0.00</td>\n",
       "      <td>0</td>\n",
       "      <td>0</td>\n",
       "      <td>0.0</td>\n",
       "      <td>26.0</td>\n",
       "    </tr>\n",
       "    <tr>\n",
       "      <th>3</th>\n",
       "      <td>Aaron Phillips</td>\n",
       "      <td>0</td>\n",
       "      <td>1</td>\n",
       "      <td>0</td>\n",
       "      <td>0</td>\n",
       "      <td>5' 9\"</td>\n",
       "      <td>135.0</td>\n",
       "      <td>71.0</td>\n",
       "      <td>Southpaw</td>\n",
       "      <td>1.65</td>\n",
       "      <td>56</td>\n",
       "      <td>3.44</td>\n",
       "      <td>39</td>\n",
       "      <td>0.00</td>\n",
       "      <td>0</td>\n",
       "      <td>44</td>\n",
       "      <td>0.4</td>\n",
       "      <td>25.0</td>\n",
       "    </tr>\n",
       "    <tr>\n",
       "      <th>4</th>\n",
       "      <td>Aaron Phillips</td>\n",
       "      <td>0</td>\n",
       "      <td>1</td>\n",
       "      <td>0</td>\n",
       "      <td>0</td>\n",
       "      <td>5' 9\"</td>\n",
       "      <td>135.0</td>\n",
       "      <td>71.0</td>\n",
       "      <td>Southpaw</td>\n",
       "      <td>1.65</td>\n",
       "      <td>56</td>\n",
       "      <td>3.44</td>\n",
       "      <td>39</td>\n",
       "      <td>0.00</td>\n",
       "      <td>0</td>\n",
       "      <td>44</td>\n",
       "      <td>0.4</td>\n",
       "      <td>30.0</td>\n",
       "    </tr>\n",
       "    <tr>\n",
       "      <th>...</th>\n",
       "      <td>...</td>\n",
       "      <td>...</td>\n",
       "      <td>...</td>\n",
       "      <td>...</td>\n",
       "      <td>...</td>\n",
       "      <td>...</td>\n",
       "      <td>...</td>\n",
       "      <td>...</td>\n",
       "      <td>...</td>\n",
       "      <td>...</td>\n",
       "      <td>...</td>\n",
       "      <td>...</td>\n",
       "      <td>...</td>\n",
       "      <td>...</td>\n",
       "      <td>...</td>\n",
       "      <td>...</td>\n",
       "      <td>...</td>\n",
       "      <td>...</td>\n",
       "    </tr>\n",
       "    <tr>\n",
       "      <th>12151</th>\n",
       "      <td>Zubaira Tukhugov</td>\n",
       "      <td>1</td>\n",
       "      <td>0</td>\n",
       "      <td>0</td>\n",
       "      <td>0</td>\n",
       "      <td>5' 8\"</td>\n",
       "      <td>145.0</td>\n",
       "      <td>68.0</td>\n",
       "      <td>Orthodox</td>\n",
       "      <td>2.54</td>\n",
       "      <td>38</td>\n",
       "      <td>2.53</td>\n",
       "      <td>63</td>\n",
       "      <td>2.54</td>\n",
       "      <td>46</td>\n",
       "      <td>100</td>\n",
       "      <td>0.0</td>\n",
       "      <td>23.0</td>\n",
       "    </tr>\n",
       "    <tr>\n",
       "      <th>12152</th>\n",
       "      <td>Zubaira Tukhugov</td>\n",
       "      <td>0</td>\n",
       "      <td>1</td>\n",
       "      <td>0</td>\n",
       "      <td>0</td>\n",
       "      <td>5' 8\"</td>\n",
       "      <td>145.0</td>\n",
       "      <td>68.0</td>\n",
       "      <td>Orthodox</td>\n",
       "      <td>2.54</td>\n",
       "      <td>38</td>\n",
       "      <td>2.53</td>\n",
       "      <td>63</td>\n",
       "      <td>2.54</td>\n",
       "      <td>46</td>\n",
       "      <td>100</td>\n",
       "      <td>0.0</td>\n",
       "      <td>25.0</td>\n",
       "    </tr>\n",
       "    <tr>\n",
       "      <th>12153</th>\n",
       "      <td>Zubaira Tukhugov</td>\n",
       "      <td>0</td>\n",
       "      <td>0</td>\n",
       "      <td>1</td>\n",
       "      <td>0</td>\n",
       "      <td>5' 8\"</td>\n",
       "      <td>145.0</td>\n",
       "      <td>68.0</td>\n",
       "      <td>Orthodox</td>\n",
       "      <td>2.54</td>\n",
       "      <td>38</td>\n",
       "      <td>2.53</td>\n",
       "      <td>63</td>\n",
       "      <td>2.54</td>\n",
       "      <td>46</td>\n",
       "      <td>100</td>\n",
       "      <td>0.0</td>\n",
       "      <td>28.0</td>\n",
       "    </tr>\n",
       "    <tr>\n",
       "      <th>12154</th>\n",
       "      <td>Zubaira Tukhugov</td>\n",
       "      <td>1</td>\n",
       "      <td>0</td>\n",
       "      <td>0</td>\n",
       "      <td>0</td>\n",
       "      <td>5' 8\"</td>\n",
       "      <td>145.0</td>\n",
       "      <td>68.0</td>\n",
       "      <td>Orthodox</td>\n",
       "      <td>2.54</td>\n",
       "      <td>38</td>\n",
       "      <td>2.53</td>\n",
       "      <td>63</td>\n",
       "      <td>2.54</td>\n",
       "      <td>46</td>\n",
       "      <td>100</td>\n",
       "      <td>0.0</td>\n",
       "      <td>24.0</td>\n",
       "    </tr>\n",
       "    <tr>\n",
       "      <th>12155</th>\n",
       "      <td>Zubaira Tukhugov</td>\n",
       "      <td>0</td>\n",
       "      <td>1</td>\n",
       "      <td>0</td>\n",
       "      <td>0</td>\n",
       "      <td>5' 8\"</td>\n",
       "      <td>145.0</td>\n",
       "      <td>68.0</td>\n",
       "      <td>Orthodox</td>\n",
       "      <td>2.54</td>\n",
       "      <td>38</td>\n",
       "      <td>2.53</td>\n",
       "      <td>63</td>\n",
       "      <td>2.54</td>\n",
       "      <td>46</td>\n",
       "      <td>100</td>\n",
       "      <td>0.0</td>\n",
       "      <td>29.0</td>\n",
       "    </tr>\n",
       "  </tbody>\n",
       "</table>\n",
       "<p>12156 rows × 18 columns</p>\n",
       "</div>"
      ],
      "text/plain": [
       "              Full Name  W  L  D  NC Height  Weight  Reach    Stance  SLpM  \\\n",
       "Index                                                                        \n",
       "0            Aalon Cruz  0  1  0   0  6' 0\"   145.0   78.0    Switch  7.58   \n",
       "1            Aalon Cruz  0  1  0   0  6' 0\"   145.0   78.0    Switch  7.58   \n",
       "2           Aaron Brink  0  1  0   0  6' 3\"   205.0    0.0  Orthodox  3.49   \n",
       "3        Aaron Phillips  0  1  0   0  5' 9\"   135.0   71.0  Southpaw  1.65   \n",
       "4        Aaron Phillips  0  1  0   0  5' 9\"   135.0   71.0  Southpaw  1.65   \n",
       "...                 ... .. .. ..  ..    ...     ...    ...       ...   ...   \n",
       "12151  Zubaira Tukhugov  1  0  0   0  5' 8\"   145.0   68.0  Orthodox  2.54   \n",
       "12152  Zubaira Tukhugov  0  1  0   0  5' 8\"   145.0   68.0  Orthodox  2.54   \n",
       "12153  Zubaira Tukhugov  0  0  1   0  5' 8\"   145.0   68.0  Orthodox  2.54   \n",
       "12154  Zubaira Tukhugov  1  0  0   0  5' 8\"   145.0   68.0  Orthodox  2.54   \n",
       "12155  Zubaira Tukhugov  0  1  0   0  5' 8\"   145.0   68.0  Orthodox  2.54   \n",
       "\n",
       "       StrAcc  SApM  StrDef  TdAvg  TdAcc  TdDef  SubAvg   Age  \n",
       "Index                                                           \n",
       "0          39  8.88      58   0.00      0      0     0.0  31.0  \n",
       "1          39  8.88      58   0.00      0      0     0.0  30.0  \n",
       "2          42  5.71      57   0.00      0      0     0.0  26.0  \n",
       "3          56  3.44      39   0.00      0     44     0.4  25.0  \n",
       "4          56  3.44      39   0.00      0     44     0.4  30.0  \n",
       "...       ...   ...     ...    ...    ...    ...     ...   ...  \n",
       "12151      38  2.53      63   2.54     46    100     0.0  23.0  \n",
       "12152      38  2.53      63   2.54     46    100     0.0  25.0  \n",
       "12153      38  2.53      63   2.54     46    100     0.0  28.0  \n",
       "12154      38  2.53      63   2.54     46    100     0.0  24.0  \n",
       "12155      38  2.53      63   2.54     46    100     0.0  29.0  \n",
       "\n",
       "[12156 rows x 18 columns]"
      ]
     },
     "execution_count": 8,
     "metadata": {},
     "output_type": "execute_result"
    }
   ],
   "source": [
    "\n",
    "\n",
    "# Lista de columnas relevantes para el análisis\n",
    "columnas_relevantes = [\n",
    "    'Full Name', 'W', 'L', 'D', 'NC',\n",
    "    'Height', 'Weight', 'Reach', 'Stance',\n",
    "    'SLpM', 'StrAcc', 'SApM', 'StrDef',\n",
    "    'TdAvg', 'TdAcc', 'TdDef', 'SubAvg',\n",
    "    'Age'\n",
    "]\n",
    "\n",
    "# Crear un nuevo DataFrame con las columnas relevantes\n",
    "nuevo_df = df[columnas_relevantes]\n",
    "\n",
    "# Realizar cualquier otro procesamiento que necesites en este nuevo DataFrame\n",
    "\n",
    "# Por ejemplo, para mostrar las primeras 5 filas del nuevo DataFrame:\n",
    "nuevo_df"
   ]
  },
  {
   "cell_type": "code",
   "execution_count": 27,
   "metadata": {},
   "outputs": [
    {
     "name": "stderr",
     "output_type": "stream",
     "text": [
      "C:\\Users\\Nicolas\\AppData\\Local\\Temp\\ipykernel_3040\\549217888.py:18: SettingWithCopyWarning:\n",
      "\n",
      "\n",
      "A value is trying to be set on a copy of a slice from a DataFrame.\n",
      "Try using .loc[row_indexer,col_indexer] = value instead\n",
      "\n",
      "See the caveats in the documentation: https://pandas.pydata.org/pandas-docs/stable/user_guide/indexing.html#returning-a-view-versus-a-copy\n",
      "\n"
     ]
    },
    {
     "data": {
      "text/html": [
       "<div>\n",
       "<style scoped>\n",
       "    .dataframe tbody tr th:only-of-type {\n",
       "        vertical-align: middle;\n",
       "    }\n",
       "\n",
       "    .dataframe tbody tr th {\n",
       "        vertical-align: top;\n",
       "    }\n",
       "\n",
       "    .dataframe thead th {\n",
       "        text-align: right;\n",
       "    }\n",
       "</style>\n",
       "<table border=\"1\" class=\"dataframe\">\n",
       "  <thead>\n",
       "    <tr style=\"text-align: right;\">\n",
       "      <th></th>\n",
       "      <th>Full Name</th>\n",
       "      <th>W</th>\n",
       "      <th>L</th>\n",
       "      <th>D</th>\n",
       "      <th>NC</th>\n",
       "      <th>Height</th>\n",
       "      <th>Weight</th>\n",
       "      <th>Reach</th>\n",
       "      <th>Stance</th>\n",
       "      <th>SLpM</th>\n",
       "      <th>StrAcc</th>\n",
       "      <th>SApM</th>\n",
       "      <th>StrDef</th>\n",
       "      <th>TdAvg</th>\n",
       "      <th>TdAcc</th>\n",
       "      <th>TdDef</th>\n",
       "      <th>SubAvg</th>\n",
       "      <th>Age</th>\n",
       "    </tr>\n",
       "  </thead>\n",
       "  <tbody>\n",
       "    <tr>\n",
       "      <th>0</th>\n",
       "      <td>Aalon Cruz</td>\n",
       "      <td>0</td>\n",
       "      <td>2</td>\n",
       "      <td>0</td>\n",
       "      <td>0</td>\n",
       "      <td>NaN</td>\n",
       "      <td>145.0</td>\n",
       "      <td>78.0</td>\n",
       "      <td>Switch</td>\n",
       "      <td>7.58</td>\n",
       "      <td>39.0</td>\n",
       "      <td>8.88</td>\n",
       "      <td>58.0</td>\n",
       "      <td>0.00</td>\n",
       "      <td>0.0</td>\n",
       "      <td>0.0</td>\n",
       "      <td>0.0</td>\n",
       "      <td>30.500000</td>\n",
       "    </tr>\n",
       "    <tr>\n",
       "      <th>1</th>\n",
       "      <td>Aaron Brink</td>\n",
       "      <td>0</td>\n",
       "      <td>1</td>\n",
       "      <td>0</td>\n",
       "      <td>0</td>\n",
       "      <td>NaN</td>\n",
       "      <td>205.0</td>\n",
       "      <td>NaN</td>\n",
       "      <td>Orthodox</td>\n",
       "      <td>3.49</td>\n",
       "      <td>42.0</td>\n",
       "      <td>5.71</td>\n",
       "      <td>57.0</td>\n",
       "      <td>0.00</td>\n",
       "      <td>0.0</td>\n",
       "      <td>0.0</td>\n",
       "      <td>0.0</td>\n",
       "      <td>26.000000</td>\n",
       "    </tr>\n",
       "    <tr>\n",
       "      <th>2</th>\n",
       "      <td>Aaron Phillips</td>\n",
       "      <td>0</td>\n",
       "      <td>3</td>\n",
       "      <td>0</td>\n",
       "      <td>0</td>\n",
       "      <td>NaN</td>\n",
       "      <td>135.0</td>\n",
       "      <td>71.0</td>\n",
       "      <td>Southpaw</td>\n",
       "      <td>1.65</td>\n",
       "      <td>56.0</td>\n",
       "      <td>3.44</td>\n",
       "      <td>39.0</td>\n",
       "      <td>0.00</td>\n",
       "      <td>0.0</td>\n",
       "      <td>44.0</td>\n",
       "      <td>0.4</td>\n",
       "      <td>26.333333</td>\n",
       "    </tr>\n",
       "    <tr>\n",
       "      <th>3</th>\n",
       "      <td>Aaron Riley</td>\n",
       "      <td>3</td>\n",
       "      <td>6</td>\n",
       "      <td>0</td>\n",
       "      <td>0</td>\n",
       "      <td>NaN</td>\n",
       "      <td>155.0</td>\n",
       "      <td>69.0</td>\n",
       "      <td>Southpaw</td>\n",
       "      <td>3.45</td>\n",
       "      <td>34.0</td>\n",
       "      <td>3.78</td>\n",
       "      <td>61.0</td>\n",
       "      <td>1.18</td>\n",
       "      <td>34.0</td>\n",
       "      <td>60.0</td>\n",
       "      <td>0.1</td>\n",
       "      <td>27.555556</td>\n",
       "    </tr>\n",
       "    <tr>\n",
       "      <th>4</th>\n",
       "      <td>Aaron Rosa</td>\n",
       "      <td>1</td>\n",
       "      <td>2</td>\n",
       "      <td>0</td>\n",
       "      <td>0</td>\n",
       "      <td>NaN</td>\n",
       "      <td>205.0</td>\n",
       "      <td>77.0</td>\n",
       "      <td>Orthodox</td>\n",
       "      <td>4.03</td>\n",
       "      <td>47.0</td>\n",
       "      <td>4.41</td>\n",
       "      <td>45.0</td>\n",
       "      <td>0.36</td>\n",
       "      <td>33.0</td>\n",
       "      <td>85.0</td>\n",
       "      <td>0.4</td>\n",
       "      <td>28.000000</td>\n",
       "    </tr>\n",
       "    <tr>\n",
       "      <th>...</th>\n",
       "      <td>...</td>\n",
       "      <td>...</td>\n",
       "      <td>...</td>\n",
       "      <td>...</td>\n",
       "      <td>...</td>\n",
       "      <td>...</td>\n",
       "      <td>...</td>\n",
       "      <td>...</td>\n",
       "      <td>...</td>\n",
       "      <td>...</td>\n",
       "      <td>...</td>\n",
       "      <td>...</td>\n",
       "      <td>...</td>\n",
       "      <td>...</td>\n",
       "      <td>...</td>\n",
       "      <td>...</td>\n",
       "      <td>...</td>\n",
       "      <td>...</td>\n",
       "    </tr>\n",
       "    <tr>\n",
       "      <th>2146</th>\n",
       "      <td>Zhalgas Zhumagulov</td>\n",
       "      <td>0</td>\n",
       "      <td>2</td>\n",
       "      <td>0</td>\n",
       "      <td>0</td>\n",
       "      <td>NaN</td>\n",
       "      <td>125.0</td>\n",
       "      <td>66.0</td>\n",
       "      <td>Switch</td>\n",
       "      <td>4.17</td>\n",
       "      <td>49.0</td>\n",
       "      <td>4.00</td>\n",
       "      <td>58.0</td>\n",
       "      <td>1.50</td>\n",
       "      <td>21.0</td>\n",
       "      <td>33.0</td>\n",
       "      <td>0.0</td>\n",
       "      <td>31.500000</td>\n",
       "    </tr>\n",
       "    <tr>\n",
       "      <th>2147</th>\n",
       "      <td>Zhang Lipeng</td>\n",
       "      <td>2</td>\n",
       "      <td>2</td>\n",
       "      <td>0</td>\n",
       "      <td>0</td>\n",
       "      <td>NaN</td>\n",
       "      <td>155.0</td>\n",
       "      <td>71.0</td>\n",
       "      <td>Southpaw</td>\n",
       "      <td>1.28</td>\n",
       "      <td>48.0</td>\n",
       "      <td>1.88</td>\n",
       "      <td>53.0</td>\n",
       "      <td>1.75</td>\n",
       "      <td>30.0</td>\n",
       "      <td>69.0</td>\n",
       "      <td>0.8</td>\n",
       "      <td>24.000000</td>\n",
       "    </tr>\n",
       "    <tr>\n",
       "      <th>2148</th>\n",
       "      <td>Zhang Tiequan</td>\n",
       "      <td>1</td>\n",
       "      <td>3</td>\n",
       "      <td>0</td>\n",
       "      <td>0</td>\n",
       "      <td>NaN</td>\n",
       "      <td>155.0</td>\n",
       "      <td>69.0</td>\n",
       "      <td>Orthodox</td>\n",
       "      <td>1.23</td>\n",
       "      <td>36.0</td>\n",
       "      <td>2.14</td>\n",
       "      <td>51.0</td>\n",
       "      <td>1.95</td>\n",
       "      <td>58.0</td>\n",
       "      <td>75.0</td>\n",
       "      <td>3.4</td>\n",
       "      <td>33.000000</td>\n",
       "    </tr>\n",
       "    <tr>\n",
       "      <th>2149</th>\n",
       "      <td>Zhang Weili</td>\n",
       "      <td>5</td>\n",
       "      <td>1</td>\n",
       "      <td>0</td>\n",
       "      <td>0</td>\n",
       "      <td>NaN</td>\n",
       "      <td>115.0</td>\n",
       "      <td>63.0</td>\n",
       "      <td>Switch</td>\n",
       "      <td>6.36</td>\n",
       "      <td>45.0</td>\n",
       "      <td>4.42</td>\n",
       "      <td>53.0</td>\n",
       "      <td>1.24</td>\n",
       "      <td>23.0</td>\n",
       "      <td>100.0</td>\n",
       "      <td>0.5</td>\n",
       "      <td>29.500000</td>\n",
       "    </tr>\n",
       "    <tr>\n",
       "      <th>2150</th>\n",
       "      <td>Zubaira Tukhugov</td>\n",
       "      <td>4</td>\n",
       "      <td>2</td>\n",
       "      <td>1</td>\n",
       "      <td>0</td>\n",
       "      <td>NaN</td>\n",
       "      <td>145.0</td>\n",
       "      <td>68.0</td>\n",
       "      <td>Orthodox</td>\n",
       "      <td>2.54</td>\n",
       "      <td>38.0</td>\n",
       "      <td>2.53</td>\n",
       "      <td>63.0</td>\n",
       "      <td>2.54</td>\n",
       "      <td>46.0</td>\n",
       "      <td>100.0</td>\n",
       "      <td>0.0</td>\n",
       "      <td>25.857143</td>\n",
       "    </tr>\n",
       "  </tbody>\n",
       "</table>\n",
       "<p>2151 rows × 18 columns</p>\n",
       "</div>"
      ],
      "text/plain": [
       "               Full Name  W  L  D  NC Height  Weight  Reach    Stance  SLpM  \\\n",
       "0             Aalon Cruz  0  2  0   0    NaN   145.0   78.0    Switch  7.58   \n",
       "1            Aaron Brink  0  1  0   0    NaN   205.0    NaN  Orthodox  3.49   \n",
       "2         Aaron Phillips  0  3  0   0    NaN   135.0   71.0  Southpaw  1.65   \n",
       "3            Aaron Riley  3  6  0   0    NaN   155.0   69.0  Southpaw  3.45   \n",
       "4             Aaron Rosa  1  2  0   0    NaN   205.0   77.0  Orthodox  4.03   \n",
       "...                  ... .. .. ..  ..    ...     ...    ...       ...   ...   \n",
       "2146  Zhalgas Zhumagulov  0  2  0   0    NaN   125.0   66.0    Switch  4.17   \n",
       "2147        Zhang Lipeng  2  2  0   0    NaN   155.0   71.0  Southpaw  1.28   \n",
       "2148       Zhang Tiequan  1  3  0   0    NaN   155.0   69.0  Orthodox  1.23   \n",
       "2149         Zhang Weili  5  1  0   0    NaN   115.0   63.0    Switch  6.36   \n",
       "2150    Zubaira Tukhugov  4  2  1   0    NaN   145.0   68.0  Orthodox  2.54   \n",
       "\n",
       "      StrAcc  SApM  StrDef  TdAvg  TdAcc  TdDef  SubAvg        Age  \n",
       "0       39.0  8.88    58.0   0.00    0.0    0.0     0.0  30.500000  \n",
       "1       42.0  5.71    57.0   0.00    0.0    0.0     0.0  26.000000  \n",
       "2       56.0  3.44    39.0   0.00    0.0   44.0     0.4  26.333333  \n",
       "3       34.0  3.78    61.0   1.18   34.0   60.0     0.1  27.555556  \n",
       "4       47.0  4.41    45.0   0.36   33.0   85.0     0.4  28.000000  \n",
       "...      ...   ...     ...    ...    ...    ...     ...        ...  \n",
       "2146    49.0  4.00    58.0   1.50   21.0   33.0     0.0  31.500000  \n",
       "2147    48.0  1.88    53.0   1.75   30.0   69.0     0.8  24.000000  \n",
       "2148    36.0  2.14    51.0   1.95   58.0   75.0     3.4  33.000000  \n",
       "2149    45.0  4.42    53.0   1.24   23.0  100.0     0.5  29.500000  \n",
       "2150    38.0  2.53    63.0   2.54   46.0  100.0     0.0  25.857143  \n",
       "\n",
       "[2151 rows x 18 columns]"
      ]
     },
     "execution_count": 27,
     "metadata": {},
     "output_type": "execute_result"
    }
   ],
   "source": [
    "import pandas as pd\n",
    "import re\n",
    "\n",
    "# Lista de columnas relevantes para el análisis\n",
    "columnas_relevantes = [\n",
    "    'Full Name', 'W', 'L', 'D', 'NC',\n",
    "    'Height', 'Weight', 'Reach', 'Stance',\n",
    "    'SLpM', 'StrAcc', 'SApM', 'StrDef',\n",
    "    'TdAvg', 'TdAcc', 'TdDef', 'SubAvg',\n",
    "    'Age'\n",
    "]\n",
    "\n",
    "# Crear un nuevo DataFrame con las columnas relevantes\n",
    "nuevo_df = df[columnas_relevantes]\n",
    "\n",
    "# Convertir las columnas numéricas a números flotantes (para manejar NaN)\n",
    "columnas_numericas = ['W', 'L', 'D', 'NC', 'Height', 'Weight', 'Reach', 'SLpM', 'StrAcc', 'SApM', 'StrDef', 'TdAvg', 'TdAcc', 'TdDef', 'SubAvg', 'Age']\n",
    "nuevo_df[columnas_numericas] = nuevo_df[columnas_numericas].apply(pd.to_numeric, errors='coerce')\n",
    "\n",
    "# Agrupar por nombre del luchador y aplicar funciones de agregación\n",
    "nuevo_df = nuevo_df.groupby('Full Name').agg({\n",
    "    'W': 'sum',\n",
    "    'L': 'sum',\n",
    "    'D': 'sum',\n",
    "    'NC': 'sum',\n",
    "    'Height': 'first',\n",
    "    'Weight': 'first',\n",
    "    'Reach': 'first',\n",
    "    'Stance': 'first',\n",
    "    'SLpM': 'mean',\n",
    "    'StrAcc': 'mean',\n",
    "    'SApM': 'mean',\n",
    "    'StrDef': 'mean',\n",
    "    'TdAvg': 'mean',\n",
    "    'TdAcc': 'mean',\n",
    "    'TdDef': 'mean',\n",
    "    'SubAvg': 'mean',\n",
    "    'Age': 'mean'\n",
    "}).reset_index()\n",
    "\n",
    "# Función para limpiar la columna 'Height'\n",
    "def clean_height(height):\n",
    "    if isinstance(height, str):\n",
    "        # Usar una expresión regular para extraer solo dígitos y comas\n",
    "        cleaned_height = re.sub(r'[^\\d\\']', '', height)\n",
    "        return cleaned_height\n",
    "\n",
    "# Aplicar limpieza a la columna 'Height'\n",
    "nuevo_df['Height'] = nuevo_df['Height'].apply(clean_height)\n",
    "\n",
    "# Luego, convierte la columna 'Height' a pies como un número decimal\n",
    "def convert_height(height):\n",
    "    if isinstance(height, str) and \"'\" in height:\n",
    "        feet, inches = height.split(\"'\")\n",
    "        feet = int(feet)\n",
    "        inches = int(inches.replace(\"\\\"\", \"\"))\n",
    "        total_feet = feet + inches / 12.0  # 1 pie = 12 pulgadas\n",
    "        return round(total_feet, 2)\n",
    "    else:\n",
    "        return pd.NA\n",
    "\n",
    "nuevo_df['Height'] = nuevo_df['Height'].apply(convert_height)\n",
    "\n",
    "# Visualizar el nuevo DataFrame\n",
    "nuevo_df\n"
   ]
  }
 ],
 "metadata": {
  "kernelspec": {
   "display_name": "Python 3",
   "language": "python",
   "name": "python3"
  },
  "language_info": {
   "codemirror_mode": {
    "name": "ipython",
    "version": 3
   },
   "file_extension": ".py",
   "mimetype": "text/x-python",
   "name": "python",
   "nbconvert_exporter": "python",
   "pygments_lexer": "ipython3",
   "version": "3.11.3"
  }
 },
 "nbformat": 4,
 "nbformat_minor": 2
}
